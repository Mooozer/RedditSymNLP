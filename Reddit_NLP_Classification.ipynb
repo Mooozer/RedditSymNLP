{
 "cells": [
  {
   "cell_type": "markdown",
   "id": "written-duration",
   "metadata": {
    "id": "quantitative-turtle"
   },
   "source": [
    "# Reddit"
   ]
  },
  {
   "cell_type": "code",
   "execution_count": 2,
   "id": "every-baking",
   "metadata": {
    "id": "suspected-nerve"
   },
   "outputs": [],
   "source": [
    "import numpy as np\n",
    "import pandas as pd\n",
    "import tensorflow as tf\n",
    "import matplotlib.pyplot as plt\n",
    "from matplotlib.pyplot import figure"
   ]
  },
  {
   "cell_type": "code",
   "execution_count": 16,
   "id": "reserved-generator",
   "metadata": {
    "colab": {
     "base_uri": "https://localhost:8080/"
    },
    "id": "usual-boost",
    "outputId": "2f6313e7-7f02-42f7-dd7f-10ca73811a68"
   },
   "outputs": [
    {
     "name": "stdout",
     "output_type": "stream",
     "text": [
      "No GPU available, using the CPU instead.\n"
     ]
    }
   ],
   "source": [
    "# !pip install PyTorch\n",
    "import torch\n",
    "\n",
    "# If there's a GPU available...\n",
    "if torch.cuda.is_available():    \n",
    "\n",
    "    # Tell PyTorch to use the GPU.    \n",
    "    device = torch.device(\"cuda\")\n",
    "\n",
    "    print('There are %d GPU(s) available.' % torch.cuda.device_count())\n",
    "\n",
    "    print('We will use the GPU:', torch.cuda.get_device_name(0))\n",
    "\n",
    "# If not...\n",
    "else:\n",
    "    print('No GPU available, using the CPU instead.')\n",
    "    device = torch.device(\"cpu\")"
   ]
  },
  {
   "cell_type": "code",
   "execution_count": 3,
   "id": "overhead-consciousness",
   "metadata": {
    "colab": {
     "base_uri": "https://localhost:8080/"
    },
    "id": "l3tQDBRQ-IAP",
    "outputId": "c0f8bf61-f121-4edb-c837-646eaac1c327"
   },
   "outputs": [
    {
     "name": "stdout",
     "output_type": "stream",
     "text": [
      "E: Package 'python-software-properties' has no installation candidate\n",
      "Selecting previously unselected package google-drive-ocamlfuse.\n",
      "(Reading database ... 155229 files and directories currently installed.)\n",
      "Preparing to unpack .../google-drive-ocamlfuse_0.7.27-0ubuntu1~ubuntu18.04.1_amd64.deb ...\n",
      "Unpacking google-drive-ocamlfuse (0.7.27-0ubuntu1~ubuntu18.04.1) ...\n",
      "Setting up google-drive-ocamlfuse (0.7.27-0ubuntu1~ubuntu18.04.1) ...\n",
      "Processing triggers for man-db (2.8.3-2ubuntu0.1) ...\n",
      "Please, open the following URL in a web browser: https://accounts.google.com/o/oauth2/auth?client_id=32555940559.apps.googleusercontent.com&redirect_uri=urn%3Aietf%3Awg%3Aoauth%3A2.0%3Aoob&scope=https%3A%2F%2Fwww.googleapis.com%2Fauth%2Fdrive&response_type=code&access_type=offline&approval_prompt=force\n",
      "··········\n",
      "Please, open the following URL in a web browser: https://accounts.google.com/o/oauth2/auth?client_id=32555940559.apps.googleusercontent.com&redirect_uri=urn%3Aietf%3Awg%3Aoauth%3A2.0%3Aoob&scope=https%3A%2F%2Fwww.googleapis.com%2Fauth%2Fdrive&response_type=code&access_type=offline&approval_prompt=force\n",
      "Please enter the verification code: Access token retrieved correctly.\n",
      "/content\n",
      "/content/drive\n",
      "/content\n",
      "/\n"
     ]
    }
   ],
   "source": [
    "# from google.colab import drive\n",
    "# drive.mount('/content/drive')\n",
    "# or \n",
    "# !apt-get install -y -qq software-properties-common python-software-properties module-init-tools\n",
    "# !add-apt-repository -y ppa:alessandro-strada/ppa 2>&1 > /dev/null\n",
    "# !apt-get update -qq 2>&1 > /dev/null\n",
    "# !apt-get -y install -qq google-drive-ocamlfuse fuse\n",
    "# from google.colab import auth\n",
    "# auth.authenticate_user()\n",
    "# from oauth2client.client import GoogleCredentials\n",
    "# creds = GoogleCredentials.get_application_default()\n",
    "# import getpass\n",
    "# !google-drive-ocamlfuse -headless -id={creds.client_id} -secret={creds.client_secret} < /dev/null 2>&1 | grep URL\n",
    "# vcode = getpass.getpass()\n",
    "# !echo {vcode} | google-drive-ocamlfuse -headless -id={creds.client_id} -secret={creds.client_secret}\n",
    "# %cd /content\n",
    "# !mkdir drive\n",
    "# %cd drive\n",
    "# !mkdir MyDrive\n",
    "# %cd ..\n",
    "# %cd ..\n",
    "# !google-drive-ocamlfuse /content/drive/MyDrive"
   ]
  },
  {
   "cell_type": "code",
   "execution_count": 3,
   "id": "environmental-twenty",
   "metadata": {
    "id": "polyphonic-surgery"
   },
   "outputs": [],
   "source": [
    "# for local:\n",
    "Filtered_OP_and_Comments = pd.read_excel (r'/Users/muzheguo/Desktop/GWU/Group/MyPaper/fda_intern/data/Reddit NLP Project Dataset.xlsx', sheet_name = 'Filtered NVIVO OP and comments')\n",
    "Filtered_Authors_Classification = pd.read_excel (r'/Users/muzheguo/Desktop/GWU/Group/MyPaper/fda_intern/data/Reddit NLP Project Dataset.xlsx', sheet_name = 'Filtered Authors Classification')\n",
    "# for colab:\n",
    "# Filtered_OP_and_Comments = pd.read_excel (r'/content/drive/MyDrive/Colab_Notebooks/Reddit_NLP/data/Reddit NLP Project Dataset.xlsx', sheet_name = 'Filtered NVIVO OP and comments')\n",
    "# Filtered_Authors_Classification = pd.read_excel (r'/content/drive/MyDrive/Colab_Notebooks/Reddit_NLP/data/Reddit NLP Project Dataset.xlsx', sheet_name = 'Filtered Authors Classification')"
   ]
  },
  {
   "cell_type": "code",
   "execution_count": 12,
   "id": "athletic-navigator",
   "metadata": {
    "colab": {
     "base_uri": "https://localhost:8080/",
     "height": 274
    },
    "id": "informed-enemy",
    "outputId": "d81974a5-1f84-45a3-e06f-27a6627fbdca"
   },
   "outputs": [
    {
     "name": "stdout",
     "output_type": "stream",
     "text": [
      "there are 31337 comments\n"
     ]
    },
    {
     "data": {
      "text/html": [
       "<div>\n",
       "<style scoped>\n",
       "    .dataframe tbody tr th:only-of-type {\n",
       "        vertical-align: middle;\n",
       "    }\n",
       "\n",
       "    .dataframe tbody tr th {\n",
       "        vertical-align: top;\n",
       "    }\n",
       "\n",
       "    .dataframe thead th {\n",
       "        text-align: right;\n",
       "    }\n",
       "</style>\n",
       "<table border=\"1\" class=\"dataframe\">\n",
       "  <thead>\n",
       "    <tr style=\"text-align: right;\">\n",
       "      <th></th>\n",
       "      <th>author</th>\n",
       "      <th>date</th>\n",
       "      <th>number of responses</th>\n",
       "      <th>link</th>\n",
       "      <th>body</th>\n",
       "      <th>title</th>\n",
       "      <th>flair</th>\n",
       "      <th>concat</th>\n",
       "    </tr>\n",
       "  </thead>\n",
       "  <tbody>\n",
       "    <tr>\n",
       "      <th>0</th>\n",
       "      <td>2000-06-10 00:00:00</td>\n",
       "      <td>2020-05-02 17:35:08</td>\n",
       "      <td>0</td>\n",
       "      <td>/r/COVID19positive/comments/gc03vq/stabbing_pa...</td>\n",
       "      <td>stabbing pains in my stomach and chest. you ar...</td>\n",
       "      <td>comment</td>\n",
       "      <td>comment</td>\n",
       "      <td>comment\\n\\nstabbing pains in my stomach and ch...</td>\n",
       "    </tr>\n",
       "    <tr>\n",
       "      <th>1</th>\n",
       "      <td>2000-06-10 00:00:00</td>\n",
       "      <td>2020-05-04 14:47:34</td>\n",
       "      <td>0</td>\n",
       "      <td>/r/COVID19positive/comments/gd6cr8/what_were_f...</td>\n",
       "      <td>extreme light headedness, headache, and everyt...</td>\n",
       "      <td>comment</td>\n",
       "      <td>comment</td>\n",
       "      <td>comment\\n\\nextreme light headedness, headache,...</td>\n",
       "    </tr>\n",
       "    <tr>\n",
       "      <th>2</th>\n",
       "      <td>2000-06-10 00:00:00</td>\n",
       "      <td>2020-05-04 14:05:42</td>\n",
       "      <td>8</td>\n",
       "      <td>/r/COVID19positive/comments/gdc7lv/covid19_has...</td>\n",
       "      <td>What can i do about this? pretty straightforwa...</td>\n",
       "      <td>covid-19 has fucked up my last grade card for ...</td>\n",
       "      <td>Tested Positive - Me</td>\n",
       "      <td>covid-19 has fucked up my last grade card for ...</td>\n",
       "    </tr>\n",
       "  </tbody>\n",
       "</table>\n",
       "</div>"
      ],
      "text/plain": [
       "                author                date  number of responses  \\\n",
       "0  2000-06-10 00:00:00 2020-05-02 17:35:08                    0   \n",
       "1  2000-06-10 00:00:00 2020-05-04 14:47:34                    0   \n",
       "2  2000-06-10 00:00:00 2020-05-04 14:05:42                    8   \n",
       "\n",
       "                                                link  \\\n",
       "0  /r/COVID19positive/comments/gc03vq/stabbing_pa...   \n",
       "1  /r/COVID19positive/comments/gd6cr8/what_were_f...   \n",
       "2  /r/COVID19positive/comments/gdc7lv/covid19_has...   \n",
       "\n",
       "                                                body  \\\n",
       "0  stabbing pains in my stomach and chest. you ar...   \n",
       "1  extreme light headedness, headache, and everyt...   \n",
       "2  What can i do about this? pretty straightforwa...   \n",
       "\n",
       "                                               title                 flair  \\\n",
       "0                                            comment               comment   \n",
       "1                                            comment               comment   \n",
       "2  covid-19 has fucked up my last grade card for ...  Tested Positive - Me   \n",
       "\n",
       "                                              concat  \n",
       "0  comment\\n\\nstabbing pains in my stomach and ch...  \n",
       "1  comment\\n\\nextreme light headedness, headache,...  \n",
       "2  covid-19 has fucked up my last grade card for ...  "
      ]
     },
     "execution_count": 12,
     "metadata": {},
     "output_type": "execute_result"
    }
   ],
   "source": [
    "print('there are %d comments'%(Filtered_OP_and_Comments.shape[0]))\n",
    "Filtered_OP_and_Comments.head(3)"
   ]
  },
  {
   "cell_type": "code",
   "execution_count": 19,
   "id": "swedish-result",
   "metadata": {
    "colab": {
     "base_uri": "https://localhost:8080/",
     "height": 362
    },
    "id": "laden-container",
    "outputId": "222edb75-789b-426c-ef0b-76fc5c88f0f7"
   },
   "outputs": [
    {
     "name": "stdout",
     "output_type": "stream",
     "text": [
      "there are 721 authors\n",
      "-----------------------------------------------------------------\n",
      "Tested Positive             312\n",
      "Unconfirmed/Questionable    205\n",
      "Commenter Only              110\n",
      "Tested Negative              85\n",
      "Moderator                     8\n",
      "Unassigned                    1\n",
      "Name: Classification, dtype: int64\n",
      "-----------------------------------------------------------------\n",
      "comment                                  29711\n",
      "Tested Positive - Me                       567\n",
      "Question-to those who tested positive      387\n",
      "Tested Positive                            200\n",
      "Presumed Positive - From Doctor            162\n",
      "Question-for medical research               81\n",
      "Tested Positive - Family                    48\n",
      "Medical Question                            29\n",
      "Tested Positive - Friends                    8\n",
      "Question                                     6\n",
      "Presumed Positive - From Test                6\n",
      "Announcement                                 5\n",
      "Meta                                         5\n",
      "Removed: Off Topic                           1\n",
      "Name: flair, dtype: int64\n"
     ]
    },
    {
     "data": {
      "text/html": [
       "<div>\n",
       "<style scoped>\n",
       "    .dataframe tbody tr th:only-of-type {\n",
       "        vertical-align: middle;\n",
       "    }\n",
       "\n",
       "    .dataframe tbody tr th {\n",
       "        vertical-align: top;\n",
       "    }\n",
       "\n",
       "    .dataframe thead th {\n",
       "        text-align: right;\n",
       "    }\n",
       "</style>\n",
       "<table border=\"1\" class=\"dataframe\">\n",
       "  <thead>\n",
       "    <tr style=\"text-align: right;\">\n",
       "      <th></th>\n",
       "      <th>Authors</th>\n",
       "      <th>Classification</th>\n",
       "    </tr>\n",
       "  </thead>\n",
       "  <tbody>\n",
       "    <tr>\n",
       "      <th>0</th>\n",
       "      <td>_iwasnotmagnificent_</td>\n",
       "      <td>Tested Positive</td>\n",
       "    </tr>\n",
       "    <tr>\n",
       "      <th>1</th>\n",
       "      <td>_thewa_</td>\n",
       "      <td>Tested Positive</td>\n",
       "    </tr>\n",
       "    <tr>\n",
       "      <th>2</th>\n",
       "      <td>22maxtte44</td>\n",
       "      <td>Commenter Only</td>\n",
       "    </tr>\n",
       "    <tr>\n",
       "      <th>3</th>\n",
       "      <td>2804435</td>\n",
       "      <td>Unconfirmed/Questionable</td>\n",
       "    </tr>\n",
       "    <tr>\n",
       "      <th>4</th>\n",
       "      <td>2b613</td>\n",
       "      <td>Commenter Only</td>\n",
       "    </tr>\n",
       "  </tbody>\n",
       "</table>\n",
       "</div>"
      ],
      "text/plain": [
       "                Authors            Classification\n",
       "0  _iwasnotmagnificent_           Tested Positive\n",
       "1               _thewa_           Tested Positive\n",
       "2            22maxtte44            Commenter Only\n",
       "3               2804435  Unconfirmed/Questionable\n",
       "4                 2b613            Commenter Only"
      ]
     },
     "execution_count": 19,
     "metadata": {},
     "output_type": "execute_result"
    }
   ],
   "source": [
    "print('there are %d authors'%(Filtered_Authors_Classification.shape[0]))\n",
    "print('-----------------------------------------------------------------')\n",
    "print(Filtered_Authors_Classification['Classification'].value_counts())\n",
    "print('-----------------------------------------------------------------')\n",
    "print(Filtered_OP_and_Comments['flair'].value_counts())\n",
    "Filtered_Authors_Classification.head(5)"
   ]
  },
  {
   "cell_type": "markdown",
   "id": "wrapped-exhibit",
   "metadata": {
    "id": "opening-jacob"
   },
   "source": [
    "### Merge data"
   ]
  },
  {
   "cell_type": "code",
   "execution_count": 25,
   "id": "sustainable-showcase",
   "metadata": {
    "colab": {
     "base_uri": "https://localhost:8080/",
     "height": 161
    },
    "id": "stone-cursor",
    "outputId": "c5b510c3-953d-4ccb-a0dc-c9a8b8ccd285",
    "scrolled": true
   },
   "outputs": [
    {
     "name": "stdout",
     "output_type": "stream",
     "text": [
      "there are 31257 comments\n"
     ]
    },
    {
     "data": {
      "text/html": [
       "<div>\n",
       "<style scoped>\n",
       "    .dataframe tbody tr th:only-of-type {\n",
       "        vertical-align: middle;\n",
       "    }\n",
       "\n",
       "    .dataframe tbody tr th {\n",
       "        vertical-align: top;\n",
       "    }\n",
       "\n",
       "    .dataframe thead th {\n",
       "        text-align: right;\n",
       "    }\n",
       "</style>\n",
       "<table border=\"1\" class=\"dataframe\">\n",
       "  <thead>\n",
       "    <tr style=\"text-align: right;\">\n",
       "      <th></th>\n",
       "      <th>author</th>\n",
       "      <th>date</th>\n",
       "      <th>body</th>\n",
       "      <th>title</th>\n",
       "      <th>Classification</th>\n",
       "    </tr>\n",
       "  </thead>\n",
       "  <tbody>\n",
       "    <tr>\n",
       "      <th>0</th>\n",
       "      <td>2804435</td>\n",
       "      <td>2020-03-29 07:39:32</td>\n",
       "      <td>That's exactly my aim yes. It's been scary but...</td>\n",
       "      <td>comment</td>\n",
       "      <td>Unconfirmed/Questionable</td>\n",
       "    </tr>\n",
       "    <tr>\n",
       "      <th>1</th>\n",
       "      <td>2804435</td>\n",
       "      <td>2020-03-29 09:50:12</td>\n",
       "      <td>1. Stop smoking. Now. Seriously what the hell ...</td>\n",
       "      <td>If you want to drastically improve your odds o...</td>\n",
       "      <td>Unconfirmed/Questionable</td>\n",
       "    </tr>\n",
       "    <tr>\n",
       "      <th>2</th>\n",
       "      <td>2804435</td>\n",
       "      <td>2020-03-29 10:10:33</td>\n",
       "      <td>Sleep sitting up. Window wide open. The room m...</td>\n",
       "      <td>comment</td>\n",
       "      <td>Unconfirmed/Questionable</td>\n",
       "    </tr>\n",
       "  </tbody>\n",
       "</table>\n",
       "</div>"
      ],
      "text/plain": [
       "    author                date  \\\n",
       "0  2804435 2020-03-29 07:39:32   \n",
       "1  2804435 2020-03-29 09:50:12   \n",
       "2  2804435 2020-03-29 10:10:33   \n",
       "\n",
       "                                                body  \\\n",
       "0  That's exactly my aim yes. It's been scary but...   \n",
       "1  1. Stop smoking. Now. Seriously what the hell ...   \n",
       "2  Sleep sitting up. Window wide open. The room m...   \n",
       "\n",
       "                                               title            Classification  \n",
       "0                                            comment  Unconfirmed/Questionable  \n",
       "1  If you want to drastically improve your odds o...  Unconfirmed/Questionable  \n",
       "2                                            comment  Unconfirmed/Questionable  "
      ]
     },
     "execution_count": 25,
     "metadata": {},
     "output_type": "execute_result"
    }
   ],
   "source": [
    "merged_data0 = Filtered_OP_and_Comments.merge(Filtered_Authors_Classification, \n",
    "                                              left_on='author', \n",
    "                                              right_on='Authors',\n",
    "                                              how='inner')  #31332\n",
    "merged_data0 = merged_data0[['author','date','body','title','Classification']]\n",
    "merged_data =  merged_data0.dropna(axis = 0, how = 'any', inplace = False)  #remove nan value\n",
    "print('there are %d comments'%(merged_data.shape[0]))\n",
    "merged_data.head(3)"
   ]
  },
  {
   "cell_type": "code",
   "execution_count": 221,
   "id": "acceptable-passing",
   "metadata": {
    "colab": {
     "base_uri": "https://localhost:8080/"
    },
    "id": "sFGUld9jdhPR",
    "outputId": "59950a55-540e-4d44-fac5-d407fd8aafa5"
   },
   "outputs": [
    {
     "name": "stdout",
     "output_type": "stream",
     "text": [
      "Unconfirmed/Questionable    11041\n",
      "Tested Positive              8282\n",
      "Tested Negative              8066\n",
      "Commenter Only               3309\n",
      "Moderator                     558\n",
      "Unassigned                      1\n",
      "Name: Classification, dtype: int64\n"
     ]
    }
   ],
   "source": [
    "print(merged_data['Classification'].value_counts())"
   ]
  },
  {
   "cell_type": "markdown",
   "id": "naval-asthma",
   "metadata": {
    "id": "still-greeting"
   },
   "source": [
    "### Save positive data for symptom extraction model"
   ]
  },
  {
   "cell_type": "code",
   "execution_count": null,
   "id": "violent-scientist",
   "metadata": {
    "id": "hourly-wright"
   },
   "outputs": [],
   "source": [
    "# import re\n",
    "# positive_data = merged_data.copy()[merged_data['Classification'] == 'Tested Positive']\n",
    "# positive_data[[\"body\"]] = positive_data[[\"body\"]].astype(str)  #convert 'body' to string \n",
    "# for i in range(len(positive_data)):\n",
    "#     positive_data['body'].iloc[i] = positive_data['body'].iloc[i].replace('_x000D_',' ').replace('\\r', '').replace('\\n', '').replace('&amp;','&')\n",
    "#     positive_data['body'].iloc[i] = re.sub(r'\\<U\\+[A-Za-z0-9]+\\>','', positive_data['body'].iloc[i]) #remove emoji\n",
    "# positive_data.to_csv('/content/drive/MyDrive/Colab_Notebooks/Reddit_NLP/output_files/positive_data.csv',encoding='utf_8_sig')"
   ]
  },
  {
   "cell_type": "markdown",
   "id": "seeing-print",
   "metadata": {
    "id": "incomplete-thousand"
   },
   "source": [
    "### Combine title and body, prepare labels (string to number)"
   ]
  },
  {
   "cell_type": "code",
   "execution_count": 222,
   "id": "suburban-cincinnati",
   "metadata": {
    "id": "mechanical-consensus"
   },
   "outputs": [],
   "source": [
    "# remove /n /r _x000D_ in body sentences, convert some body sentences with type float/time type into string  \n",
    "author = merged_data.author.values\n",
    "body_sentences = merged_data.body.values\n",
    "title = merged_data.title.values\n",
    "Classification_labels = merged_data.Classification.values\n",
    "\n",
    "title_body_sentences = []\n",
    "for i in range(len(body_sentences)):\n",
    "    if type(body_sentences[i]) != str:\n",
    "        body_sentences[i] = str(body_sentences[i]) \n",
    "    body_sentences[i] = body_sentences[i].replace('_x000D_',' ').replace('\\r', '').replace('\\n', '').replace('  ','')\n",
    "    title_body_sentences.append(title[i] + \": \" + body_sentences[i])\n",
    "temp_data = pd.DataFrame()\n",
    "temp_data['author'] = author \n",
    "temp_data['title_body_sentences'] = title_body_sentences \n",
    "temp_data['Classification_labels'] = Classification_labels \n",
    "temp_data['title_body'] = temp_data.groupby(['author'])['title_body_sentences'].transform(lambda x: '. '.join(x))\n",
    "final_data = temp_data[['author','title_body','Classification_labels']]\n",
    "final_data = final_data.drop_duplicates()\n",
    "final_data = final_data.reset_index(drop=True)\n",
    "\n",
    "# will drop class 4\n",
    "Class_dic = {\"Unconfirmed/Questionable\":0, \"Tested Positive\":1, \"Tested Negative\":0, \n",
    "             \"Commenter Only\":0, \"Moderator\":4, \"Unassigned\":4 }\n",
    "\n",
    "Classification_labels_num =np.array([Class_dic[final_data['Classification_labels'][i]] for i in range(len(final_data))],\n",
    "                                    dtype='int64')\n",
    "final_data['class'] = Classification_labels_num\n",
    "\n",
    "### Drop \n",
    "final_data = final_data[final_data['class'] != 4] "
   ]
  },
  {
   "cell_type": "code",
   "execution_count": 223,
   "id": "intelligent-vinyl",
   "metadata": {
    "colab": {
     "base_uri": "https://localhost:8080/",
     "height": 213
    },
    "id": "popular-canal",
    "outputId": "354d560f-b346-4524-8c82-9f5b52df77b8"
   },
   "outputs": [
    {
     "name": "stdout",
     "output_type": "stream",
     "text": [
      "Finally there are 681 authors/documents\n",
      "0    371\n",
      "1    310\n",
      "Name: class, dtype: int64\n"
     ]
    },
    {
     "data": {
      "text/html": [
       "<div>\n",
       "<style scoped>\n",
       "    .dataframe tbody tr th:only-of-type {\n",
       "        vertical-align: middle;\n",
       "    }\n",
       "\n",
       "    .dataframe tbody tr th {\n",
       "        vertical-align: top;\n",
       "    }\n",
       "\n",
       "    .dataframe thead th {\n",
       "        text-align: right;\n",
       "    }\n",
       "</style>\n",
       "<table border=\"1\" class=\"dataframe\">\n",
       "  <thead>\n",
       "    <tr style=\"text-align: right;\">\n",
       "      <th></th>\n",
       "      <th>author</th>\n",
       "      <th>title_body</th>\n",
       "      <th>Classification_labels</th>\n",
       "      <th>class</th>\n",
       "    </tr>\n",
       "  </thead>\n",
       "  <tbody>\n",
       "    <tr>\n",
       "      <th>0</th>\n",
       "      <td>2804435</td>\n",
       "      <td>comment: That's exactly my aim yes. It's been ...</td>\n",
       "      <td>Unconfirmed/Questionable</td>\n",
       "      <td>0</td>\n",
       "    </tr>\n",
       "    <tr>\n",
       "      <th>1</th>\n",
       "      <td>_iwasnotmagnificent_</td>\n",
       "      <td>comment: Same symptoms here! Also asthmatic. I...</td>\n",
       "      <td>Tested Positive</td>\n",
       "      <td>1</td>\n",
       "    </tr>\n",
       "    <tr>\n",
       "      <th>2</th>\n",
       "      <td>_thewa_</td>\n",
       "      <td>Tested Positive Yesterday - 7th Day: My experi...</td>\n",
       "      <td>Tested Positive</td>\n",
       "      <td>1</td>\n",
       "    </tr>\n",
       "  </tbody>\n",
       "</table>\n",
       "</div>"
      ],
      "text/plain": [
       "                 author                                         title_body  \\\n",
       "0               2804435  comment: That's exactly my aim yes. It's been ...   \n",
       "1  _iwasnotmagnificent_  comment: Same symptoms here! Also asthmatic. I...   \n",
       "2               _thewa_  Tested Positive Yesterday - 7th Day: My experi...   \n",
       "\n",
       "      Classification_labels  class  \n",
       "0  Unconfirmed/Questionable      0  \n",
       "1           Tested Positive      1  \n",
       "2           Tested Positive      1  "
      ]
     },
     "execution_count": 223,
     "metadata": {},
     "output_type": "execute_result"
    }
   ],
   "source": [
    "print('Finally there are %d authors/documents'%(final_data.shape[0]))\n",
    "print(final_data['class'].value_counts())\n",
    "final_data.head(3)"
   ]
  },
  {
   "cell_type": "code",
   "execution_count": 224,
   "id": "weird-maldives",
   "metadata": {
    "colab": {
     "base_uri": "https://localhost:8080/",
     "height": 877,
     "referenced_widgets": [
      "8ed37f11405040a8bab128ff476a03a8",
      "b17be137f4dd46a7a16417eeab2fb966",
      "7649dafbe12a4907b4b7769091332ddc",
      "d08116bea0034f4dadf50366de0265a1",
      "ec314a3e96fe404295cf640295178f89",
      "c6a2de835d8944d39efe0018e75b4f41",
      "ad75349454fe443fbeec7ef242e60913",
      "8e55f879c70e422993f271745330ebf0",
      "466c3fa87b984507bf3021fe78c010ea",
      "9c8baa500b9245c9b36b684cbbf5a3ed",
      "160767dd2aad4b40a86ba77a4376b7cb",
      "506f2a22d63d4d0a9cc6ddb4e21a6240",
      "2c378db3f62b4f38bf3e5e6c66185e24",
      "c6359967c71b4fc59fbc1a4fb7e2d308",
      "ba2f1c1b5b74470c965f5d1c8f812de1",
      "ef5138d440b541d98b7cf34ddd9dad60",
      "e5f5c7038079442696c264e196019a62",
      "818404dbe7c6487e9b4be15b84de3b52",
      "12303d0e90474b8f89cd1c5ee6374f22",
      "34ff4dacb06d4b2e95412a7c4f37a941",
      "c42a0efb64314c738d9bbb1d953ca4c9",
      "502680fd85d7492483512664dd73050b",
      "baabb0f0935846c3acfc22f95d62e634",
      "1f5c760eb57c4b2a946c5c90fe3b19f6",
      "e445bde77aca4287b2337c2fa9245f45",
      "a276e66faa204753bf98df3a4609dc65",
      "a8b514fda72542acadd9e5215d4c977f",
      "721631690e7e46c0a1f4ea427d53f789",
      "a3848dd3091e42529458735e6d328a23",
      "02810b9f6bf34390b3cb6efab5a4ab19",
      "19d1dc8f297f4450a068a9871832012b",
      "456708cddbda421fa45bdc7cabf65874",
      "b7c54951ea4244f388abd8bc423c4f1b",
      "0d1bbc7640934314be834fc8c70ca47d",
      "8804983badfc4a24b29a83edd3cd73f3",
      "dab0be5d18c840af9265c2c7c057d6b2",
      "41390b23946042d895e63495a530ff68",
      "4a6494922d2b4aba9957790bc42b126a",
      "b56c4293260646d192a43abaa2768733",
      "739583bd916f40b2b763852a067d563e",
      "e2230dfc48cb4586aea3083a88d7d229",
      "f91f0d74db6943a888aec331557f1605",
      "0df1892f19634f63b814ce51894683e3",
      "60cfa5b2c81e4d099360e44d50f58241"
     ]
    },
    "id": "virgin-steel",
    "outputId": "4cfc2aee-719f-405a-e9ad-9fbde3b902a5",
    "scrolled": false
   },
   "outputs": [],
   "source": [
    "#example\n",
    "#!pip install transformers\n",
    "from transformers import BertTokenizer\n",
    "tokenizer = BertTokenizer.from_pretrained('bert-large-uncased', do_lower_case = True)\n",
    "# print(' Original: ', final_data['title_body'][0])\n",
    "# print('Tokenized: ', tokenizer.tokenize(final_data['title_body'][0]))\n",
    "# print('Token IDs: ', tokenizer.convert_tokens_to_ids(tokenizer.tokenize(final_data['title_body'][0])))"
   ]
  },
  {
   "cell_type": "markdown",
   "id": "dying-spokesman",
   "metadata": {
    "id": "lDSLKDHcaAaq"
   },
   "source": [
    "### Check the length of sentence words / tokens"
   ]
  },
  {
   "cell_type": "code",
   "execution_count": 225,
   "id": "exterior-omaha",
   "metadata": {
    "colab": {
     "base_uri": "https://localhost:8080/",
     "height": 348
    },
    "id": "VjwTbNI2aUiO",
    "outputId": "e1d48cb1-b875-4b92-ae5b-fc240e8a1b1d"
   },
   "outputs": [
    {
     "name": "stdout",
     "output_type": "stream",
     "text": [
      "Max sentence length (for words):  48361\n",
      "Min sentence length (for words):  6\n",
      "0.25, 0.5, 0.75, and 0.95 Quantile sentence length (for words): [ 355. 1253. 3250. 7960.]\n"
     ]
    },
    {
     "data": {
      "text/plain": [
       "Text(0.5, 0, 'title + body length for (words)')"
      ]
     },
     "execution_count": 225,
     "metadata": {},
     "output_type": "execute_result"
    },
    {
     "data": {
      "image/png": "[encoded data removed]",
      "text/plain": [
       "<Figure size 432x288 with 1 Axes>"
      ]
     },
     "metadata": {},
     "output_type": "display_data"
    }
   ],
   "source": [
    "all_words_len= [] #record length\n",
    "# For every sentence...\n",
    "for sent in final_data['title_body']:\n",
    "    all_words_len.append(len(sent.split()))\n",
    "print('Max sentence length (for words): ', max(all_words_len))  #48372 \n",
    "print('Min sentence length (for words): ', min(all_words_len))  #6 \n",
    "print('0.25, 0.5, 0.75, and 0.95 Quantile sentence length (for words):', np.quantile(all_words_len,[0.25, 0.5, 0.75, 0.95]) ) \n",
    "_ = plt.hist(x=all_words_len, bins='auto', color='#0504aa', alpha=0.7, rwidth=0.85)\n",
    "plt.xlabel('title + body length for (words)')"
   ]
  },
  {
   "cell_type": "code",
   "execution_count": 226,
   "id": "norman-group",
   "metadata": {
    "colab": {
     "base_uri": "https://localhost:8080/",
     "height": 366
    },
    "id": "electoral-tolerance",
    "outputId": "1c20f9ff-1840-43b6-aa94-0a728cd55a73"
   },
   "outputs": [
    {
     "name": "stderr",
     "output_type": "stream",
     "text": [
      "Token indices sequence length is longer than the specified maximum sequence length for this model (4052 > 512). Running this sequence through the model will result in indexing errors\n"
     ]
    },
    {
     "name": "stdout",
     "output_type": "stream",
     "text": [
      "Max sentence length (for tokens):  62322\n",
      "Min sentence length (for tokens):  15\n",
      "0.25, 0.5, 0.75, and 0.95 Quantile sentence length:  [  463.  1727.  4318. 10638.]\n"
     ]
    },
    {
     "data": {
      "text/plain": [
       "Text(0.5, 0, 'title + body length for (tokens)')"
      ]
     },
     "execution_count": 226,
     "metadata": {},
     "output_type": "execute_result"
    },
    {
     "data": {
      "image/png": "[encoded data removed]",
      "text/plain": [
       "<Figure size 432x288 with 1 Axes>"
      ]
     },
     "metadata": {},
     "output_type": "display_data"
    }
   ],
   "source": [
    "all_tokens_len = [] #record length\n",
    "# For every sentence...\n",
    "for sent in final_data['title_body']:\n",
    "    # Tokenize the text and add `[CLS]` and `[SEP]` tokens.\n",
    "    input_ids = tokenizer.encode(sent, add_special_tokens=True)\n",
    "    all_tokens_len.append(len(input_ids))\n",
    "print('Max sentence length (for tokens): ', max(all_tokens_len))  #62316 \n",
    "print('Min sentence length (for tokens): ', min(all_tokens_len))  #15 \n",
    "print('0.25, 0.5, 0.75, and 0.95 Quantile sentence length: ', np.quantile(all_tokens_len,[0.25, 0.5, 0.75, 0.95]) ) \n",
    "_ = plt.hist(x=all_tokens_len, bins='auto', color='#0504aa', alpha=0.7, rwidth=0.85)\n",
    "plt.xlabel('title + body length for (tokens)')"
   ]
  },
  {
   "cell_type": "markdown",
   "id": "collaborative-circus",
   "metadata": {
    "id": "small-analysis"
   },
   "source": [
    "### Split data into train data and test data (we use test data as validation data)"
   ]
  },
  {
   "cell_type": "code",
   "execution_count": 228,
   "id": "dated-replacement",
   "metadata": {
    "colab": {
     "base_uri": "https://localhost:8080/"
    },
    "id": "protective-glasgow",
    "outputId": "17866c42-cfaa-4849-e00a-1c949617e1ec"
   },
   "outputs": [
    {
     "name": "stdout",
     "output_type": "stream",
     "text": [
      "training data size: 544\n",
      "test data size: 137\n"
     ]
    }
   ],
   "source": [
    "from sklearn.model_selection import train_test_split\n",
    "random_seed = 2021\n",
    "final_data_train, final_data_test = train_test_split(final_data, test_size=0.2, random_state=random_seed, shuffle=True)\n",
    "final_data_valid = final_data_test\n",
    "print('training data size:', len(final_data_train))\n",
    "print('test data size:', len(final_data_test))"
   ]
  },
  {
   "cell_type": "markdown",
   "id": "hindu-adjustment",
   "metadata": {
    "id": "controversial-serbia"
   },
   "source": [
    "### Tokenize with Chunking"
   ]
  },
  {
   "cell_type": "code",
   "execution_count": 229,
   "id": "continuing-water",
   "metadata": {
    "id": "ultimate-colombia"
   },
   "outputs": [],
   "source": [
    "MAX_LEN = 512"
   ]
  },
  {
   "cell_type": "code",
   "execution_count": 230,
   "id": "natural-accordance",
   "metadata": {
    "colab": {
     "base_uri": "https://localhost:8080/"
    },
    "id": "parliamentary-relief",
    "outputId": "803db363-6f27-4cb5-d429-860add6b00ed"
   },
   "outputs": [
    {
     "name": "stderr",
     "output_type": "stream",
     "text": [
      "Token indices sequence length is longer than the specified maximum sequence length for this model (4052 > 512). Running this sequence through the model will result in indexing errors\n"
     ]
    },
    {
     "name": "stdout",
     "output_type": "stream",
     "text": [
      "Tokenizing comments...\n",
      "Read 0 comments.\n",
      "Read 200 comments.\n",
      "Read 600 comments.\n",
      "Read 3,600 comments.\n",
      "Read 4,600 comments.\n",
      "DONE.\n",
      "       681 documents before chunking\n",
      "     4,706 comments after chunking\n",
      "       512 length of each chunk\n"
     ]
    }
   ],
   "source": [
    "import numpy as np\n",
    "from transformers import BertTokenizer\n",
    "tokenizer = BertTokenizer.from_pretrained('bert-large-uncased', do_lower_case = True)\n",
    "input_ids = []    # chunks embedding ID \n",
    "all_class_labels = final_data['class'].to_numpy().astype(\"int64\") # Get the labels from the DataFrame, and convert to int64.\n",
    "author_names = final_data['author'].to_numpy()  # Get the author names from the dataset.\n",
    "\n",
    "chunk_labels = [] # Record Classification labels for chunks.\n",
    "chunk_author = [] # Record author names for chunks \n",
    "chunk_nums = []   # Record number of chunks for each author\n",
    "\n",
    "print('Tokenizing comments...')\n",
    "# For every sentence...\n",
    "for i, sen in enumerate(final_data['title_body']):\n",
    "    if ((len(input_ids) % 200) == 0):\n",
    "        print('Read {:,} comments.'.format(len(input_ids)))\n",
    "\n",
    "    encoded_sent = tokenizer.encode(\n",
    "                        sen,                      # Sentence to encode.\n",
    "                        add_special_tokens = True, # Add '[CLS]' and '[SEP]'\n",
    "                        #max_length = 512,          # Truncate all sentences.                        \n",
    "                        #return_tensors = 'pt',     # Return pytorch tensors.\n",
    "                   ) \n",
    "    label_i = all_class_labels[i]\n",
    "    author_i = author_names[i]\n",
    "\n",
    "    if len(encoded_sent) > MAX_LEN:   #For long document, chunk it\n",
    "        encoded_sent = encoded_sent[1:-1]   # Strip off special tokens.\n",
    "        chunk_len = MAX_LEN - 2             # each chunk needs its own CLS and SEP tokens.\n",
    "        chunk_nums.append(len(range(0, len(encoded_sent), chunk_len))) ### add number of chunks for each author\n",
    "        # For each starting index...\n",
    "        for j in range(0, len(encoded_sent), chunk_len):\n",
    "            tokens = encoded_sent[j:j+chunk_len]\n",
    "            chunk = [tokenizer.cls_token_id] + tokens + [tokenizer.sep_token_id]   # Add the special tokens.\n",
    "            input_ids.append(chunk)\n",
    "            chunk_labels.append(label_i)    # Give all the chunks the same label.\n",
    "            chunk_author.append(author_i)   # Give all the chunks the same author names. \n",
    "    \n",
    "    else:    #For short document, add it to the list.\n",
    "        chunk_nums.append(1) ### add number of chunks for each author\n",
    "        input_ids.append(encoded_sent)\n",
    "        chunk_labels.append(label_i)\n",
    "        chunk_author.append(author_i)   \n",
    "\n",
    "print('DONE.')\n",
    "print('{:>10,} documents before chunking'.format(len(final_data)))\n",
    "print('{:>10,} comments after chunking'.format(len(input_ids)))\n",
    "print('{:>10,} length of each chunk'.format(MAX_LEN))\n",
    "assert(len(input_ids) == len(chunk_labels)) #number of chunks should = number of classification labels"
   ]
  },
  {
   "cell_type": "code",
   "execution_count": 231,
   "id": "surface-comfort",
   "metadata": {
    "colab": {
     "base_uri": "https://localhost:8080/",
     "height": 333
    },
    "id": "sweet-financing",
    "outputId": "25923361-7438-41c9-d5ca-8ebcbaeff2f1"
   },
   "outputs": [
    {
     "name": "stdout",
     "output_type": "stream",
     "text": [
      "minimum number of chunks 1\n",
      "maximum number of chunks 123\n",
      "0.25, 0.5, 0.75, and 0.95 Quantile number of chunks:  [ 1.  4.  9. 21.]\n"
     ]
    },
    {
     "data": {
      "image/png": "[encoded data removed]",
      "text/plain": [
       "<Figure size 432x288 with 1 Axes>"
      ]
     },
     "metadata": {},
     "output_type": "display_data"
    }
   ],
   "source": [
    "# minimum and maximum chunks per individual\n",
    "import matplotlib.pyplot as plt\n",
    "print('minimum number of chunks', min(chunk_nums))\n",
    "print('maximum number of chunks', max(chunk_nums))\n",
    "_, _, _ = plt.hist(x=chunk_nums, bins='auto', color='#0504aa',alpha=0.7, rwidth=0.85)\n",
    "plt.title('number of chunks')\n",
    "print('0.25, 0.5, 0.75, and 0.95 Quantile number of chunks: ', np.quantile(chunk_nums,[0.25, 0.5, 0.75, 0.95]) ) "
   ]
  },
  {
   "cell_type": "markdown",
   "id": "extraordinary-knight",
   "metadata": {
    "id": "sweet-distinction"
   },
   "source": [
    "### Pad chunks"
   ]
  },
  {
   "cell_type": "code",
   "execution_count": 232,
   "id": "artistic-spank",
   "metadata": {
    "colab": {
     "base_uri": "https://localhost:8080/"
    },
    "id": "contained-chance",
    "outputId": "c3195548-4c5d-4da1-f8e9-f8b601b27a89"
   },
   "outputs": [
    {
     "name": "stdout",
     "output_type": "stream",
     "text": [
      "Padding/truncating all chunks to 512 values...\n",
      "Padding token: \"[PAD]\", ID: 0\n",
      "     4,706 chunks in total\n"
     ]
    }
   ],
   "source": [
    "# Some of the samples need to be padded out to 128 tokens \n",
    "from keras.preprocessing.sequence import pad_sequences\n",
    "print('Padding/truncating all chunks to %d values...' % MAX_LEN)\n",
    "print('Padding token: \"{:}\", ID: {:}'.format(tokenizer.pad_token, tokenizer.pad_token_id))\n",
    "# Pad input tokens with value 0.\n",
    "input_ids = pad_sequences(input_ids, maxlen=MAX_LEN, dtype=\"long\", \n",
    "                          value=0, truncating=\"post\", padding=\"post\")\n",
    "print('{:>10,} chunks in total'.format(len(input_ids)))"
   ]
  },
  {
   "cell_type": "markdown",
   "id": "broken-professor",
   "metadata": {
    "id": "dramatic-stephen"
   },
   "source": [
    "### Add Attention Masks"
   ]
  },
  {
   "cell_type": "code",
   "execution_count": 233,
   "id": "pleased-binary",
   "metadata": {
    "colab": {
     "base_uri": "https://localhost:8080/"
    },
    "id": "plain-refrigerator",
    "outputId": "d98c14da-2f72-46c3-f27b-7ae225f00b71"
   },
   "outputs": [
    {
     "name": "stdout",
     "output_type": "stream",
     "text": [
      "     4,706 attention masks in total\n",
      "       512 length for each attention mask\n"
     ]
    }
   ],
   "source": [
    "# Create attention masks for each chunk\n",
    "attention_masks = []\n",
    "for chu in input_ids:\n",
    "    att_mask = [int(token_id > 0) for token_id in chu]\n",
    "    attention_masks.append(att_mask)\n",
    "print('{:>10,} attention masks in total'.format(len(attention_masks)))\n",
    "print('{:>10,} length for each attention mask'.format(len(attention_masks[0])))"
   ]
  },
  {
   "cell_type": "markdown",
   "id": "aware-arbor",
   "metadata": {
    "id": "three-person"
   },
   "source": [
    "### Obtain training input and test input"
   ]
  },
  {
   "cell_type": "code",
   "execution_count": 234,
   "id": "nutritional-release",
   "metadata": {
    "colab": {
     "base_uri": "https://localhost:8080/"
    },
    "id": "7Mudd0FkAJ2n",
    "outputId": "5bce0924-34d1-4bc7-be22-39ba0db4fa6f"
   },
   "outputs": [
    {
     "name": "stdout",
     "output_type": "stream",
     "text": [
      "traning data has 544 authors, 3765 chunks\n",
      "test data has 137 authors, 941 chunks\n"
     ]
    }
   ],
   "source": [
    "train_authors_set = set(final_data_train['author'])\n",
    "test_authors_set = set(final_data_test['author'])\n",
    "train_inputs, train_labels, train_masks, train_chunk_author   = [], [], [], []\n",
    "test_inputs, test_labels, test_masks, test_chunk_author  = [], [], [], []\n",
    "for i in range(len(input_ids)):\n",
    "  if chunk_author[i] in train_authors_set:\n",
    "    train_inputs.append(input_ids[i])\n",
    "    train_masks.append(attention_masks[i])\n",
    "    train_labels.append(chunk_labels[i])\n",
    "    train_chunk_author.append(chunk_author[i])\n",
    "\n",
    "  else:\n",
    "    test_inputs.append(input_ids[i])\n",
    "    test_masks.append(attention_masks[i])  \n",
    "    test_labels.append(chunk_labels[i])\n",
    "    test_chunk_author.append(chunk_author[i])\n",
    "\n",
    "train_inputs = np.array(train_inputs)\n",
    "test_inputs = np.array(test_inputs)\n",
    "print('traning data has %d authors, %d chunks'%(len(train_authors_set), len(train_inputs) ))\n",
    "print('test data has %d authors, %d chunks'%(len(test_authors_set), len(test_inputs)))"
   ]
  },
  {
   "cell_type": "markdown",
   "id": "occupational-spoke",
   "metadata": {
    "id": "8Gfhfchy8F0J"
   },
   "source": [
    "### Dictionary mapping authors to chunk index"
   ]
  },
  {
   "cell_type": "code",
   "execution_count": 235,
   "id": "christian-costs",
   "metadata": {
    "colab": {
     "base_uri": "https://localhost:8080/"
    },
    "id": "K0iR1UuR6H9A",
    "outputId": "4d238292-8c74-49f1-81f7-d70b8ab4e145"
   },
   "outputs": [
    {
     "name": "stdout",
     "output_type": "stream",
     "text": [
      "traning dictionary has 544 authors\n",
      "test dictionary has 137 authors\n"
     ]
    }
   ],
   "source": [
    "train_author_ind_dic, test_author_ind_dic ={}, {}\n",
    "for i in range(len(train_chunk_author)):\n",
    "    Author = train_chunk_author[i]\n",
    "    if Author not in train_author_ind_dic: \n",
    "      train_author_ind_dic[Author] = [i]\n",
    "    else:\n",
    "      train_author_ind_dic[Author].append(i)\n",
    "for i in range(len(test_chunk_author)):\n",
    "    Author = test_chunk_author[i]\n",
    "    if Author not in test_author_ind_dic: \n",
    "      test_author_ind_dic[Author] = [i]\n",
    "    else:\n",
    "      test_author_ind_dic[Author].append(i)\n",
    "print('traning dictionary has %d authors'%(len(train_author_ind_dic)))\n",
    "print('test dictionary has %d authors'%(len(test_author_ind_dic)))"
   ]
  },
  {
   "cell_type": "markdown",
   "id": "marked-initial",
   "metadata": {
    "id": "flexible-bosnia"
   },
   "source": [
    "### Convert all inputs and labels into torch tensors"
   ]
  },
  {
   "cell_type": "code",
   "execution_count": 236,
   "id": "royal-breeding",
   "metadata": {
    "id": "similar-brush"
   },
   "outputs": [],
   "source": [
    "import torch\n",
    "train_inputs = torch.tensor(train_inputs)\n",
    "test_inputs = torch.tensor(test_inputs)\n",
    "\n",
    "train_masks = torch.tensor(train_masks)\n",
    "test_masks = torch.tensor(test_masks)\n",
    "\n",
    "train_labels = torch.tensor(train_labels)\n",
    "test_labels = torch.tensor(test_labels)"
   ]
  },
  {
   "cell_type": "markdown",
   "id": "ecological-impact",
   "metadata": {
    "id": "appointed-delta"
   },
   "source": [
    "### Create an iterator for our dataset using the torch DataLoader class. (help save on memory during training)"
   ]
  },
  {
   "cell_type": "code",
   "execution_count": 237,
   "id": "equal-reflection",
   "metadata": {
    "id": "therapeutic-azerbaijan"
   },
   "outputs": [],
   "source": [
    "from torch.utils.data import TensorDataset, DataLoader, RandomSampler, SequentialSampler\n",
    "batch_size = 32\n",
    "# Create the DataLoader for training set.\n",
    "train_data = TensorDataset(train_inputs, train_masks, train_labels)\n",
    "train_sampler = RandomSampler(train_data)\n",
    "train_dataloader = DataLoader(train_data, sampler=train_sampler, batch_size=batch_size)\n",
    "# Create the DataLoader for training prediction set.\n",
    "train_pred_sampler = SequentialSampler(train_data) #Sequential, not random\n",
    "train_pred_dataloader = DataLoader(train_data, sampler=train_pred_sampler, batch_size=batch_size)\n",
    "# Create the DataLoader for test set.\n",
    "test_data = TensorDataset(test_inputs, test_masks, test_labels)\n",
    "test_sampler = SequentialSampler(test_data)\n",
    "test_dataloader = DataLoader(test_data, sampler=test_sampler, batch_size=batch_size)"
   ]
  },
  {
   "cell_type": "markdown",
   "id": "experimental-camcorder",
   "metadata": {
    "id": "oriental-pizza"
   },
   "source": [
    "### BertForSequenceClassification"
   ]
  },
  {
   "cell_type": "code",
   "execution_count": 238,
   "id": "opponent-income",
   "metadata": {
    "colab": {
     "base_uri": "https://localhost:8080/",
     "height": 156,
     "referenced_widgets": [
      "e013f26fec0a43cf85f0b4a274055106",
      "899e849dbba84101ae48fa92dd129c90",
      "be43d194b5834fff864ac31d06ab1ea6",
      "c2aa6ff5f53d4e769c318252ece81958",
      "ea450ebccdaa494ea1127ed2bf8ea2af",
      "05ce1ea6e6634fecab2e33cde9f3db40",
      "19ac452e428d47b887d2630108f5097f",
      "8c0c0cd7c4ba4dc7ace2a43cb6f7d8d7",
      "12aa5e724ff94f14ac596028b9f95d02",
      "d6f8ef2794e54cba984ddb34ce225d57",
      "cfdf0dbb638c4a76b4625ce79ff89cc3"
     ]
    },
    "id": "referenced-bernard",
    "outputId": "0b6b4298-04d6-44b8-96a2-aa079a579393"
   },
   "outputs": [
    {
     "name": "stderr",
     "output_type": "stream",
     "text": [
      "Some weights of the model checkpoint at bert-large-uncased were not used when initializing BertForSequenceClassification: ['cls.predictions.bias', 'cls.predictions.transform.dense.weight', 'cls.predictions.transform.dense.bias', 'cls.predictions.decoder.weight', 'cls.seq_relationship.weight', 'cls.seq_relationship.bias', 'cls.predictions.transform.LayerNorm.weight', 'cls.predictions.transform.LayerNorm.bias']\n",
      "- This IS expected if you are initializing BertForSequenceClassification from the checkpoint of a model trained on another task or with another architecture (e.g. initializing a BertForSequenceClassification model from a BertForPreTraining model).\n",
      "- This IS NOT expected if you are initializing BertForSequenceClassification from the checkpoint of a model that you expect to be exactly identical (initializing a BertForSequenceClassification model from a BertForSequenceClassification model).\n",
      "Some weights of BertForSequenceClassification were not initialized from the model checkpoint at bert-large-uncased and are newly initialized: ['classifier.weight', 'classifier.bias']\n",
      "You should probably TRAIN this model on a down-stream task to be able to use it for predictions and inference.\n"
     ]
    }
   ],
   "source": [
    "from transformers import BertForSequenceClassification, AdamW, BertConfig\n",
    "model = BertForSequenceClassification.from_pretrained(\n",
    "    \"bert-large-uncased\", # Use the 12-layer BERT model, with an uncased vocab.  \n",
    "    num_labels = len(set(final_data['class'])), # The number of output labels    \n",
    "    output_attentions = False, # Whether the model returns attentions weights.  \n",
    "    output_hidden_states = False, # Whether the model returns all hidden-states.\n",
    ")"
   ]
  },
  {
   "cell_type": "markdown",
   "id": "exotic-schedule",
   "metadata": {
    "id": "traditional-cleanup"
   },
   "source": [
    "### Optimizer and Learning Rate"
   ]
  },
  {
   "cell_type": "code",
   "execution_count": 239,
   "id": "alive-major",
   "metadata": {
    "id": "massive-crystal"
   },
   "outputs": [],
   "source": [
    "optimizer = AdamW(model.parameters(),\n",
    "                  lr = 2e-5, # args.learning_rate - default is 5e-5, our notebook had 2e-5\n",
    "                  eps = 1e-8 # args.adam_epsilon  - default is 1e-8.\n",
    "                )"
   ]
  },
  {
   "cell_type": "code",
   "execution_count": 240,
   "id": "premium-television",
   "metadata": {
    "id": "streaming-manner"
   },
   "outputs": [],
   "source": [
    "from transformers import get_linear_schedule_with_warmup\n",
    "epochs = 7\n",
    "# Total number of training steps is number of batches * number of epochs.\n",
    "total_steps = len(train_dataloader) * epochs\n",
    "# Create the learning rate scheduler.\n",
    "scheduler = get_linear_schedule_with_warmup(optimizer, \n",
    "                                            num_warmup_steps = 0, # Default value in run_glue.py\n",
    "                                            num_training_steps = total_steps)"
   ]
  },
  {
   "cell_type": "markdown",
   "id": "danish-order",
   "metadata": {
    "id": "characteristic-scholar"
   },
   "source": [
    "### Define two functions to calculate accuracy and time"
   ]
  },
  {
   "cell_type": "code",
   "execution_count": 241,
   "id": "opposed-lounge",
   "metadata": {
    "id": "accompanied-trunk"
   },
   "outputs": [],
   "source": [
    "import numpy as np\n",
    "def flat_accuracy(preds, labels):\n",
    "    pred_flat = np.argmax(preds, axis=1).flatten()\n",
    "    labels_flat = np.array(labels).flatten()\n",
    "    return np.sum(pred_flat == labels_flat) / len(labels_flat)"
   ]
  },
  {
   "cell_type": "code",
   "execution_count": 242,
   "id": "underlying-recipient",
   "metadata": {
    "id": "floppy-single"
   },
   "outputs": [],
   "source": [
    "import time\n",
    "import datetime\n",
    "def format_time(elapsed):\n",
    "    elapsed_rounded = int(round((elapsed)))\n",
    "    return str(datetime.timedelta(seconds=elapsed_rounded))\n"
   ]
  },
  {
   "cell_type": "markdown",
   "id": "polyphonic-socket",
   "metadata": {
    "id": "royal-stocks"
   },
   "source": [
    "### Training (On GW HPC)"
   ]
  },
  {
   "cell_type": "code",
   "execution_count": null,
   "id": "viral-shopping",
   "metadata": {
    "colab": {
     "base_uri": "https://localhost:8080/"
    },
    "id": "constitutional-roberts",
    "outputId": "b057a795-b80a-409e-db63-5330db7ff39e"
   },
   "outputs": [
    {
     "name": "stdout",
     "output_type": "stream",
     "text": [
      "\n",
      "======== Epoch 1 / 9 ========\n",
      "Training...\n",
      "  Batch   100  of    228.    Elapsed: 0:02:14.\n",
      "  Batch   200  of    228.    Elapsed: 0:04:33.\n",
      "\n",
      "  Average training loss: 0.95\n",
      "  Training epcoh took: 0:05:11\n",
      "Saving model to /content/drive/MyDrive/Colab_Notebooks/Reddit_NLP/output_files/BERT_CLS3_model_chunk256_epoch1/\n",
      "\n",
      "======== Epoch 2 / 9 ========\n",
      "Training...\n",
      "  Batch   100  of    228.    Elapsed: 0:02:19.\n",
      "  Batch   200  of    228.    Elapsed: 0:04:39.\n",
      "\n",
      "  Average training loss: 0.74\n",
      "  Training epcoh took: 0:05:17\n",
      "Saving model to /content/drive/MyDrive/Colab_Notebooks/Reddit_NLP/output_files/BERT_CLS3_model_chunk256_epoch2/\n",
      "\n",
      "======== Epoch 3 / 9 ========\n",
      "Training...\n",
      "  Batch   100  of    228.    Elapsed: 0:02:20.\n",
      "  Batch   200  of    228.    Elapsed: 0:04:39.\n",
      "\n",
      "  Average training loss: 0.52\n",
      "  Training epcoh took: 0:05:17\n",
      "Saving model to /content/drive/MyDrive/Colab_Notebooks/Reddit_NLP/output_files/BERT_CLS3_model_chunk256_epoch3/\n",
      "\n",
      "======== Epoch 4 / 9 ========\n",
      "Training...\n",
      "  Batch   100  of    228.    Elapsed: 0:02:17.\n",
      "  Batch   200  of    228.    Elapsed: 0:04:34.\n",
      "\n",
      "  Average training loss: 0.34\n",
      "  Training epcoh took: 0:05:11\n",
      "Saving model to /content/drive/MyDrive/Colab_Notebooks/Reddit_NLP/output_files/BERT_CLS3_model_chunk256_epoch4/\n",
      "\n",
      "======== Epoch 5 / 9 ========\n",
      "Training...\n",
      "  Batch   100  of    228.    Elapsed: 0:02:16.\n",
      "  Batch   200  of    228.    Elapsed: 0:04:33.\n",
      "\n",
      "  Average training loss: 0.21\n",
      "  Training epcoh took: 0:05:11\n",
      "Saving model to /content/drive/MyDrive/Colab_Notebooks/Reddit_NLP/output_files/BERT_CLS3_model_chunk256_epoch5/\n",
      "\n",
      "======== Epoch 6 / 9 ========\n",
      "Training...\n",
      "  Batch   100  of    228.    Elapsed: 0:02:16.\n",
      "  Batch   200  of    228.    Elapsed: 0:04:33.\n",
      "\n",
      "  Average training loss: 0.12\n",
      "  Training epcoh took: 0:05:11\n",
      "Saving model to /content/drive/MyDrive/Colab_Notebooks/Reddit_NLP/output_files/BERT_CLS3_model_chunk256_epoch6/\n",
      "\n",
      "======== Epoch 7 / 9 ========\n",
      "Training...\n",
      "  Batch   100  of    228.    Elapsed: 0:02:16.\n",
      "  Batch   200  of    228.    Elapsed: 0:04:33.\n",
      "\n",
      "  Average training loss: 0.07\n",
      "  Training epcoh took: 0:05:10\n",
      "Saving model to /content/drive/MyDrive/Colab_Notebooks/Reddit_NLP/output_files/BERT_CLS3_model_chunk256_epoch7/\n",
      "\n",
      "======== Epoch 8 / 9 ========\n",
      "Training...\n",
      "  Batch   100  of    228.    Elapsed: 0:02:16.\n",
      "  Batch   200  of    228.    Elapsed: 0:04:32.\n",
      "\n",
      "  Average training loss: 0.04\n",
      "  Training epcoh took: 0:05:10\n",
      "Saving model to /content/drive/MyDrive/Colab_Notebooks/Reddit_NLP/output_files/BERT_CLS3_model_chunk256_epoch8/\n",
      "\n",
      "======== Epoch 9 / 9 ========\n",
      "Training...\n",
      "  Batch   100  of    228.    Elapsed: 0:02:16.\n",
      "  Batch   200  of    228.    Elapsed: 0:04:32.\n",
      "\n",
      "  Average training loss: 0.03\n",
      "  Training epcoh took: 0:05:10\n",
      "Saving model to /content/drive/MyDrive/Colab_Notebooks/Reddit_NLP/output_files/BERT_CLS3_model_chunk256_epoch9/\n",
      "\n",
      "Training complete!\n"
     ]
    }
   ],
   "source": [
    "import random\n",
    "import os\n",
    "\n",
    "#<prevent running>\n",
    "# Set the seed value all over the place to make this reproducible.\n",
    "seed_val = 2021\n",
    "random.seed(seed_val)\n",
    "np.random.seed(seed_val)\n",
    "torch.manual_seed(seed_val)\n",
    "torch.cuda.manual_seed_all(seed_val)\n",
    "\n",
    "model.to(device)\n",
    "# Store the average loss for plotting\n",
    "loss_values = []\n",
    "\n",
    "# For each epoch...\n",
    "for epoch_i in range(0, epochs):\n",
    "    \n",
    "    # ========================================\n",
    "    #               Training\n",
    "    # ========================================\n",
    "    \n",
    "    # Perform one full pass over the training set.\n",
    "\n",
    "    print(\"\")\n",
    "    print('======== Epoch {:} / {:} ========'.format(epoch_i + 1, epochs))\n",
    "    print('Training...')\n",
    "\n",
    "    t0 = time.time()\n",
    "    total_loss = 0\n",
    "    model.train()\n",
    "\n",
    "    # For each batch of training data...\n",
    "    for step, batch in enumerate(train_dataloader):\n",
    "\n",
    "        # Progress update every 100 batches.\n",
    "        if step % 100 == 0 and not step == 0:\n",
    "            # Calculate elapsed time in minutes.\n",
    "            elapsed = format_time(time.time() - t0)            \n",
    "            print('  Batch {:>5,}  of  {:>5,}.    Elapsed: {:}.'.format(step, len(train_dataloader), elapsed))\n",
    "\n",
    "        # Unpack this training batch from our dataloader. \n",
    "        #\n",
    "        # As we unpack the batch, we'll also copy each tensor to the GPU using the \n",
    "        # `to` method.\n",
    "        #\n",
    "        # `batch` contains three pytorch tensors:\n",
    "        #   [0]: input ids \n",
    "        #   [1]: attention masks\n",
    "        #   [2]: labels \n",
    "        b_input_ids = batch[0].to(device)\n",
    "        b_input_mask = batch[1].to(device)\n",
    "        b_labels = batch[2].to(device)\n",
    "\n",
    "        # Always clear any previously calculated gradients before performing a\n",
    "        # backward pass. PyTorch doesn't do this automatically because \n",
    "        # accumulating the gradients is \"convenient while training RNNs\". \n",
    "        # (source: https://stackoverflow.com/questions/48001598/why-do-we-need-to-call-zero-grad-in-pytorch)\n",
    "        model.zero_grad()        \n",
    "\n",
    "        # Perform a forward pass (evaluate the model on this training batch).\n",
    "        # This will return the loss (rather than the model output) because we\n",
    "        # have provided the `labels`.\n",
    "        # The documentation for this `model` function is here: \n",
    "        # https://huggingface.co/transformers/v2.2.0/model_doc/bert.html#transformers.BertForSequenceClassification\n",
    "        outputs = model(b_input_ids, \n",
    "                    token_type_ids=None, \n",
    "                    attention_mask=b_input_mask, \n",
    "                    labels=b_labels)\n",
    "        \n",
    "        # The call to `model` always returns a tuple, so we need to pull the \n",
    "        # loss value out of the tuple.\n",
    "        loss = outputs[0]\n",
    "\n",
    "        # Accumulate the training loss over all of the batches so that we can\n",
    "        # calculate the average loss at the end. `loss` is a Tensor containing a\n",
    "        # single value; the `.item()` function just returns the Python value \n",
    "        # from the tensor.\n",
    "        total_loss += loss.item()\n",
    "\n",
    "        # Perform a backward pass to calculate the gradients.\n",
    "        loss.backward()\n",
    "\n",
    "        # Clip the norm of the gradients to 1.0.\n",
    "        # This is to help prevent the \"exploding gradients\" problem.\n",
    "        torch.nn.utils.clip_grad_norm_(model.parameters(), 1.0)\n",
    "\n",
    "        # Update parameters and take a step using the computed gradient.\n",
    "        # The optimizer dictates the \"update rule\"--how the parameters are\n",
    "        # modified based on their gradients, the learning rate, etc.\n",
    "        optimizer.step()\n",
    "\n",
    "        # Update the learning rate.\n",
    "        scheduler.step()\n",
    "\n",
    "    # Calculate the average loss over the training data.\n",
    "    avg_train_loss = total_loss / len(train_dataloader)            \n",
    "    \n",
    "    # Store the loss value for plotting the learning curve.\n",
    "    loss_values.append(avg_train_loss)\n",
    "\n",
    "    print(\"\")\n",
    "    print(\"  Average training loss: {0:.2f}\".format(avg_train_loss))\n",
    "    print(\"  Training epcoh took: {:}\".format(format_time(time.time() - t0)))\n",
    "\n",
    "    #save every epoch model\n",
    "    output_dir = './output_files/BERTlarge_CLS2_model_chunk512_epoch' + str(epoch_i+1) +'/'\n",
    "    if not os.path.exists(output_dir):\n",
    "        os.makedirs(output_dir)\n",
    "    print(\"Saving model to %s\" % output_dir)\n",
    "    model_to_save = model.module if hasattr(model, 'module') else model  # Take care of distributed/parallel training\n",
    "    model_to_save.save_pretrained(output_dir)\n",
    "    tokenizer.save_pretrained(output_dir)\n",
    "\n",
    "print(\"\")\n",
    "print(\"Training complete!\")"
   ]
  },
  {
   "cell_type": "markdown",
   "id": "covered-joint",
   "metadata": {
    "id": "kQ9tGsTT5lM0"
   },
   "source": [
    "### Evaluate on training data (On GW HPC)"
   ]
  },
  {
   "cell_type": "code",
   "execution_count": null,
   "id": "brave-maker",
   "metadata": {
    "colab": {
     "base_uri": "https://localhost:8080/"
    },
    "id": "vDwQ3DsS5kYs",
    "outputId": "a76e5ba4-0dce-4fbf-d276-f8f4c28ae264"
   },
   "outputs": [
    {
     "name": "stdout",
     "output_type": "stream",
     "text": [
      "Predicting labels for 7,287 training chunks...\n",
      "  Batch   100  of    228.    Elapsed: 0:00:46.\n",
      "  Batch   200  of    228.    Elapsed: 0:01:34.\n",
      "------DONE.------\n",
      "Predicting labels for 7,287 training chunks...\n",
      "  Batch   100  of    228.    Elapsed: 0:00:48.\n",
      "  Batch   200  of    228.    Elapsed: 0:01:37.\n",
      "------DONE.------\n",
      "Predicting labels for 7,287 training chunks...\n",
      "  Batch   100  of    228.    Elapsed: 0:00:49.\n",
      "  Batch   200  of    228.    Elapsed: 0:01:37.\n",
      "------DONE.------\n",
      "Predicting labels for 7,287 training chunks...\n",
      "  Batch   100  of    228.    Elapsed: 0:00:49.\n",
      "  Batch   200  of    228.    Elapsed: 0:01:37.\n",
      "------DONE.------\n",
      "Predicting labels for 7,287 training chunks...\n",
      "  Batch   100  of    228.    Elapsed: 0:00:49.\n",
      "  Batch   200  of    228.    Elapsed: 0:01:38.\n",
      "------DONE.------\n",
      "Predicting labels for 7,287 training chunks...\n",
      "  Batch   100  of    228.    Elapsed: 0:00:49.\n",
      "  Batch   200  of    228.    Elapsed: 0:01:37.\n",
      "------DONE.------\n",
      "Predicting labels for 7,287 training chunks...\n",
      "  Batch   100  of    228.    Elapsed: 0:00:49.\n",
      "  Batch   200  of    228.    Elapsed: 0:01:37.\n",
      "------DONE.------\n",
      "Predicting labels for 7,287 training chunks...\n",
      "  Batch   100  of    228.    Elapsed: 0:00:49.\n",
      "  Batch   200  of    228.    Elapsed: 0:01:37.\n",
      "------DONE.------\n",
      "Predicting labels for 7,287 training chunks...\n",
      "  Batch   100  of    228.    Elapsed: 0:00:49.\n",
      "  Batch   200  of    228.    Elapsed: 0:01:37.\n",
      "------DONE.------\n"
     ]
    }
   ],
   "source": [
    "# Prediction on training dataset\n",
    "#<prevent running>\n",
    "for t in range(1,epochs+1):\n",
    "  output_dir = './output_files/BERTlarge_CLS2_model_chunk512_epoch' + str(t) + '/' \n",
    "  model_chuncking = BertForSequenceClassification.from_pretrained(output_dir)\n",
    "  tokenizer = tokenizer.from_pretrained(output_dir)\n",
    "  model_chuncking.to(device)  # Copy the model to the GPU.\n",
    "\n",
    "  print('Predicting labels for {:,} training chunks...'.format(len(train_inputs)))\n",
    "  model_chuncking.eval()\n",
    "  predictions  = []\n",
    "\n",
    "  t0 = time.time()\n",
    "  for (step, batch) in enumerate(train_pred_dataloader):\n",
    "      \n",
    "      # Add batch to GPU\n",
    "      batch = tuple(t.to(device) for t in batch)\n",
    "    \n",
    "      # Progress update every 100 batches.\n",
    "      if step % 100 == 0 and not step == 0:\n",
    "          elapsed = format_time(time.time() - t0)\n",
    "          print('  Batch {:>5,}  of  {:>5,}.    Elapsed: {:}.'.format(step, len(train_pred_dataloader), elapsed))\n",
    "\n",
    "      # Unpack the inputs from dataloader\n",
    "      b_input_ids, b_input_mask, b_labels = batch\n",
    "      with torch.no_grad():\n",
    "          # Forward pass, calculate logit predictions\n",
    "          outputs = model_chuncking(b_input_ids, token_type_ids=None, \n",
    "                          attention_mask=b_input_mask)\n",
    "\n",
    "      logits = outputs[0]\n",
    "      logits = logits.detach().cpu().numpy()\n",
    "      predictions.append(logits)\n",
    "\n",
    "  print('------DONE.------')\n",
    "  predictions = np.concatenate(predictions, axis=0)\n",
    "\n",
    "  #save the predictions:\n",
    "  np.savetxt('./output_files/BERTlarge_CLS2_model_chunk512_epoch' + str(t) +'/train_predictions_chunk512_epoch'+str(t)+'.txt', predictions)\n"
   ]
  },
  {
   "cell_type": "markdown",
   "id": "bearing-award",
   "metadata": {
    "id": "worldwide-bottle"
   },
   "source": [
    "### Evaluate on test data (On GW HPC)"
   ]
  },
  {
   "cell_type": "code",
   "execution_count": null,
   "id": "subtle-assets",
   "metadata": {
    "colab": {
     "base_uri": "https://localhost:8080/"
    },
    "id": "interesting-animation",
    "outputId": "2ff140b0-4c3d-4008-e17d-a5bd48b813df",
    "scrolled": false
   },
   "outputs": [
    {
     "name": "stdout",
     "output_type": "stream",
     "text": [
      "Predicting labels for 1,812 test chunks...\n",
      "------DONE.------\n",
      "Predicting labels for 1,812 test chunks...\n",
      "------DONE.------\n",
      "Predicting labels for 1,812 test chunks...\n",
      "------DONE.------\n",
      "Predicting labels for 1,812 test chunks...\n",
      "------DONE.------\n",
      "Predicting labels for 1,812 test chunks...\n",
      "------DONE.------\n",
      "Predicting labels for 1,812 test chunks...\n",
      "------DONE.------\n",
      "Predicting labels for 1,812 test chunks...\n",
      "------DONE.------\n",
      "Predicting labels for 1,812 test chunks...\n",
      "------DONE.------\n",
      "Predicting labels for 1,812 test chunks...\n",
      "------DONE.------\n"
     ]
    }
   ],
   "source": [
    "# Prediction on test dataset\n",
    "# <prevent running>\n",
    "for t in range(1,10):\n",
    "  output_dir = './output_files/BERTlarge_CLS2_model_chunk512_epoch' + str(t) + '/' \n",
    "  model_chuncking = BertForSequenceClassification.from_pretrained(output_dir)\n",
    "  tokenizer = tokenizer.from_pretrained(output_dir)\n",
    "  model_chuncking.to(device)  # Copy the model to the GPU.\n",
    "\n",
    "  print('Predicting labels for {:,} test chunks...'.format(len(test_inputs)))\n",
    "  model_chuncking.eval()\n",
    "  predictions  = []\n",
    "\n",
    "  t0 = time.time()\n",
    "  for (step, batch) in enumerate(test_dataloader): \n",
    "    \n",
    "      # Add batch to GPU\n",
    "      batch = tuple(t.to(device) for t in batch)\n",
    "    \n",
    "      # Progress update every 100 batches.\n",
    "      if step % 100 == 0 and not step == 0:\n",
    "          elapsed = format_time(time.time() - t0)\n",
    "          print('  Batch {:>5,}  of  {:>5,}.    Elapsed: {:}.'.format(step, len(test_dataloader), elapsed))\n",
    "\n",
    "      # Unpack the inputs from dataloader\n",
    "      b_input_ids, b_input_mask, b_labels = batch\n",
    "      with torch.no_grad():\n",
    "          # Forward pass, calculate logit predictions\n",
    "          outputs = model_chuncking(b_input_ids, token_type_ids=None, \n",
    "                          attention_mask=b_input_mask)\n",
    "\n",
    "      logits = outputs[0]\n",
    "      logits = logits.detach().cpu().numpy()\n",
    "      predictions.append(logits)\n",
    "\n",
    "  print('------DONE.------')\n",
    "  predictions = np.concatenate(predictions, axis=0)\n",
    "\n",
    "  #save the predictions:\n",
    "  np.savetxt('./output_files/BERTlarge_CLS2_model_chunk512_epoch' + str(t) +'/test_predictions_chunk512_epoch'+str(t)+'.txt', predictions)\n"
   ]
  },
  {
   "cell_type": "markdown",
   "id": "signal-reading",
   "metadata": {},
   "source": [
    "### Check the accuracy of chunks for all epochs"
   ]
  },
  {
   "cell_type": "code",
   "execution_count": 243,
   "id": "timely-license",
   "metadata": {
    "colab": {
     "base_uri": "https://localhost:8080/"
    },
    "id": "WsxgD1_d9-wP",
    "outputId": "b9d55478-31e8-4b96-bd61-dda94d336af5"
   },
   "outputs": [
    {
     "name": "stdout",
     "output_type": "stream",
     "text": [
      "0.8103585657370518\n",
      "0.8889774236387782\n",
      "0.9359893758300133\n",
      "0.9622841965471447\n",
      "0.9697211155378486\n",
      "0.9644090305444887\n",
      "0.9723771580345285\n",
      "0.8352816153028693\n",
      "0.8522848034006376\n",
      "0.8682252922422954\n",
      "0.8182784272051009\n",
      "0.8480340063761955\n",
      "0.7863974495217854\n",
      "0.824654622741764\n"
     ]
    }
   ],
   "source": [
    "# for colab:\n",
    "# for t in range(1,epochs+1):\n",
    "#   train_predictions_chunk512_epoch = np.loadtxt('/content/drive/MyDrive/Colab_Notebooks/Reddit_NLP/output_files/BERTlarge_CLS2_model_chunk512'+'/train_predictions_chunk512_epoch'+str(t)+'.txt', dtype=float)\n",
    "#   print(flat_accuracy(train_predictions_chunk512_epoch, train_labels))\n",
    "\n",
    "# for t in range(1,epochs+1):\n",
    "#   test_predictions_chunk512_epoch = np.loadtxt('/content/drive/MyDrive/Colab_Notebooks/Reddit_NLP/output_files/BERTlarge_CLS2_model_chunk512'+'/test_predictions_chunk512_epoch'+str(t)+'.txt', dtype=float)\n",
    "#   print(flat_accuracy(test_predictions_chunk512_epoch, test_labels))\n",
    "\n",
    "# for local:\n",
    "for t in range(1,epochs+1):\n",
    "  train_predictions_chunk512_epoch = np.loadtxt('/Users/muzheguo/Desktop/GWU/Group/MyPaper/fda_intern/output_files/BERTlarge_CLS2_model_chunk512'+'/train_predictions_chunk512_epoch'+str(t)+'.txt', dtype=float)\n",
    "  print(flat_accuracy(train_predictions_chunk512_epoch, train_labels))\n",
    "\n",
    "for t in range(1,epochs+1):\n",
    "  test_predictions_chunk512_epoch = np.loadtxt('/Users/muzheguo/Desktop/GWU/Group/MyPaper/fda_intern/output_files/BERTlarge_CLS2_model_chunk512'+'/test_predictions_chunk512_epoch'+str(t)+'.txt', dtype=float)\n",
    "  print(flat_accuracy(test_predictions_chunk512_epoch, test_labels))\n"
   ]
  },
  {
   "cell_type": "markdown",
   "id": "focused-richmond",
   "metadata": {
    "id": "portuguese-munich"
   },
   "source": [
    "### Get the best result (epoch = 2) and normalize the scores "
   ]
  },
  {
   "cell_type": "code",
   "execution_count": 12,
   "id": "private-beauty",
   "metadata": {
    "id": "QArDB3a5nO6d"
   },
   "outputs": [],
   "source": [
    "# for colab:\n",
    "# train_predictions_chunk512_epoch2 = np.loadtxt('/content/drive/MyDrive/Colab_Notebooks/Reddit_NLP/output_files/BERTlarge_CLS2_model_chunk512/train_predictions_chunk512_epoch'+str(2)+'.txt', dtype=float)\n",
    "# test_predictions_chunk512_epoch2 = np.loadtxt('/content/drive/MyDrive/Colab_Notebooks/Reddit_NLP/output_files/BERTlarge_CLS2_model_chunk512/test_predictions_chunk512_epoch'+str(2)+'.txt', dtype=float)\n",
    "\n",
    "# for local:\n",
    "train_predictions_chunk512_epoch2 = np.loadtxt('/Users/muzheguo/Desktop/GWU/Group/MyPaper/fda_intern/output_files/BERTlarge_CLS2_model_chunk512/train_predictions_chunk512_epoch'+str(2)+'.txt', dtype=float)\n",
    "test_predictions_chunk512_epoch2 = np.loadtxt('/Users/muzheguo/Desktop/GWU/Group/MyPaper/fda_intern/output_files/BERTlarge_CLS2_model_chunk512/test_predictions_chunk512_epoch'+str(2)+'.txt', dtype=float)\n",
    "\n",
    "train_predictions_chunk512_epoch2 = torch.tensor(train_predictions_chunk512_epoch2)\n",
    "test_predictions_chunk512_epoch2 = torch.tensor(test_predictions_chunk512_epoch2)\n",
    "train_predictions_chunk512_epoch2 = (train_predictions_chunk512_epoch2-train_predictions_chunk512_epoch2.min(0, keepdim=True).values)/(train_predictions_chunk512_epoch2.max(0, keepdim=True).values - train_predictions_chunk512_epoch2.min(0, keepdim=True).values)\n",
    "test_predictions_chunk512_epoch2 = (test_predictions_chunk512_epoch2-test_predictions_chunk512_epoch2.min(0, keepdim=True).values)/(test_predictions_chunk512_epoch2.max(0, keepdim=True).values - test_predictions_chunk512_epoch2.min(0, keepdim=True).values)\n"
   ]
  },
  {
   "cell_type": "markdown",
   "id": "dramatic-norway",
   "metadata": {
    "id": "laden-fiction"
   },
   "source": [
    "### (1) train the chunk(time) weight"
   ]
  },
  {
   "cell_type": "code",
   "execution_count": null,
   "id": "educational-missile",
   "metadata": {
    "colab": {
     "base_uri": "https://localhost:8080/"
    },
    "id": "classified-leader",
    "outputId": "17fdd568-8264-4972-9062-7e46802f5410"
   },
   "outputs": [],
   "source": [
    "max_chunk_nums = 100  #max chunk number, if larger than this, truncate it. \n",
    "true_train_labels = torch.tensor( final_data_train['class'].to_numpy().astype(\"int64\"))\n",
    "print(\"true_train_labels:\",true_train_labels.shape)\n",
    "\n",
    "### chunk scores of training data\n",
    "train_chunks_scores = []\n",
    "for Author in final_data_train['author']:\n",
    "    chunk_indeces = train_author_ind_dic[Author]\n",
    "    if len(chunk_indeces) <= max_chunk_nums:\n",
    "      chunks_outputs = train_predictions_chunk512_epoch2[chunk_indeces, :]\n",
    "    if len(chunk_indeces) > max_chunk_nums:\n",
    "      chunks_outputs = train_predictions_chunk512_epoch2[chunk_indeces[0:max_chunk_nums], :]\n",
    "    train_chunks_scores.append(chunks_outputs)\n",
    "\n",
    "# chunk scores with zero pad\n",
    "train_chunks_pad_scores = []\n",
    "for i in range(len(train_chunks_scores)):\n",
    "    zero_pad = np.zeros( (max_chunk_nums-len(train_chunks_scores[i]), len(set(final_data['class']))) )\n",
    "    pad_scores = np.vstack((train_chunks_scores[i], zero_pad))\n",
    "    train_chunks_pad_scores.append(pad_scores)\n",
    "train_chunks_pad_scores = torch.tensor(np.array(train_chunks_pad_scores),dtype=torch.float)  #(544,495,4)\n",
    "print(\"train_chunks_pad_scores:\",train_chunks_pad_scores.shape)"
   ]
  },
  {
   "cell_type": "code",
   "execution_count": 295,
   "id": "interested-insulin",
   "metadata": {
    "id": "dominant-parameter"
   },
   "outputs": [],
   "source": [
    "import torch.nn.functional as F\n",
    "import numpy as np\n",
    "from torch.nn.parameter import Parameter\n",
    "import matplotlib.pyplot as plt\n",
    "import math\n",
    "import time\n",
    "import torch\n",
    "import torch.nn as nn\n",
    "\n",
    "def loss_func(x, y):\n",
    "    \"\"\"\n",
    "    log_softmax loss \n",
    "    \n",
    "    Inputs:\n",
    "    - x: prediction scores, of shape (N, C), C is number of class : 4 \n",
    "    - y: Ground-truth labels, of shape (N, )\n",
    "\n",
    "    Returns:\n",
    "    - loss: Scalar giving loss\n",
    "    \"\"\"\n",
    "    loss = None    \n",
    "    N ,C = x.shape[0] , x.shape[1]\n",
    "    loss = F.cross_entropy(x, y, reduction='sum') * 1. / N   \n",
    "    return loss"
   ]
  },
  {
   "cell_type": "code",
   "execution_count": null,
   "id": "romantic-artist",
   "metadata": {},
   "outputs": [],
   "source": []
  },
  {
   "cell_type": "code",
   "execution_count": 264,
   "id": "statewide-outside",
   "metadata": {
    "id": "universal-buyer"
   },
   "outputs": [],
   "source": [
    "class Weight_Net(nn.Module):\n",
    "    def __init__(self, input_dim_r = 495, input_dim_c = 4, channel_dim = 8, reg=0.0, dropratio=0.0, \n",
    "                 device='cpu', dtype=torch.float):\n",
    "        \"\"\"\n",
    "        Inputs:\n",
    "        - input_dim_r: Dimension row of input(number of chunks) \n",
    "        - input_dim_c: Dimension column of input(number of class)\n",
    "        - channel_dim: Dimension of time weight: (channel_dim, input_dim_r) \n",
    "        - reg: regularization parameter\n",
    "        - device: 'cuda' or 'cpu'\n",
    "        - dtype: datatype to use\n",
    "        \"\"\"\n",
    "        super().__init__()\n",
    "        \n",
    "        self.input_dim_r = input_dim_r\n",
    "        self.input_dim_c = input_dim_c\n",
    "        self.channel_dim = channel_dim\n",
    "        self.reg = reg \n",
    "        self.dropratio = dropratio\n",
    "        self.device = device\n",
    "        self.dtype = dtype\n",
    "\n",
    "        # Initialize parameters for \"chunk weights\"\n",
    "        self.W0 = Parameter(torch.randn(input_dim_r, channel_dim , device=device, dtype=dtype).div(math.sqrt(channel_dim)))\n",
    "        self.b0 = Parameter(torch.zeros(channel_dim, device=device, dtype=dtype))\n",
    "        \n",
    "        self.W1 = Parameter(torch.randn(channel_dim, 1, device=device, dtype=dtype).div(math.sqrt(1)))\n",
    "        self.b1 = Parameter(torch.zeros(1, device=device, dtype=dtype))\n",
    "\n",
    "    \n",
    "    def train_process(self):\n",
    "        raise NotImplementedError\n",
    "    \n",
    "    def test_process(self):\n",
    "        raise NotImplementedError"
   ]
  },
  {
   "cell_type": "code",
   "execution_count": 282,
   "id": "weekly-jerusalem",
   "metadata": {
    "id": "decreased-marina"
   },
   "outputs": [],
   "source": [
    "    def train_forward(self, chunk_data, y, reg):\n",
    "        \"\"\"\n",
    "        Inputs:\n",
    "        - chunk_data: (N, input_dim_r = 495, input_dim_c =4) \n",
    "        - y: groundtruth labels (N,)\n",
    "\n",
    "        Outputs:\n",
    "        - loss: A scalar loss\n",
    "        \"\"\"\n",
    "        loss = 0.0\n",
    "        N, max_chunk, c = chunk_data.shape\n",
    "        chunk_data = chunk_data.to(self.device)  #(N, 495, 4) \n",
    "        groundTruth_y = y.to(torch.int64).to(self.device) \n",
    "        \n",
    "        #(1) h0\n",
    "        h0 = self.W0.t().matmul(chunk_data)  #(N,8,4)   W0:(495, channel) W0^T:(channel, 495)\n",
    "        h0 = F.relu(h0)              #(N,channel,4) \n",
    "        h0 = F.dropout(h0, p=self.dropratio) \n",
    "\n",
    "\n",
    "        #(2) h1 \n",
    "        h1 = self.W1.t().matmul(h0)  #(N,1,4)   W1^T : (1, channel)\n",
    "        h1 = h1.reshape(N,-1)  #(N,4)\n",
    "\n",
    "        #(3) loss \n",
    "        loss = loss_func(h1, groundTruth_y)\n",
    "        loss +=self.reg * torch.sum(self.W0*self.W0) + self.reg * torch.sum(self.W1*self.W1) #regularization \n",
    "        return loss\n",
    "\n",
    "    Weight_Net.train_process = train_forward"
   ]
  },
  {
   "cell_type": "code",
   "execution_count": 283,
   "id": "ahead-playlist",
   "metadata": {
    "id": "complex-closure"
   },
   "outputs": [],
   "source": [
    "def ModelTrain(model, chunk_data, y_data, reg, lr_decay=1, **kwargs):\n",
    "    \"\"\"\n",
    "    Run optimization to train the model.\n",
    "    \"\"\"\n",
    "    # optimizer setup\n",
    "    from torch import optim\n",
    "    optimizer = optim.Adam(\n",
    "    filter(lambda p: p.requires_grad, model.parameters()), learning_rate) # leave betas and eps by default\n",
    "    lr_scheduler = optim.lr_scheduler.LambdaLR(optimizer, lambda epoch: lr_decay ** epoch)\n",
    "\n",
    "    # sample minibatch data\n",
    "    iter_per_epoch = math.ceil(chunk_data.shape[0] // batch_size)\n",
    "    loss_history = []\n",
    "    model.train()\n",
    "    for i in range(num_epochs):\n",
    "        start_t = time.time()\n",
    "        for j in range(iter_per_epoch):\n",
    "            chunkdata = chunk_data[j*batch_size:(j+1)*batch_size]\n",
    "            y = y_data[j*batch_size:(j+1)*batch_size]\n",
    "\n",
    "            loss = model.train_process(chunkdata, y, reg)\n",
    "            optimizer.zero_grad() \n",
    "            loss.backward()\n",
    "            loss_history.append(loss.item())\n",
    "            optimizer.step()\n",
    "        end_t = time.time()\n",
    "        print('(Epoch {} / {}) loss: {:.4f} time per epoch: {:.1f}s'.format(i, num_epochs, loss.item(), end_t-start_t))\n",
    "        lr_scheduler.step()\n",
    "\n",
    "    # plot the training losses\n",
    "    plt.plot(loss_history, color='black')\n",
    "    plt.xlabel('Iteration')\n",
    "    plt.ylabel('Loss')\n",
    "    plt.title('Training loss history')\n",
    "    plt.show()\n"
   ]
  },
  {
   "cell_type": "code",
   "execution_count": 310,
   "id": "internal-building",
   "metadata": {
    "colab": {
     "base_uri": "https://localhost:8080/",
     "height": 236
    },
    "id": "liquid-delaware",
    "outputId": "820d89ae-fb91-4590-d6af-d6d7009161f0",
    "scrolled": false
   },
   "outputs": [
    {
     "name": "stdout",
     "output_type": "stream",
     "text": [
      "(Epoch 0 / 200) loss: 1.1288 time per epoch: 0.0s\n",
      "(Epoch 1 / 200) loss: 0.9667 time per epoch: 0.0s\n",
      "(Epoch 2 / 200) loss: 0.8494 time per epoch: 0.0s\n",
      "(Epoch 3 / 200) loss: 0.7562 time per epoch: 0.0s\n",
      "(Epoch 4 / 200) loss: 0.6799 time per epoch: 0.0s\n",
      "(Epoch 5 / 200) loss: 0.6179 time per epoch: 0.0s\n",
      "(Epoch 6 / 200) loss: 0.5673 time per epoch: 0.0s\n",
      "(Epoch 7 / 200) loss: 0.5257 time per epoch: 0.0s\n",
      "(Epoch 8 / 200) loss: 0.4907 time per epoch: 0.0s\n",
      "(Epoch 9 / 200) loss: 0.4609 time per epoch: 0.0s\n",
      "(Epoch 10 / 200) loss: 0.4353 time per epoch: 0.0s\n",
      "(Epoch 11 / 200) loss: 0.4133 time per epoch: 0.0s\n",
      "(Epoch 12 / 200) loss: 0.3941 time per epoch: 0.0s\n",
      "(Epoch 13 / 200) loss: 0.3771 time per epoch: 0.0s\n",
      "(Epoch 14 / 200) loss: 0.3619 time per epoch: 0.0s\n",
      "(Epoch 15 / 200) loss: 0.3484 time per epoch: 0.0s\n",
      "(Epoch 16 / 200) loss: 0.3363 time per epoch: 0.0s\n",
      "(Epoch 17 / 200) loss: 0.3254 time per epoch: 0.0s\n",
      "(Epoch 18 / 200) loss: 0.3157 time per epoch: 0.0s\n",
      "(Epoch 19 / 200) loss: 0.3068 time per epoch: 0.0s\n",
      "(Epoch 20 / 200) loss: 0.2987 time per epoch: 0.0s\n",
      "(Epoch 21 / 200) loss: 0.2913 time per epoch: 0.0s\n",
      "(Epoch 22 / 200) loss: 0.2846 time per epoch: 0.0s\n",
      "(Epoch 23 / 200) loss: 0.2785 time per epoch: 0.0s\n",
      "(Epoch 24 / 200) loss: 0.2729 time per epoch: 0.0s\n",
      "(Epoch 25 / 200) loss: 0.2678 time per epoch: 0.0s\n",
      "(Epoch 26 / 200) loss: 0.2631 time per epoch: 0.0s\n",
      "(Epoch 27 / 200) loss: 0.2588 time per epoch: 0.0s\n",
      "(Epoch 28 / 200) loss: 0.2549 time per epoch: 0.0s\n",
      "(Epoch 29 / 200) loss: 0.2513 time per epoch: 0.0s\n",
      "(Epoch 30 / 200) loss: 0.2480 time per epoch: 0.0s\n",
      "(Epoch 31 / 200) loss: 0.2449 time per epoch: 0.0s\n",
      "(Epoch 32 / 200) loss: 0.2421 time per epoch: 0.0s\n",
      "(Epoch 33 / 200) loss: 0.2394 time per epoch: 0.0s\n",
      "(Epoch 34 / 200) loss: 0.2370 time per epoch: 0.0s\n",
      "(Epoch 35 / 200) loss: 0.2346 time per epoch: 0.0s\n",
      "(Epoch 36 / 200) loss: 0.2324 time per epoch: 0.0s\n",
      "(Epoch 37 / 200) loss: 0.2304 time per epoch: 0.0s\n",
      "(Epoch 38 / 200) loss: 0.2285 time per epoch: 0.0s\n",
      "(Epoch 39 / 200) loss: 0.2266 time per epoch: 0.0s\n",
      "(Epoch 40 / 200) loss: 0.2249 time per epoch: 0.0s\n",
      "(Epoch 41 / 200) loss: 0.2232 time per epoch: 0.0s\n",
      "(Epoch 42 / 200) loss: 0.2216 time per epoch: 0.0s\n",
      "(Epoch 43 / 200) loss: 0.2201 time per epoch: 0.0s\n",
      "(Epoch 44 / 200) loss: 0.2187 time per epoch: 0.0s\n",
      "(Epoch 45 / 200) loss: 0.2173 time per epoch: 0.0s\n",
      "(Epoch 46 / 200) loss: 0.2159 time per epoch: 0.0s\n",
      "(Epoch 47 / 200) loss: 0.2147 time per epoch: 0.0s\n",
      "(Epoch 48 / 200) loss: 0.2135 time per epoch: 0.0s\n",
      "(Epoch 49 / 200) loss: 0.2124 time per epoch: 0.0s\n",
      "(Epoch 50 / 200) loss: 0.2113 time per epoch: 0.0s\n",
      "(Epoch 51 / 200) loss: 0.2103 time per epoch: 0.0s\n",
      "(Epoch 52 / 200) loss: 0.2094 time per epoch: 0.0s\n",
      "(Epoch 53 / 200) loss: 0.2085 time per epoch: 0.0s\n",
      "(Epoch 54 / 200) loss: 0.2077 time per epoch: 0.0s\n",
      "(Epoch 55 / 200) loss: 0.2069 time per epoch: 0.0s\n",
      "(Epoch 56 / 200) loss: 0.2062 time per epoch: 0.0s\n",
      "(Epoch 57 / 200) loss: 0.2054 time per epoch: 0.0s\n",
      "(Epoch 58 / 200) loss: 0.2047 time per epoch: 0.0s\n",
      "(Epoch 59 / 200) loss: 0.2040 time per epoch: 0.0s\n",
      "(Epoch 60 / 200) loss: 0.2034 time per epoch: 0.0s\n",
      "(Epoch 61 / 200) loss: 0.2027 time per epoch: 0.0s\n",
      "(Epoch 62 / 200) loss: 0.2021 time per epoch: 0.0s\n",
      "(Epoch 63 / 200) loss: 0.2016 time per epoch: 0.0s\n",
      "(Epoch 64 / 200) loss: 0.2011 time per epoch: 0.0s\n",
      "(Epoch 65 / 200) loss: 0.2006 time per epoch: 0.0s\n",
      "(Epoch 66 / 200) loss: 0.2001 time per epoch: 0.0s\n",
      "(Epoch 67 / 200) loss: 0.1996 time per epoch: 0.0s\n",
      "(Epoch 68 / 200) loss: 0.1992 time per epoch: 0.0s\n",
      "(Epoch 69 / 200) loss: 0.1988 time per epoch: 0.0s\n",
      "(Epoch 70 / 200) loss: 0.1984 time per epoch: 0.0s\n",
      "(Epoch 71 / 200) loss: 0.1980 time per epoch: 0.0s\n",
      "(Epoch 72 / 200) loss: 0.1977 time per epoch: 0.0s\n",
      "(Epoch 73 / 200) loss: 0.1973 time per epoch: 0.0s\n",
      "(Epoch 74 / 200) loss: 0.1970 time per epoch: 0.0s\n",
      "(Epoch 75 / 200) loss: 0.1967 time per epoch: 0.0s\n",
      "(Epoch 76 / 200) loss: 0.1964 time per epoch: 0.0s\n",
      "(Epoch 77 / 200) loss: 0.1961 time per epoch: 0.0s\n",
      "(Epoch 78 / 200) loss: 0.1958 time per epoch: 0.0s\n",
      "(Epoch 79 / 200) loss: 0.1956 time per epoch: 0.0s\n",
      "(Epoch 80 / 200) loss: 0.1953 time per epoch: 0.0s\n",
      "(Epoch 81 / 200) loss: 0.1950 time per epoch: 0.0s\n",
      "(Epoch 82 / 200) loss: 0.1948 time per epoch: 0.0s\n",
      "(Epoch 83 / 200) loss: 0.1945 time per epoch: 0.0s\n",
      "(Epoch 84 / 200) loss: 0.1943 time per epoch: 0.0s\n",
      "(Epoch 85 / 200) loss: 0.1941 time per epoch: 0.0s\n",
      "(Epoch 86 / 200) loss: 0.1938 time per epoch: 0.0s\n",
      "(Epoch 87 / 200) loss: 0.1936 time per epoch: 0.0s\n",
      "(Epoch 88 / 200) loss: 0.1934 time per epoch: 0.0s\n",
      "(Epoch 89 / 200) loss: 0.1932 time per epoch: 0.0s\n",
      "(Epoch 90 / 200) loss: 0.1930 time per epoch: 0.0s\n",
      "(Epoch 91 / 200) loss: 0.1928 time per epoch: 0.0s\n",
      "(Epoch 92 / 200) loss: 0.1926 time per epoch: 0.0s\n",
      "(Epoch 93 / 200) loss: 0.1924 time per epoch: 0.0s\n",
      "(Epoch 94 / 200) loss: 0.1922 time per epoch: 0.0s\n",
      "(Epoch 95 / 200) loss: 0.1920 time per epoch: 0.0s\n",
      "(Epoch 96 / 200) loss: 0.1918 time per epoch: 0.0s\n",
      "(Epoch 97 / 200) loss: 0.1917 time per epoch: 0.0s\n",
      "(Epoch 98 / 200) loss: 0.1915 time per epoch: 0.0s\n",
      "(Epoch 99 / 200) loss: 0.1913 time per epoch: 0.0s\n",
      "(Epoch 100 / 200) loss: 0.1912 time per epoch: 0.0s\n",
      "(Epoch 101 / 200) loss: 0.1910 time per epoch: 0.0s\n",
      "(Epoch 102 / 200) loss: 0.1909 time per epoch: 0.0s\n",
      "(Epoch 103 / 200) loss: 0.1907 time per epoch: 0.0s\n",
      "(Epoch 104 / 200) loss: 0.1906 time per epoch: 0.0s\n",
      "(Epoch 105 / 200) loss: 0.1904 time per epoch: 0.0s\n",
      "(Epoch 106 / 200) loss: 0.1903 time per epoch: 0.0s\n",
      "(Epoch 107 / 200) loss: 0.1902 time per epoch: 0.0s\n",
      "(Epoch 108 / 200) loss: 0.1900 time per epoch: 0.0s\n",
      "(Epoch 109 / 200) loss: 0.1899 time per epoch: 0.0s\n",
      "(Epoch 110 / 200) loss: 0.1898 time per epoch: 0.0s\n",
      "(Epoch 111 / 200) loss: 0.1896 time per epoch: 0.0s\n",
      "(Epoch 112 / 200) loss: 0.1895 time per epoch: 0.0s\n",
      "(Epoch 113 / 200) loss: 0.1894 time per epoch: 0.0s\n",
      "(Epoch 114 / 200) loss: 0.1892 time per epoch: 0.0s\n",
      "(Epoch 115 / 200) loss: 0.1891 time per epoch: 0.0s\n",
      "(Epoch 116 / 200) loss: 0.1890 time per epoch: 0.0s\n",
      "(Epoch 117 / 200) loss: 0.1889 time per epoch: 0.0s\n",
      "(Epoch 118 / 200) loss: 0.1888 time per epoch: 0.0s\n",
      "(Epoch 119 / 200) loss: 0.1887 time per epoch: 0.0s\n",
      "(Epoch 120 / 200) loss: 0.1885 time per epoch: 0.0s\n",
      "(Epoch 121 / 200) loss: 0.1884 time per epoch: 0.0s\n",
      "(Epoch 122 / 200) loss: 0.1883 time per epoch: 0.0s\n",
      "(Epoch 123 / 200) loss: 0.1882 time per epoch: 0.0s\n",
      "(Epoch 124 / 200) loss: 0.1881 time per epoch: 0.0s\n",
      "(Epoch 125 / 200) loss: 0.1880 time per epoch: 0.0s\n",
      "(Epoch 126 / 200) loss: 0.1879 time per epoch: 0.0s\n",
      "(Epoch 127 / 200) loss: 0.1878 time per epoch: 0.0s\n",
      "(Epoch 128 / 200) loss: 0.1877 time per epoch: 0.0s\n",
      "(Epoch 129 / 200) loss: 0.1876 time per epoch: 0.0s\n",
      "(Epoch 130 / 200) loss: 0.1875 time per epoch: 0.0s\n",
      "(Epoch 131 / 200) loss: 0.1874 time per epoch: 0.0s\n",
      "(Epoch 132 / 200) loss: 0.1873 time per epoch: 0.0s\n",
      "(Epoch 133 / 200) loss: 0.1872 time per epoch: 0.0s\n",
      "(Epoch 134 / 200) loss: 0.1871 time per epoch: 0.0s\n",
      "(Epoch 135 / 200) loss: 0.1870 time per epoch: 0.0s\n",
      "(Epoch 136 / 200) loss: 0.1869 time per epoch: 0.0s\n",
      "(Epoch 137 / 200) loss: 0.1868 time per epoch: 0.0s\n",
      "(Epoch 138 / 200) loss: 0.1867 time per epoch: 0.0s\n",
      "(Epoch 139 / 200) loss: 0.1866 time per epoch: 0.0s\n",
      "(Epoch 140 / 200) loss: 0.1865 time per epoch: 0.0s\n",
      "(Epoch 141 / 200) loss: 0.1864 time per epoch: 0.0s\n",
      "(Epoch 142 / 200) loss: 0.1863 time per epoch: 0.0s\n",
      "(Epoch 143 / 200) loss: 0.1863 time per epoch: 0.0s\n",
      "(Epoch 144 / 200) loss: 0.1862 time per epoch: 0.0s\n",
      "(Epoch 145 / 200) loss: 0.1861 time per epoch: 0.0s\n",
      "(Epoch 146 / 200) loss: 0.1860 time per epoch: 0.0s\n",
      "(Epoch 147 / 200) loss: 0.1859 time per epoch: 0.0s\n",
      "(Epoch 148 / 200) loss: 0.1858 time per epoch: 0.0s\n",
      "(Epoch 149 / 200) loss: 0.1857 time per epoch: 0.0s\n",
      "(Epoch 150 / 200) loss: 0.1857 time per epoch: 0.0s\n",
      "(Epoch 151 / 200) loss: 0.1856 time per epoch: 0.0s\n",
      "(Epoch 152 / 200) loss: 0.1855 time per epoch: 0.0s\n",
      "(Epoch 153 / 200) loss: 0.1854 time per epoch: 0.0s\n",
      "(Epoch 154 / 200) loss: 0.1853 time per epoch: 0.0s\n",
      "(Epoch 155 / 200) loss: 0.1853 time per epoch: 0.0s\n",
      "(Epoch 156 / 200) loss: 0.1852 time per epoch: 0.0s\n",
      "(Epoch 157 / 200) loss: 0.1851 time per epoch: 0.0s\n",
      "(Epoch 158 / 200) loss: 0.1851 time per epoch: 0.0s\n",
      "(Epoch 159 / 200) loss: 0.1850 time per epoch: 0.0s\n",
      "(Epoch 160 / 200) loss: 0.1849 time per epoch: 0.0s\n",
      "(Epoch 161 / 200) loss: 0.1848 time per epoch: 0.0s\n",
      "(Epoch 162 / 200) loss: 0.1848 time per epoch: 0.0s\n",
      "(Epoch 163 / 200) loss: 0.1847 time per epoch: 0.0s\n",
      "(Epoch 164 / 200) loss: 0.1846 time per epoch: 0.0s\n"
     ]
    },
    {
     "name": "stdout",
     "output_type": "stream",
     "text": [
      "(Epoch 165 / 200) loss: 0.1846 time per epoch: 0.0s\n",
      "(Epoch 166 / 200) loss: 0.1845 time per epoch: 0.0s\n",
      "(Epoch 167 / 200) loss: 0.1844 time per epoch: 0.0s\n",
      "(Epoch 168 / 200) loss: 0.1843 time per epoch: 0.0s\n",
      "(Epoch 169 / 200) loss: 0.1842 time per epoch: 0.0s\n",
      "(Epoch 170 / 200) loss: 0.1842 time per epoch: 0.0s\n",
      "(Epoch 171 / 200) loss: 0.1841 time per epoch: 0.0s\n",
      "(Epoch 172 / 200) loss: 0.1840 time per epoch: 0.0s\n",
      "(Epoch 173 / 200) loss: 0.1840 time per epoch: 0.0s\n",
      "(Epoch 174 / 200) loss: 0.1839 time per epoch: 0.0s\n",
      "(Epoch 175 / 200) loss: 0.1838 time per epoch: 0.0s\n",
      "(Epoch 176 / 200) loss: 0.1837 time per epoch: 0.0s\n",
      "(Epoch 177 / 200) loss: 0.1837 time per epoch: 0.0s\n",
      "(Epoch 178 / 200) loss: 0.1836 time per epoch: 0.0s\n",
      "(Epoch 179 / 200) loss: 0.1835 time per epoch: 0.0s\n",
      "(Epoch 180 / 200) loss: 0.1835 time per epoch: 0.0s\n",
      "(Epoch 181 / 200) loss: 0.1834 time per epoch: 0.0s\n",
      "(Epoch 182 / 200) loss: 0.1833 time per epoch: 0.0s\n",
      "(Epoch 183 / 200) loss: 0.1833 time per epoch: 0.0s\n",
      "(Epoch 184 / 200) loss: 0.1832 time per epoch: 0.0s\n",
      "(Epoch 185 / 200) loss: 0.1831 time per epoch: 0.0s\n",
      "(Epoch 186 / 200) loss: 0.1831 time per epoch: 0.0s\n",
      "(Epoch 187 / 200) loss: 0.1830 time per epoch: 0.0s\n",
      "(Epoch 188 / 200) loss: 0.1829 time per epoch: 0.0s\n",
      "(Epoch 189 / 200) loss: 0.1829 time per epoch: 0.0s\n",
      "(Epoch 190 / 200) loss: 0.1828 time per epoch: 0.0s\n",
      "(Epoch 191 / 200) loss: 0.1827 time per epoch: 0.0s\n",
      "(Epoch 192 / 200) loss: 0.1827 time per epoch: 0.0s\n",
      "(Epoch 193 / 200) loss: 0.1826 time per epoch: 0.0s\n",
      "(Epoch 194 / 200) loss: 0.1826 time per epoch: 0.0s\n",
      "(Epoch 195 / 200) loss: 0.1825 time per epoch: 0.0s\n",
      "(Epoch 196 / 200) loss: 0.1824 time per epoch: 0.0s\n",
      "(Epoch 197 / 200) loss: 0.1824 time per epoch: 0.0s\n",
      "(Epoch 198 / 200) loss: 0.1823 time per epoch: 0.0s\n",
      "(Epoch 199 / 200) loss: 0.1822 time per epoch: 0.0s\n"
     ]
    },
    {
     "data": {
      "image/png": "[encoded data removed]",
      "text/plain": [
       "<Figure size 432x288 with 1 Axes>"
      ]
     },
     "metadata": {},
     "output_type": "display_data"
    }
   ],
   "source": [
    "num_epochs = 200\n",
    "batch_size = 544\n",
    "learning_rate = 3e-3\n",
    "to_float_cpu = {'dtype': torch.float, 'device': 'cpu'}\n",
    "# create the weight_model \n",
    "weight_model = Weight_Net(\n",
    "          input_dim_r = train_chunks_pad_scores.shape[1],\n",
    "          input_dim_c = train_chunks_pad_scores.shape[2],  \n",
    "          channel_dim= 64, \n",
    "          dropratio = 0.0,\n",
    "          **to_float_cpu)\n",
    "ModelTrain(weight_model, train_chunks_pad_scores, true_train_labels,reg = 0.00,\n",
    "            num_epochs=num_epochs, batch_size=batch_size, \n",
    "            learning_rate=learning_rate)\n"
   ]
  },
  {
   "cell_type": "code",
   "execution_count": 302,
   "id": "federal-monroe",
   "metadata": {
    "colab": {
     "base_uri": "https://localhost:8080/",
     "height": 236
    },
    "id": "ethical-redhead",
    "outputId": "d4587190-9dd2-42a2-af78-72b6f1fc5010"
   },
   "outputs": [],
   "source": [
    "## Get the trained weight\n",
    "trained_W0 = [i for i in weight_model.parameters()][0]  #(495, 1024)\n",
    "trained_W1 = [i for i in weight_model.parameters()][2]  #(1024, 1)"
   ]
  },
  {
   "cell_type": "markdown",
   "id": "black-trainer",
   "metadata": {
    "id": "9WE0Y_hvoVIq"
   },
   "source": [
    "### Read the trained weights"
   ]
  },
  {
   "cell_type": "code",
   "execution_count": 306,
   "id": "scenic-prevention",
   "metadata": {
    "id": "expanded-withdrawal"
   },
   "outputs": [],
   "source": [
    "# for colab:\n",
    "# trained_W0 = torch.tensor(np.loadtxt('/content/drive/MyDrive/Colab_Notebooks/Reddit_NLP/output_files/BERTlarge_CLS2_model_chunk512/trained_W0.txt'),dtype=torch.float32)\n",
    "# trained_W1 = torch.tensor(np.loadtxt('/content/drive/MyDrive/Colab_Notebooks/Reddit_NLP/output_files/BERTlarge_CLS2_model_chunk512/trained_W1.txt'),dtype=torch.float32)\n",
    "# for local:\n",
    "trained_W0 = torch.tensor(np.loadtxt('/Users/muzheguo/Desktop/GWU/Group/MyPaper/fda_intern/output_files/BERTlarge_CLS2_model_chunk512/trained_W0.txt'),dtype=torch.float32)\n",
    "trained_W1 = torch.tensor(np.loadtxt('/Users/muzheguo/Desktop/GWU/Group/MyPaper/fda_intern/output_files/BERTlarge_CLS2_model_chunk512/trained_W1.txt'),dtype=torch.float32)"
   ]
  },
  {
   "cell_type": "markdown",
   "id": "progressive-naples",
   "metadata": {
    "id": "about-correspondence"
   },
   "source": [
    "### (2) test data: original chunk scores and zero-pad chunk scores"
   ]
  },
  {
   "cell_type": "code",
   "execution_count": 307,
   "id": "robust-auckland",
   "metadata": {
    "id": "employed-apollo"
   },
   "outputs": [
    {
     "name": "stdout",
     "output_type": "stream",
     "text": [
      "test_chunks_pad_scores: torch.Size([137, 100, 2])\n"
     ]
    }
   ],
   "source": [
    "true_test_labels =  final_data_test['class'].to_numpy().astype(\"int64\")\n",
    "test_chunks_scores = []\n",
    "\n",
    "for Author in final_data_test['author']:\n",
    "    chunk_indeces = test_author_ind_dic[Author]\n",
    "    if len(chunk_indeces) <= max_chunk_nums:\n",
    "      chunks_outputs = test_predictions_chunk512_epoch2[chunk_indeces, :]\n",
    "    if len(chunk_indeces) > max_chunk_nums:\n",
    "      chunks_outputs = test_predictions_chunk512_epoch2[chunk_indeces[0:max_chunk_nums], :]\n",
    "    test_chunks_scores.append(chunks_outputs)\n",
    "\n",
    "### zero-pad chunk scores\n",
    "test_chunks_pad_scores = []\n",
    "for i in range(len(test_chunks_scores)):\n",
    "    zero_pad = np.zeros( (max_chunk_nums -len(test_chunks_scores[i]), len(set(final_data['class']))) )\n",
    "    pad_score = np.vstack((test_chunks_scores[i], zero_pad))\n",
    "    test_chunks_pad_scores.append(pad_score)\n",
    "test_chunks_pad_scores = torch.tensor(np.array(test_chunks_pad_scores),dtype=torch.float)  #(544,495,4)\n",
    "print('test_chunks_pad_scores:',test_chunks_pad_scores.shape)"
   ]
  },
  {
   "cell_type": "markdown",
   "id": "encouraging-yahoo",
   "metadata": {
    "id": "buried-respondent"
   },
   "source": [
    "### (3) time weight and weighted scores"
   ]
  },
  {
   "cell_type": "code",
   "execution_count": 308,
   "id": "experienced-department",
   "metadata": {
    "colab": {
     "base_uri": "https://localhost:8080/",
     "height": 236
    },
    "id": "preceding-label",
    "outputId": "b9a6c756-df4a-4f23-e051-71dfea1aa094"
   },
   "outputs": [],
   "source": [
    "test_h0 = trained_W0.t().matmul(test_chunks_pad_scores)\n",
    "weighted_test_scores = trained_W1.t().matmul(test_h0).reshape(len(true_test_labels),-1)\n",
    "weighted_test_scores = weighted_test_scores.detach().numpy() # convert torch.tensor to array"
   ]
  },
  {
   "cell_type": "markdown",
   "id": "possible-making",
   "metadata": {
    "id": "radical-national"
   },
   "source": [
    "### (4) Final Accuracy"
   ]
  },
  {
   "cell_type": "code",
   "execution_count": 317,
   "id": "relative-explosion",
   "metadata": {
    "colab": {
     "base_uri": "https://localhost:8080/",
     "height": 236
    },
    "id": "asian-blanket",
    "outputId": "53406f36-cd0a-446a-b55f-ee0e1a64f167",
    "scrolled": false
   },
   "outputs": [
    {
     "name": "stdout",
     "output_type": "stream",
     "text": [
      "0.9124087591240876\n"
     ]
    },
    {
     "data": {
      "text/plain": [
       "Text(0.5, 1.0, 'Predicted lables(by weighted chunk scores)')"
      ]
     },
     "execution_count": 317,
     "metadata": {},
     "output_type": "execute_result"
    },
    {
     "data": {
      "image/png": "[encoded data removed]",
      "text/plain": [
       "<Figure size 720x360 with 2 Axes>"
      ]
     },
     "metadata": {},
     "output_type": "display_data"
    }
   ],
   "source": [
    "print(flat_accuracy(weighted_test_scores, true_test_labels)) \n",
    "import matplotlib.pyplot as plt\n",
    "from matplotlib.pyplot import figure\n",
    "\n",
    "figure(figsize=(10, 5))\n",
    "plt.subplot(1, 2, 1)\n",
    "true_test_labels_text = [['non-positive','positive'][true_test_labels[i]] for i in range(len(true_test_labels))]\n",
    "plt.hist(true_test_labels_text)\n",
    "# plt.xticks(rotation=45)\n",
    "plt.title('True lables')\n",
    "\n",
    "plt.subplot(1, 2, 2)\n",
    "weighted_labels = np.argmax(weighted_test_scores, axis=1)\n",
    "weighted_labels_text = [['non-positive','positive'][weighted_labels[i]] for i in range(len(weighted_labels))]\n",
    "plt.hist(weighted_labels_text)\n",
    "# plt.xticks(rotation=45)\n",
    "plt.title('Predicted lables(by weighted chunk scores)')"
   ]
  },
  {
   "cell_type": "markdown",
   "id": "billion-status",
   "metadata": {
    "id": "fixed-bobby"
   },
   "source": [
    "### Look at the incorrect prediction:"
   ]
  },
  {
   "cell_type": "code",
   "execution_count": 290,
   "id": "still-absorption",
   "metadata": {
    "colab": {
     "base_uri": "https://localhost:8080/",
     "height": 1000
    },
    "id": "unable-general",
    "outputId": "b2c295ba-eae6-4861-e553-92b94714ba85",
    "scrolled": false
   },
   "outputs": [
    {
     "name": "stdout",
     "output_type": "stream",
     "text": [
      "incorrect prediction:\n",
      "Unconfirmed/Questionable ------------> Tested Positive\n",
      "Unconfirmed/Questionable ------------> Tested Positive\n",
      "Tested Positive ------------> Unconfirmed/Questionable\n",
      "Unconfirmed/Questionable ------------> Tested Positive\n",
      "Unconfirmed/Questionable ------------> Tested Positive\n",
      "Unconfirmed/Questionable ------------> Tested Positive\n",
      "Tested Positive ------------> Unconfirmed/Questionable\n",
      "Tested Positive ------------> Unconfirmed/Questionable\n",
      "Tested Positive ------------> Unconfirmed/Questionable\n",
      "Unconfirmed/Questionable ------------> Tested Positive\n",
      "Unconfirmed/Questionable ------------> Tested Positive\n",
      "Unconfirmed/Questionable ------------> Tested Positive\n"
     ]
    },
    {
     "data": {
      "text/html": [
       "<div>\n",
       "<style scoped>\n",
       "    .dataframe tbody tr th:only-of-type {\n",
       "        vertical-align: middle;\n",
       "    }\n",
       "\n",
       "    .dataframe tbody tr th {\n",
       "        vertical-align: top;\n",
       "    }\n",
       "\n",
       "    .dataframe thead th {\n",
       "        text-align: right;\n",
       "    }\n",
       "</style>\n",
       "<table border=\"1\" class=\"dataframe\">\n",
       "  <thead>\n",
       "    <tr style=\"text-align: right;\">\n",
       "      <th></th>\n",
       "      <th>Author</th>\n",
       "      <th>Groundtruth labels</th>\n",
       "      <th>Predicted labels</th>\n",
       "      <th>title_body</th>\n",
       "    </tr>\n",
       "  </thead>\n",
       "  <tbody>\n",
       "    <tr>\n",
       "      <th>0</th>\n",
       "      <td>prrk-industries</td>\n",
       "      <td>Unconfirmed/Questionable</td>\n",
       "      <td>Tested Positive</td>\n",
       "      <td>Symptoms, hallucinations, dreams - a diary: I’ve just very recently made a recovery. Here is a video and piece of music inspired by the symptoms, hallucinations and dreams I had over the eight days. My diary. Not suitable for youngsters.https://youtu.be/uy6w_eh9t6U</td>\n",
       "    </tr>\n",
       "    <tr>\n",
       "      <th>1</th>\n",
       "      <td>jnrj10</td>\n",
       "      <td>Unconfirmed/Questionable</td>\n",
       "      <td>Tested Positive</td>\n",
       "      <td>Just found out the mother in law has tested positive for Covid19 and put me and my family at risk!: Don’t even know what to say really iv been withmy girlfriend just under a year and everything was going really well and all this pandemic came along..My problem is she lives with her mum and I’m worried she might have contracted it from her as she’s just tested positive with it and I know this might sound stupid but I feel as though she’s given me a STD or something I’m absolutely livid they did not follow the rules at all Iv followed the governments guidelines and I have been going to and from work to home and once a week to Asda but the pair of them have been off work for a month and been going to numerous shops trying to find the best deals in the same day visiting family and friends going to bbqs and all sorts and I have said to my misses i think it’s highly Irresponsible Of her to be socialising with friends and family which she apologised for but her mum has flat out said if I die from it I die what can I do about it !? I can’t believe how selfish she is I don’t think she realises how many people she could have potentially put into danger My girlfriend gets tested on Friday I was going to wait until her results to come back and see what the results are and go from there but iv booked a test for my self on Friday and I’m going to do the right thing and get tested my self i actually can’t explain how I’m feeling right now so many mixed emotions I feel so mad and at the same time guilty for arguing with my misses really don’t know what to do I will feel so much more guilt if iv passed it on to people in my own house hold and to people at workI thank anyone that has took time out and read this it’s my first ever post it’s a shame it had to be such a negative one but I had to get it off my chest on wards and up wards ayee Keep safe everyone best of luck!. Just found out the mother in law has tested positive for Covid19 and put me and my family at risk!: Don’t even know what to say really iv been withmy girlfriend just under a year and everything was going really well and all this pandemic came along..My problem is she lives with her mum and I’m worried she might have contracted it from her as she’s just tested positive with it and I know this might sound stupid but I feel as though she’s given me a STD or something I’m absolutely livid they did not follow the rules at all Iv followed the governments guidelines and I have been going to and from work to home and once a week to Asda but the pair of them have been off work for a month and been going to numerous shops trying to find the best deals in the same day visiting family and friends going to bbqs and all sorts and I have said to my misses i think it’s highly Irresponsible Of her to be socialising with friends and family which she apologised for but her mum has flat out said if I die from it I die what can I do about it !? I can’t believe how selfish she is I don’t think she realises how many people she could have potentially put into danger My girlfriend gets tested on Friday I was going to wait until her results to come back and see what the results are and go from there but iv booked a test for my self on Friday and I’m going to do the right thing and get tested my self i actually can’t explain how I’m feeling right now so many mixed emotions I feel so mad and at the same time guilty for arguing with my misses really don’t know what to do I will feel so much more guilt if iv passed it on to people in my own house hold and to people at workI thank anyone that has took time out and read this it’s my first ever post it’s a shame it had to be such a negative one but I had to get it off my chest on wards and up wards ayee Keep safe everyone best of luck!. comment: Sorry mate she’s my girlfriend! and no we live apart, since we found out about her mum testing positive I wanted to ask her to move in with me but I’m worried she might have it and spread it in my household it’s a really sticky position</td>\n",
       "    </tr>\n",
       "    <tr>\n",
       "      <th>2</th>\n",
       "      <td>beerdrinkerlifesaver</td>\n",
       "      <td>Tested Positive</td>\n",
       "      <td>Unconfirmed/Questionable</td>\n",
       "      <td>comment: Hey guysSo Saturday I woke up feeling feverish. Recorded temp in the 97s but I question my digital thermometers accuracy. The feeling of fever was intermittent thru Monday. Though I always feel feverish when I put a blanket on. No resp symptoms other than an on and off itchy throat. Also been having diarrhea the past couple mornings. Got tested today but won’t know for a few days if I’m positive. Feel like no resp symptoms thru 5 days is good right?Sorry all the anxiety is killing me!Take care. My day by day symptoms. Help my anxiety?: Day 1 (Sat) - Woke up feeling feverish but no recorded temp (my theromometer might be trash). Some fatigue and chills.Day 2 - on and off feelings of fever but no recorded temp once again. Minor chills but nothing crazy.Day 3 - intermittent fever once again. Fatigue. Minor chills. Loss of appetite Day 4 - Woke up and had some diahrrea. But I felt the best I had since Friday. Still had the minor itch/tickle in throat. Went to bed and felt hot when I put the blanket on.Day 5 (today) - woke up and had some more compact stool still kind of loose though. Minor pain when I breathe deeply but never if I don’t do it. Feel wicked exhausted at this point. No cough to this point. I have been forcing myself to eat and stay hydrated. And I also got tested today at MA’s first responder only test site. My anxiety stinks right now. Could use some insight!. comment: How you feeling this morning? I had some diarrhea and some very very slight chest tightness. Also very exhausted.. comment: These were my exact symptoms and they started last Wednesday. Never got a sore throat though, just a constant little tickle/scratch that goes when I eat or drink. Feeling more or less the same with diarrhea in the morning. The fatigue comes in waves. On Day 8 now hoping I’m on the tail end &lt;U+0001F91E&gt;&lt;U+0001F3FB&gt;&lt;U+0001F91E&gt;&lt;U+0001F3FB&gt;.. comment: Yeah if you have anxiety like I do just be careful what you read. Only makes it worse. Quarantine and bug the shit out of your fam and friends on the phone. Play video games. Watch Netflix. I got tested cause I’m a first responder so when I know I’ll let you know!. comment: Lol got it done yesterday and it’s wild. Broke my leg years back and wasn’t in as much discomfort as those 2-3 seconds. Take care!. comment: How are you feeling now? I’m in a similar timeline. Day 7 and the burning sensation started overnight.. comment: Have had basically the same symptoms minus the headache. Also hoping I’m in the mild category! Makes it impossible to sleep.. Burning lung feeling?: I just woke up and this will be Day 7 without any respiratory symptoms. Feeling fatigued. 5th straight day with diarrhea as well. But had an awful burning feeling in my chest last night that comes and goes. Also quarantining alone. This absolutely sucks.. comment: Tested Wednesday I’ll know in a couple days or so. comment: So as I’m thinking back. Is it entirely possible I was dealing with heartburn? I do remember dealing with gas, and that acidic burp you sometimes get... comment: No I’ve been sticking to water/Gatorade. Had some ginger ale this morning to sort of settle the stomach. Eating less for sure.. comment: Just the middle. comment: Exactly where it is. We will see. Other people have been reporting the same symptoms. I got tested Wednesday. Will have the results tomorrow-Monday somewhere. Thank you for the kind words and advice! My anxiety is killing me and never having talked to anyone about it is also killing me. Once this is all over I will get it checked out. But holy shit I want it to be over so fucking bad. comment: What do you mean by on point? Not criticizing, just asking. Been going real light. Some clementines, wheat toast, PBnJ here and there.. comment: Just posted an updated post!. comment: There’s a bunch of debate whether NSAID’s like ibuprofen further aggravate COVID-19. I’d call your doctor and ask. Can’t hurt.. comment: Following because I also am scared shitless. Somewhere between day 7-9.. On day 11... Timeline of symptoms: Me: 27M, overweight, otherwise no pre existing conditions. EMT/dispatcher in MA, live in NH.Day 1 - Fatigue. Worked a 16 hour shift and just figured it was not getting enough sleep or whatever.Day 2 - Scratchy throat. Didn’t think anything of it. Still felt tired at points.Day 3 - Fatigue came back. Worked a shift til 11pm and had another one at 7am the next day. Day 4 - Woke up with a fever. Nothing measured on thermometer but I question it’s accuracy. On and off feelings of fever, fatigue, and chills. Now waking up every hour or so at night.Day 5 - Diarrhea first thing in the morning. Otherwise the same symptoms as yesterday. Day 6 - Worst day yet. Felt extra fatigued all day. Had AM diarrhea again and the on and off feverish feeling kept coming back.Day 7 - Felt like I was getting better. Still had AM runs but otherwise I felt alright. No appetite. Still slept like shit that night. Also noticed little pains when I take a deep breath. Day ...</td>\n",
       "    </tr>\n",
       "    <tr>\n",
       "      <th>3</th>\n",
       "      <td>InitialHall</td>\n",
       "      <td>Unconfirmed/Questionable</td>\n",
       "      <td>Tested Positive</td>\n",
       "      <td>Disposable Medical Porducts: Hi guys, I am representing a Medical Supplies Manufacturer in China. We produce several kinds of medical suppliers, specialize in manufacturing disposable medical products and forehead thermometer for overseas markets. We have all the required certificates of qualification. Email me at [shengxiang2017@163.com](mailto:shengxiang2017@163.com) or PM me for more information!. comment: We can provide the surgery mask and forehead thermometer. Let me know if you r interested.</td>\n",
       "    </tr>\n",
       "    <tr>\n",
       "      <th>4</th>\n",
       "      <td>8bitcake</td>\n",
       "      <td>Unconfirmed/Questionable</td>\n",
       "      <td>Tested Positive</td>\n",
       "      <td>Mild case: Anyone else get it super mild? I was positive but I was definitely not that bad off. The person who we found out gave it to me got it pretty bad</td>\n",
       "    </tr>\n",
       "    <tr>\n",
       "      <th>5</th>\n",
       "      <td>FerretWrath</td>\n",
       "      <td>Unconfirmed/Questionable</td>\n",
       "      <td>Tested Positive</td>\n",
       "      <td>Day 5 of this.: I’ll start by saying my state is really short on tests and very overwhelmed right now, so they didn’t test me, but had an over-the-phone consult with me and said that because of my symptoms, it’s very likely that I have it and to self-quarantine.Day 1: Very sore throat developed. Fast onset of upper-respiratory issues. Sinuses filled up quick with goop, sneezing, headaches from it. I used one of those humidifiers that spouts a big column of steam and damn near turns the room into a sauna. It helped immensely but mucus production never slowed. Day 2: More of the same, skin and body/joint aches began. Day 3: Pretty constant low grade fever that didn’t exceed 101°F. I let it stay because I know fevers can be a good thing. I began to feel my lungs filling with some sort of fluid and I started to have trouble breathing. Called doctor. They told me to monitor symptoms and to please not go to the ER as they are having to send people home already.Night 3: I thought it was going to be the end for me. My lungs had filled so much. I made sure not to take any cough suppressant, with Sudafed being the only OTC. I have an auto-immune disease and have recently had brain surgery so I think this hit me very hard. My lungs had probably 10-20% capacity left. Every breath was hard, I felt like I was being suffocated. If I sat up for two long, the muscles of my back and abdomen would consume too much oxygen and my fingers/toes/scalp would begin to tingle and then burn and I would feel like I was going to faint. I just wasn’t getting enough air. My breathing was loud and labored. I had to work hard to keep my panic down so I could control my breathing. I called the doctor. She prescribed me an inhaler and a cough suppressant that I could pick up in the morning and said I most likely have coronavirus. Day 4: I took the inhaler but I thought the cough suppressant wasn’t wise, seeing as I needed to cough up that crap. The inhaler helped loosen up the stuff in my lungs immensely, but the coughing was violent and painful. The fever remained and I let it stay. The pain in my joints remained, my skin still hurt. Day 5: Fever lifted, sinuses began to clear on their own. Lungs are starting to clear and the soreness has as well. I think I’m on the up and up.My boyfriend who lives with me got a sore throat two days before I did, but it cleared and that was his only symptom. So far he seems unaffected by any of the things that happened to me. I don’t know for sure if I had Coronavirus but I’ll say that I’ve never had a *flu* that tried to suffocate me like this sickness did. Stay safe out there, folks.</td>\n",
       "    </tr>\n",
       "    <tr>\n",
       "      <th>6</th>\n",
       "      <td>nyteacher19</td>\n",
       "      <td>Tested Positive</td>\n",
       "      <td>Unconfirmed/Questionable</td>\n",
       "      <td>comment: Works very well! Thank you. Also, featured on a COPD tips list: https://mylungsmylife.org/topics/group-1/how-to-clear-your-chest/sputum-benefits-and-downside/Medical professionals use this with patients w respiratory illness which is many of us!. comment: That sucks. Hope you get back to better soon.. comment: Wow what network? USA?. comment: Wow 23 days of fever?! God bless you. I hope you find comfort soon.. comment: That's great. It's gotta quit by 37! So I've heard. Where do you live?. comment: You said that! It's that hour. I'm getting research dizzy.. comment: 2 weeks? Can you tell me. Was the diarrhea normal, for diarrhea that is? Or was it irregular? Glad you're better 17 lbs! That sounds like a dangerous loss.. comment: Thanks for the info about coughing. I thought you were supposed to cough and if it dry, try to get some phlegm up. Damnit. Well, back to research. It's been 18 days and the worst coughing in the last 5. Is this thing coming or going? Thanks. comment: Has anyone had really REALLY bad diarrhea? My mom's is really irregular. Had it for 2 days with nausea and vomiting. Felt so much better but still bad cough. Now it's back. Worse too. Like nothing she's ever experienced. Fevers are staying low grade.Graphic but is the consistency normal for diarrhea? If not, please give me some characteristics so we have more info about this virus! Reply below. Those who don't wanna know, don't read.. comment: Thanks. Trying with pedialyte.. comment: Just heard of muffled crackling and loss of hearing today!. comment: Oh thanks for the info. This was a friend who told me he had it for 2 weeks and thinks it might have been covid. How long does yours last?. comment: What if you aren't feeling any gunk or phlegm? Do you still warn against allowing it to remain dry? I'm surprised and this is the first I heard about forcing phlegm up using the methods named here. I only heard of ACBT, but I thought that was if you had a feeling of phlegm catching.. comment: February 22 symptoms were cough, fever, fatigue. Blood work was really irregular. High Co2, HGB, MCV, MPV, IG, BUN, Low Anion Gap. Looked them all up and they all allude to lung, low platelets, high red blood cells, lupus,infection, etc. This is a really rudimentary look at the blood work but freakin weird. Anyone know much about blood work may chime in.. comment: They say within the 1st 8 days it is still contagious. Mask is the best bet when you do go. You're being strong and smart! Great job!. comment: I wasn't sure if you meant 14 symptom free. It's hard but you can do it.. comment: Same. I want to shop for my sick mom. But no more shopping until I'm post symptoms.. comment: You would never know unless they have been quarantining 4 weeks before seeing the OP. 2 for the possible onset of symptoms from the other roommates and 2 for the presence of symptoms themself. Highly unlikely or impossible to know where you got it. Even the spouses who get it so not know unless they've been in quarantine for 14 days. 3 in a house would be 28 days. Right? I think. Does this make sense as a possible (though unlikely) scenario?Person A exposed March 1 and is asymptomatic carrier.Person B catches it from Person A March 15 and is asymptomatic. Person C catches it from Person B on March 29 and develops severe case on April 12.. comment: I also had fever first 3/17 then loss of senses 3/19 and still can't really smell much. Taste came back almost entirely.. Reinfected or relapsed? 34/f: I'm in NY. First fever 3/17, on and off with a huge array of symptoms. Tested positive on 3/27. Symptom free starting on 4/2 except for headaches and occasional cough. Now I have a 100.3 fever, chills, aches, sore throat.I don't know if I'm reinfected or relapsing... Surrounded by sick family and been so cautious (masks, isolated, cleaning, closing toilet lid, only go in shared space or after them to cook).. comment: Thank you. I may have too but that was before fevers so I don't count it.. comment: Wow hard to hear. Will research.. comment: Thank you. Want to know if my family and I will just keep reinfecting one another.. comment: Wow yikes. Thank you. comment: Thank you. Figures.. comment: Thanks for sharing. comment: Thank you. I hope it's round 2. comment: 5 days with just headaches. Thought I was healed and those might be from stress, allergies, or lingering symptoms. I'm sorry you're experiencing that. Mine is the opposite, with my chest and coughing early on. Now high fever, sore throat, more headaches, and diarrhea. It feels minor now that I took tylenol.. comment: Great. And Thanks for your tip.. comment: I'm sorry to hear. That's exhausting. I am finally ok. I haven't had anything but dry mouth /extreme throat tightening in the last 10 days and before that was sore throats and headaches. I feel like it's finally left my system because I have more energy. During my relapses, I didn't get my energy back. Keep your fluids and food up in case you lose your appetite. Yo...</td>\n",
       "    </tr>\n",
       "    <tr>\n",
       "      <th>7</th>\n",
       "      <td>Ourtimedownhere</td>\n",
       "      <td>Tested Positive</td>\n",
       "      <td>Unconfirmed/Questionable</td>\n",
       "      <td>comment: I had mono once and didn't know it until I had some full-panel blood work done shortly after I had recovered. Doctor said \"did you know you had mono?\" It can slip in under the radar if you are under stress and already depressed sometimes. In the wise words of Wayne Campbell \" I once thought I had mono for an entire year, It turned out I was just really bored.\". comment: I had a test on a Tuesday and didn't get results till the Monday. I just had my second Antibody test 47 days out from my original symptoms.: This virus sure has been a ride of stress and insanity. I had what could be called a \"mild\" case.The worst was two days of all over body aches and a low-grade fever and a terrible headache for two weeks. I had had the following symptoms: a sore throat, burning sinuses, a runny nose, body aches, a weird pain in my neck, fluttering heart, and extreme fatigue. I have felt almost human minus the fatigue for the last 3 weeks, and feeling grateful. Two weeks ago I had an antibody test done at an independent lab, it was basically just a yes/no IgG/IgM test. I tested negative for the antibodies, and positive for the IgM which is basically the result you would get at the beginning of an illness and certainly not a month out. I followed up with my doctor to see what she though, she said that she couldn't rule out that I was still contagious a month later since I had IgM showing up, but it's hard to tell because the test that I took was very yes/no and they have a higher fail rate. Today I took another Antibody test through my doctor, this was a full blood draw that is being sent to the lab and it will show actual levels not just yes/no. I scared and excited to know. I realize antibodies do not mean immune especially since so much is unknown about the virus, but I'm going to feel a lot better if I have them since I will consider myself recovered by that point, at the bare minimum I don't want to have IgM showing up again, that thought that a person can be infectious 1 month out is scary. Thanks for listening, I just needed to vent a little, this whole ordeal has been stressful to say the least.. comment: My doctor is doing them in-house. I'm in Arizona. I gotta give one to my doctor, she has been on top of this from the beginning. I was able to get the Covid test when a lot of other people didn't have one yet. I went to the independent lab two weeks ago because my doctor didn't have them yet. She didn't want to use the yes/no non- FDA approved ones. With the yes/no ones they can take a finger-prick of blood or a small blood draw for them. The one I got today was a full-vile blood draw sent to a lab, it will come back in a few days.. comment: There are a lot of non-FDA approved tests out there that have a high fail rate, they look like a pregnancy test one spot for a control, one for IgG/IgM . Not to say that they aren't entirely useful, but I think the fail rate is pretty high on a lot of tests. I also think that there are a lot of people that had the flu/other illnesses that really think they had COVID when they didn't and are being surprised when they aren't showing antibodies. You also have folks like me that 100% had it and show no antibodies a month out. It's all a lot to digest and get a handle on.. comment: The US - Arizona. My primary care doc has had access to both the covid test and antibody tests. I have a good relationship with my doctor and some underlying conditions that made her want me to be tested and cared for.. comment: Still waiting! Should be tomorrow, doctors assistant said they just got some results back from people right before me so I should be soon. The lab must be super busy.. comment: Seriously, at this point I only want to hear from folks that have actually tested positive. I understand that tests are limited, and I know a lot of people have COVID and haven't had an official test, but everyone posting their symptoms/recovery is just muddling up the real information. Anywhere I go for support is overrun with the sub turning into a WebMd.. comment: I swear every person that I have told that I have COVID has came back to me and said, \"I'm pretty sure I had it.\" It's disturbing, I have a co-worker that is convinced that her entire family had it in November, they have all (5 people) taken antibody tests that have shown as negative. She won't refuses to believe it, despite the timeline, despite her symptoms being best described as a cold, and despite antibody testing. I seriously think people are looking for some sort of comfort right now, and if thinking you had it and are now likely somewhat immune, perhaps it makes you feel better? I'm also seeing way too many \"did you hear this is a symptom?\" Enough people ask it, other people think that it is a real symptom.. comment: A lot of them sound like presumed positive by MYSELF and not a doctor.. comment: It really seems to effect everyone differently. You should focus on keeping yourself safe not what if's it won't do you any good...</td>\n",
       "    </tr>\n",
       "    <tr>\n",
       "      <th>8</th>\n",
       "      <td>theSafestofSpaces</td>\n",
       "      <td>Tested Positive</td>\n",
       "      <td>Unconfirmed/Questionable</td>\n",
       "      <td>comment: I've been feeling weak,tired and sick for the past month so it's hard to tell when exactly it all started. I've had pain in my throat for that long but it really got worse about 2 weeks ago. The pain was on my right side and my right ear was really itchy as well, so at first I thought I had an infection. About 5 days of this and then nothing, I think I'm better only to start coughing (dry cough) all day for 3 days. That gets better, too, but im exhausted. So exhausted. Napping constantly after work and still sleeping \\~12hours a night... At work they tell me to go back home and come back the next day if i feel better. The next day, I still feel sick but slightly better, so I go. As the day goes by I start to feel weaker, sicker..My nose has started to get runny and im sneezing frequently. It's really hard to finish my shift but I do. That night, I call the health line. They tell me to self quarantine and get tested. I got tested 2 days ago (extremely runny nose that day, but since then nothing). My nose is so stuffy i can barely breathe through it. I've obviously lost my sense of smell and taste as well. I'm physically exhausted and sore like I just started a new routine at the gym. I'm bloated, I have nausea... Honestly, I'd be surprised if they said I didn't have it. I'm already tired of it, though. I want to feel better and go back to work :(. comment: You should call and see if they want you to get tested. I had the same symptoms as you, turns out a week later I had it. comment: yes. Bubbling feeling in the back of my throat and right nostril: Has anyone else experienced this? I'm kinda worried it's turning into something nastier.. I already find it hard to breathe these past few days... comment: Same here.... I started crying as soon as it came out lol</td>\n",
       "    </tr>\n",
       "    <tr>\n",
       "      <th>9</th>\n",
       "      <td>beehugger11</td>\n",
       "      <td>Unconfirmed/Questionable</td>\n",
       "      <td>Tested Positive</td>\n",
       "      <td>Family is mad at us for testing positive: My boyfriend and I returned from an international trip earlier this month and my mom insisted that we quarantine with my parents when we got back. About 3 weeks after we got back, my boyfriend developed symptoms and got tested. He’s positive, which almost certainly means I’m also positive (with more mild symptoms). I told my parents &amp;amp; they immediately got upset. My mom won’t even talk to me really. Does anyone else have any experiences with people getting mad for possibly exposing them? I feel like it’s kind of unfair &amp;amp; an unneeded stressor. comment: Yes I meant March. We stayed at home when we got back, so it has to be longer than 2 weeks.. comment: We left at the beginning of March. Things were still normal then. Less than 200 cases where we went.. comment: Thank you for the support :). comment: I have had a sore throat on and off since we got back and a few migraines. Bf had a migraine when we got back &amp;amp; a sore throat. Developed a cough right after the 2 week period from when we returned. Yeah that’s what I keep telling myself. It just sucks because my parents are relatively young (50), asked us to quarantine at our house &amp;amp; haven’t really been isolating themselves (still go to friends houses &amp;amp; such).</td>\n",
       "    </tr>\n",
       "    <tr>\n",
       "      <th>10</th>\n",
       "      <td>Itsfarrlee</td>\n",
       "      <td>Unconfirmed/Questionable</td>\n",
       "      <td>Tested Positive</td>\n",
       "      <td>Urgent flair: I feel terrible asking but My rent is due in 2 days it’s 700$ I lost my jobCause of the corona virus we have no diapers or foodFood banks are empty half the time anything helpsI’m a apprentice welder I got laid offSo once I get back to work I’ll pay you back and I’ll pay it forward to whoever else needs it thanks godbless -Jace</td>\n",
       "    </tr>\n",
       "    <tr>\n",
       "      <th>11</th>\n",
       "      <td>Pitboos</td>\n",
       "      <td>Unconfirmed/Questionable</td>\n",
       "      <td>Tested Positive</td>\n",
       "      <td>These antibody tests are garbage. Positive one day, negative the very next day.: I was on a list for instant antibody test for about 2 weeks. Thursday I had an opportunity to get a test done from another place so I did.Came back positive for IGM but not IGG.Which ok I guess.My doctor is positive I had it at the end of February, so am I.I checked every single box, fever, insane cough, breathing problems, not responsive to antibiotic or steroids, developedpneumonia, lost all sense of smell. It ripped through my entire house at the same time.I though it was weird that I only had IGM this much later.So Friday, one day later my other tests come in so I keep the appointment and think why the hell not. Took my daughter with me. She was just as sick as me in February. Both negative for both IGG and IGM. Both test were the instant pregnancy type.I don't think they work.. comment: Yes twice. Negative. Both me and my daughter.. comment: Swabbed on Feb 19th for flu. Only flu.They didn't have a Corona test back then.Negative for A and B.. comment: Yeaaaahhh you might have some other shit going on.I had it really bad and I was working after 2 full weeks. Feeling better by 6 weeks. And that's after pneumonia I had from it. Maybe you have something going on.....upstairs?Push yourself to get out more. Move around. Go for walks. Get out of your head.. comment: It took me about 6-8 weeks but it's back 100% now.</td>\n",
       "    </tr>\n",
       "  </tbody>\n",
       "</table>\n",
       "</div>"
      ],
      "text/plain": [
       "                  Author        Groundtruth labels          Predicted labels  \\\n",
       "0        prrk-industries  Unconfirmed/Questionable           Tested Positive   \n",
       "1                 jnrj10  Unconfirmed/Questionable           Tested Positive   \n",
       "2   beerdrinkerlifesaver           Tested Positive  Unconfirmed/Questionable   \n",
       "3            InitialHall  Unconfirmed/Questionable           Tested Positive   \n",
       "4               8bitcake  Unconfirmed/Questionable           Tested Positive   \n",
       "5            FerretWrath  Unconfirmed/Questionable           Tested Positive   \n",
       "6            nyteacher19           Tested Positive  Unconfirmed/Questionable   \n",
       "7        Ourtimedownhere           Tested Positive  Unconfirmed/Questionable   \n",
       "8      theSafestofSpaces           Tested Positive  Unconfirmed/Questionable   \n",
       "9            beehugger11  Unconfirmed/Questionable           Tested Positive   \n",
       "10            Itsfarrlee  Unconfirmed/Questionable           Tested Positive   \n",
       "11               Pitboos  Unconfirmed/Questionable           Tested Positive   \n",
       "\n",
       "                                                                                                                                                                                                                                                                                                                                                                                                                                                                                                                                                                                                                                                                                                                                                                                                                                                                                                                                                                                                                                                                                                                                                                                                                                                                                                                                                                                                                                                                                                                                                                                                                                                                                                                                                                                                                                                                                                                                                                                                                                                                                                                                                                                                                                                                                                                                                                                                                                                                                                                                                                                                                                                                                                                                                                                                                                                                                                                                                                                                                                                                                                                                                                                                                                                                                                                                                                                                                                                                                                                                                                                                                                                                                                                                                                                                                                                                                                                                                                                                                                                                                                                                                                                                                                                                                                                                                                                                                                                                                                                                                                                                                                                                                                                                                                                                                                                                                                                                                                                                                                                                                                                                                                                                 title_body  \n",
       "0                                                                                                                                                                                                                                                                                                                                                                                                                                                                                                                                                                                                                                                                                                                                                                                                                                                                                                                                                                                                                                                                                                                                                                                                                                                                                                                                                                                                                                                                                                                                                                                                                                                                                                                                                                                                                                                                                                                                                                                                                                                                                                                                                                                                                                                                                                                                                                                                                                                                                                                                                                                                                                                                                                                                                                                                                                                                                                                                                                                                                                                                                                                                                                                                                                                                                                                                                                                                                                                                                                                                                                                                                                                                                                                                                                                                                                                                                                                                                                                                                                                                                                                                                                                                                                                                                                                                                                                                                                                                                                                                                                                                                                                                                                                                                                                                                                                                                                                                 Symptoms, hallucinations, dreams - a diary: I’ve just very recently made a recovery. Here is a video and piece of music inspired by the symptoms, hallucinations and dreams I had over the eight days. My diary. Not suitable for youngsters.https://youtu.be/uy6w_eh9t6U  \n",
       "1                                                                                                                                                                                                                                                                                                                                                                                                                                                                                                                                                                                                                                                                                                                                                                                                                                                                                                                                                                                                                       Just found out the mother in law has tested positive for Covid19 and put me and my family at risk!: Don’t even know what to say really iv been withmy girlfriend just under a year and everything was going really well and all this pandemic came along..My problem is she lives with her mum and I’m worried she might have contracted it from her as she’s just tested positive with it and I know this might sound stupid but I feel as though she’s given me a STD or something I’m absolutely livid they did not follow the rules at all Iv followed the governments guidelines and I have been going to and from work to home and once a week to Asda but the pair of them have been off work for a month and been going to numerous shops trying to find the best deals in the same day visiting family and friends going to bbqs and all sorts and I have said to my misses i think it’s highly Irresponsible Of her to be socialising with friends and family which she apologised for but her mum has flat out said if I die from it I die what can I do about it !? I can’t believe how selfish she is I don’t think she realises how many people she could have potentially put into danger My girlfriend gets tested on Friday I was going to wait until her results to come back and see what the results are and go from there but iv booked a test for my self on Friday and I’m going to do the right thing and get tested my self i actually can’t explain how I’m feeling right now so many mixed emotions I feel so mad and at the same time guilty for arguing with my misses really don’t know what to do I will feel so much more guilt if iv passed it on to people in my own house hold and to people at workI thank anyone that has took time out and read this it’s my first ever post it’s a shame it had to be such a negative one but I had to get it off my chest on wards and up wards ayee Keep safe everyone best of luck!. Just found out the mother in law has tested positive for Covid19 and put me and my family at risk!: Don’t even know what to say really iv been withmy girlfriend just under a year and everything was going really well and all this pandemic came along..My problem is she lives with her mum and I’m worried she might have contracted it from her as she’s just tested positive with it and I know this might sound stupid but I feel as though she’s given me a STD or something I’m absolutely livid they did not follow the rules at all Iv followed the governments guidelines and I have been going to and from work to home and once a week to Asda but the pair of them have been off work for a month and been going to numerous shops trying to find the best deals in the same day visiting family and friends going to bbqs and all sorts and I have said to my misses i think it’s highly Irresponsible Of her to be socialising with friends and family which she apologised for but her mum has flat out said if I die from it I die what can I do about it !? I can’t believe how selfish she is I don’t think she realises how many people she could have potentially put into danger My girlfriend gets tested on Friday I was going to wait until her results to come back and see what the results are and go from there but iv booked a test for my self on Friday and I’m going to do the right thing and get tested my self i actually can’t explain how I’m feeling right now so many mixed emotions I feel so mad and at the same time guilty for arguing with my misses really don’t know what to do I will feel so much more guilt if iv passed it on to people in my own house hold and to people at workI thank anyone that has took time out and read this it’s my first ever post it’s a shame it had to be such a negative one but I had to get it off my chest on wards and up wards ayee Keep safe everyone best of luck!. comment: Sorry mate she’s my girlfriend! and no we live apart, since we found out about her mum testing positive I wanted to ask her to move in with me but I’m worried she might have it and spread it in my household it’s a really sticky position  \n",
       "2   comment: Hey guysSo Saturday I woke up feeling feverish. Recorded temp in the 97s but I question my digital thermometers accuracy. The feeling of fever was intermittent thru Monday. Though I always feel feverish when I put a blanket on. No resp symptoms other than an on and off itchy throat. Also been having diarrhea the past couple mornings. Got tested today but won’t know for a few days if I’m positive. Feel like no resp symptoms thru 5 days is good right?Sorry all the anxiety is killing me!Take care. My day by day symptoms. Help my anxiety?: Day 1 (Sat) - Woke up feeling feverish but no recorded temp (my theromometer might be trash). Some fatigue and chills.Day 2 - on and off feelings of fever but no recorded temp once again. Minor chills but nothing crazy.Day 3 - intermittent fever once again. Fatigue. Minor chills. Loss of appetite Day 4 - Woke up and had some diahrrea. But I felt the best I had since Friday. Still had the minor itch/tickle in throat. Went to bed and felt hot when I put the blanket on.Day 5 (today) - woke up and had some more compact stool still kind of loose though. Minor pain when I breathe deeply but never if I don’t do it. Feel wicked exhausted at this point. No cough to this point. I have been forcing myself to eat and stay hydrated. And I also got tested today at MA’s first responder only test site. My anxiety stinks right now. Could use some insight!. comment: How you feeling this morning? I had some diarrhea and some very very slight chest tightness. Also very exhausted.. comment: These were my exact symptoms and they started last Wednesday. Never got a sore throat though, just a constant little tickle/scratch that goes when I eat or drink. Feeling more or less the same with diarrhea in the morning. The fatigue comes in waves. On Day 8 now hoping I’m on the tail end <U+0001F91E><U+0001F3FB><U+0001F91E><U+0001F3FB>.. comment: Yeah if you have anxiety like I do just be careful what you read. Only makes it worse. Quarantine and bug the shit out of your fam and friends on the phone. Play video games. Watch Netflix. I got tested cause I’m a first responder so when I know I’ll let you know!. comment: Lol got it done yesterday and it’s wild. Broke my leg years back and wasn’t in as much discomfort as those 2-3 seconds. Take care!. comment: How are you feeling now? I’m in a similar timeline. Day 7 and the burning sensation started overnight.. comment: Have had basically the same symptoms minus the headache. Also hoping I’m in the mild category! Makes it impossible to sleep.. Burning lung feeling?: I just woke up and this will be Day 7 without any respiratory symptoms. Feeling fatigued. 5th straight day with diarrhea as well. But had an awful burning feeling in my chest last night that comes and goes. Also quarantining alone. This absolutely sucks.. comment: Tested Wednesday I’ll know in a couple days or so. comment: So as I’m thinking back. Is it entirely possible I was dealing with heartburn? I do remember dealing with gas, and that acidic burp you sometimes get... comment: No I’ve been sticking to water/Gatorade. Had some ginger ale this morning to sort of settle the stomach. Eating less for sure.. comment: Just the middle. comment: Exactly where it is. We will see. Other people have been reporting the same symptoms. I got tested Wednesday. Will have the results tomorrow-Monday somewhere. Thank you for the kind words and advice! My anxiety is killing me and never having talked to anyone about it is also killing me. Once this is all over I will get it checked out. But holy shit I want it to be over so fucking bad. comment: What do you mean by on point? Not criticizing, just asking. Been going real light. Some clementines, wheat toast, PBnJ here and there.. comment: Just posted an updated post!. comment: There’s a bunch of debate whether NSAID’s like ibuprofen further aggravate COVID-19. I’d call your doctor and ask. Can’t hurt.. comment: Following because I also am scared shitless. Somewhere between day 7-9.. On day 11... Timeline of symptoms: Me: 27M, overweight, otherwise no pre existing conditions. EMT/dispatcher in MA, live in NH.Day 1 - Fatigue. Worked a 16 hour shift and just figured it was not getting enough sleep or whatever.Day 2 - Scratchy throat. Didn’t think anything of it. Still felt tired at points.Day 3 - Fatigue came back. Worked a shift til 11pm and had another one at 7am the next day. Day 4 - Woke up with a fever. Nothing measured on thermometer but I question it’s accuracy. On and off feelings of fever, fatigue, and chills. Now waking up every hour or so at night.Day 5 - Diarrhea first thing in the morning. Otherwise the same symptoms as yesterday. Day 6 - Worst day yet. Felt extra fatigued all day. Had AM diarrhea again and the on and off feverish feeling kept coming back.Day 7 - Felt like I was getting better. Still had AM runs but otherwise I felt alright. No appetite. Still slept like shit that night. Also noticed little pains when I take a deep breath. Day ...  \n",
       "3                                                                                                                                                                                                                                                                                                                                                                                                                                                                                                                                                                                                                                                                                                                                                                                                                                                                                                                                                                                                                                                                                                                                                                                                                                                                                                                                                                                                                                                                                                                                                                                                                                                                                                                                                                                                                                                                                                                                                                                                                                                                                                                                                                                                                                                                                                                                                                                                                                                                                                                                                                                                                                                                                                                                                                                                                                                                                                                                                                                                                                                                                                                                                                                                                                                                                                                                                                                                                                                                                                                                                                                                                                                                                                                                                                                                                                                                                                                                                                                                                                                                                                                                                                                                                                                                                                                                                                                                                                                                                                                                                                                                                                                                                   Disposable Medical Porducts: Hi guys, I am representing a Medical Supplies Manufacturer in China. We produce several kinds of medical suppliers, specialize in manufacturing disposable medical products and forehead thermometer for overseas markets. We have all the required certificates of qualification. Email me at [shengxiang2017@163.com](mailto:shengxiang2017@163.com) or PM me for more information!. comment: We can provide the surgery mask and forehead thermometer. Let me know if you r interested.  \n",
       "4                                                                                                                                                                                                                                                                                                                                                                                                                                                                                                                                                                                                                                                                                                                                                                                                                                                                                                                                                                                                                                                                                                                                                                                                                                                                                                                                                                                                                                                                                                                                                                                                                                                                                                                                                                                                                                                                                                                                                                                                                                                                                                                                                                                                                                                                                                                                                                                                                                                                                                                                                                                                                                                                                                                                                                                                                                                                                                                                                                                                                                                                                                                                                                                                                                                                                                                                                                                                                                                                                                                                                                                                                                                                                                                                                                                                                                                                                                                                                                                                                                                                                                                                                                                                                                                                                                                                                                                                                                                                                                                                                                                                                                                                                                                                                                                                                                                                                                                                                                                                                                               Mild case: Anyone else get it super mild? I was positive but I was definitely not that bad off. The person who we found out gave it to me got it pretty bad  \n",
       "5                                                                                                                                                                                                                                                                                                                                                                                                                                                                                                                                                                                                                                                                                                                                                                                                                                                                                                                                                                                                                                                                                                                                                                                                                                                                                                                                                                                                                                                                                                                                                                                                                                                                                                                                                                                                                                                                                                                                                                                                                                                                                                                                                                                                                                                                                                                                                                                                                                                                   Day 5 of this.: I’ll start by saying my state is really short on tests and very overwhelmed right now, so they didn’t test me, but had an over-the-phone consult with me and said that because of my symptoms, it’s very likely that I have it and to self-quarantine.Day 1: Very sore throat developed. Fast onset of upper-respiratory issues. Sinuses filled up quick with goop, sneezing, headaches from it. I used one of those humidifiers that spouts a big column of steam and damn near turns the room into a sauna. It helped immensely but mucus production never slowed. Day 2: More of the same, skin and body/joint aches began. Day 3: Pretty constant low grade fever that didn’t exceed 101°F. I let it stay because I know fevers can be a good thing. I began to feel my lungs filling with some sort of fluid and I started to have trouble breathing. Called doctor. They told me to monitor symptoms and to please not go to the ER as they are having to send people home already.Night 3: I thought it was going to be the end for me. My lungs had filled so much. I made sure not to take any cough suppressant, with Sudafed being the only OTC. I have an auto-immune disease and have recently had brain surgery so I think this hit me very hard. My lungs had probably 10-20% capacity left. Every breath was hard, I felt like I was being suffocated. If I sat up for two long, the muscles of my back and abdomen would consume too much oxygen and my fingers/toes/scalp would begin to tingle and then burn and I would feel like I was going to faint. I just wasn’t getting enough air. My breathing was loud and labored. I had to work hard to keep my panic down so I could control my breathing. I called the doctor. She prescribed me an inhaler and a cough suppressant that I could pick up in the morning and said I most likely have coronavirus. Day 4: I took the inhaler but I thought the cough suppressant wasn’t wise, seeing as I needed to cough up that crap. The inhaler helped loosen up the stuff in my lungs immensely, but the coughing was violent and painful. The fever remained and I let it stay. The pain in my joints remained, my skin still hurt. Day 5: Fever lifted, sinuses began to clear on their own. Lungs are starting to clear and the soreness has as well. I think I’m on the up and up.My boyfriend who lives with me got a sore throat two days before I did, but it cleared and that was his only symptom. So far he seems unaffected by any of the things that happened to me. I don’t know for sure if I had Coronavirus but I’ll say that I’ve never had a *flu* that tried to suffocate me like this sickness did. Stay safe out there, folks.  \n",
       "6   comment: Works very well! Thank you. Also, featured on a COPD tips list: https://mylungsmylife.org/topics/group-1/how-to-clear-your-chest/sputum-benefits-and-downside/Medical professionals use this with patients w respiratory illness which is many of us!. comment: That sucks. Hope you get back to better soon.. comment: Wow what network? USA?. comment: Wow 23 days of fever?! God bless you. I hope you find comfort soon.. comment: That's great. It's gotta quit by 37! So I've heard. Where do you live?. comment: You said that! It's that hour. I'm getting research dizzy.. comment: 2 weeks? Can you tell me. Was the diarrhea normal, for diarrhea that is? Or was it irregular? Glad you're better 17 lbs! That sounds like a dangerous loss.. comment: Thanks for the info about coughing. I thought you were supposed to cough and if it dry, try to get some phlegm up. Damnit. Well, back to research. It's been 18 days and the worst coughing in the last 5. Is this thing coming or going? Thanks. comment: Has anyone had really REALLY bad diarrhea? My mom's is really irregular. Had it for 2 days with nausea and vomiting. Felt so much better but still bad cough. Now it's back. Worse too. Like nothing she's ever experienced. Fevers are staying low grade.Graphic but is the consistency normal for diarrhea? If not, please give me some characteristics so we have more info about this virus! Reply below. Those who don't wanna know, don't read.. comment: Thanks. Trying with pedialyte.. comment: Just heard of muffled crackling and loss of hearing today!. comment: Oh thanks for the info. This was a friend who told me he had it for 2 weeks and thinks it might have been covid. How long does yours last?. comment: What if you aren't feeling any gunk or phlegm? Do you still warn against allowing it to remain dry? I'm surprised and this is the first I heard about forcing phlegm up using the methods named here. I only heard of ACBT, but I thought that was if you had a feeling of phlegm catching.. comment: February 22 symptoms were cough, fever, fatigue. Blood work was really irregular. High Co2, HGB, MCV, MPV, IG, BUN, Low Anion Gap. Looked them all up and they all allude to lung, low platelets, high red blood cells, lupus,infection, etc. This is a really rudimentary look at the blood work but freakin weird. Anyone know much about blood work may chime in.. comment: They say within the 1st 8 days it is still contagious. Mask is the best bet when you do go. You're being strong and smart! Great job!. comment: I wasn't sure if you meant 14 symptom free. It's hard but you can do it.. comment: Same. I want to shop for my sick mom. But no more shopping until I'm post symptoms.. comment: You would never know unless they have been quarantining 4 weeks before seeing the OP. 2 for the possible onset of symptoms from the other roommates and 2 for the presence of symptoms themself. Highly unlikely or impossible to know where you got it. Even the spouses who get it so not know unless they've been in quarantine for 14 days. 3 in a house would be 28 days. Right? I think. Does this make sense as a possible (though unlikely) scenario?Person A exposed March 1 and is asymptomatic carrier.Person B catches it from Person A March 15 and is asymptomatic. Person C catches it from Person B on March 29 and develops severe case on April 12.. comment: I also had fever first 3/17 then loss of senses 3/19 and still can't really smell much. Taste came back almost entirely.. Reinfected or relapsed? 34/f: I'm in NY. First fever 3/17, on and off with a huge array of symptoms. Tested positive on 3/27. Symptom free starting on 4/2 except for headaches and occasional cough. Now I have a 100.3 fever, chills, aches, sore throat.I don't know if I'm reinfected or relapsing... Surrounded by sick family and been so cautious (masks, isolated, cleaning, closing toilet lid, only go in shared space or after them to cook).. comment: Thank you. I may have too but that was before fevers so I don't count it.. comment: Wow hard to hear. Will research.. comment: Thank you. Want to know if my family and I will just keep reinfecting one another.. comment: Wow yikes. Thank you. comment: Thank you. Figures.. comment: Thanks for sharing. comment: Thank you. I hope it's round 2. comment: 5 days with just headaches. Thought I was healed and those might be from stress, allergies, or lingering symptoms. I'm sorry you're experiencing that. Mine is the opposite, with my chest and coughing early on. Now high fever, sore throat, more headaches, and diarrhea. It feels minor now that I took tylenol.. comment: Great. And Thanks for your tip.. comment: I'm sorry to hear. That's exhausting. I am finally ok. I haven't had anything but dry mouth /extreme throat tightening in the last 10 days and before that was sore throats and headaches. I feel like it's finally left my system because I have more energy. During my relapses, I didn't get my energy back. Keep your fluids and food up in case you lose your appetite. Yo...  \n",
       "7   comment: I had mono once and didn't know it until I had some full-panel blood work done shortly after I had recovered. Doctor said \"did you know you had mono?\" It can slip in under the radar if you are under stress and already depressed sometimes. In the wise words of Wayne Campbell \" I once thought I had mono for an entire year, It turned out I was just really bored.\". comment: I had a test on a Tuesday and didn't get results till the Monday. I just had my second Antibody test 47 days out from my original symptoms.: This virus sure has been a ride of stress and insanity. I had what could be called a \"mild\" case.The worst was two days of all over body aches and a low-grade fever and a terrible headache for two weeks. I had had the following symptoms: a sore throat, burning sinuses, a runny nose, body aches, a weird pain in my neck, fluttering heart, and extreme fatigue. I have felt almost human minus the fatigue for the last 3 weeks, and feeling grateful. Two weeks ago I had an antibody test done at an independent lab, it was basically just a yes/no IgG/IgM test. I tested negative for the antibodies, and positive for the IgM which is basically the result you would get at the beginning of an illness and certainly not a month out. I followed up with my doctor to see what she though, she said that she couldn't rule out that I was still contagious a month later since I had IgM showing up, but it's hard to tell because the test that I took was very yes/no and they have a higher fail rate. Today I took another Antibody test through my doctor, this was a full blood draw that is being sent to the lab and it will show actual levels not just yes/no. I scared and excited to know. I realize antibodies do not mean immune especially since so much is unknown about the virus, but I'm going to feel a lot better if I have them since I will consider myself recovered by that point, at the bare minimum I don't want to have IgM showing up again, that thought that a person can be infectious 1 month out is scary. Thanks for listening, I just needed to vent a little, this whole ordeal has been stressful to say the least.. comment: My doctor is doing them in-house. I'm in Arizona. I gotta give one to my doctor, she has been on top of this from the beginning. I was able to get the Covid test when a lot of other people didn't have one yet. I went to the independent lab two weeks ago because my doctor didn't have them yet. She didn't want to use the yes/no non- FDA approved ones. With the yes/no ones they can take a finger-prick of blood or a small blood draw for them. The one I got today was a full-vile blood draw sent to a lab, it will come back in a few days.. comment: There are a lot of non-FDA approved tests out there that have a high fail rate, they look like a pregnancy test one spot for a control, one for IgG/IgM . Not to say that they aren't entirely useful, but I think the fail rate is pretty high on a lot of tests. I also think that there are a lot of people that had the flu/other illnesses that really think they had COVID when they didn't and are being surprised when they aren't showing antibodies. You also have folks like me that 100% had it and show no antibodies a month out. It's all a lot to digest and get a handle on.. comment: The US - Arizona. My primary care doc has had access to both the covid test and antibody tests. I have a good relationship with my doctor and some underlying conditions that made her want me to be tested and cared for.. comment: Still waiting! Should be tomorrow, doctors assistant said they just got some results back from people right before me so I should be soon. The lab must be super busy.. comment: Seriously, at this point I only want to hear from folks that have actually tested positive. I understand that tests are limited, and I know a lot of people have COVID and haven't had an official test, but everyone posting their symptoms/recovery is just muddling up the real information. Anywhere I go for support is overrun with the sub turning into a WebMd.. comment: I swear every person that I have told that I have COVID has came back to me and said, \"I'm pretty sure I had it.\" It's disturbing, I have a co-worker that is convinced that her entire family had it in November, they have all (5 people) taken antibody tests that have shown as negative. She won't refuses to believe it, despite the timeline, despite her symptoms being best described as a cold, and despite antibody testing. I seriously think people are looking for some sort of comfort right now, and if thinking you had it and are now likely somewhat immune, perhaps it makes you feel better? I'm also seeing way too many \"did you hear this is a symptom?\" Enough people ask it, other people think that it is a real symptom.. comment: A lot of them sound like presumed positive by MYSELF and not a doctor.. comment: It really seems to effect everyone differently. You should focus on keeping yourself safe not what if's it won't do you any good...  \n",
       "8                                                                                                                                                                                                                                                                                                                                                                                                                                                                                                                                                                                                                                                                                                                                                                                                                                                                                                                                                                                                                                                                                                                                                                                                                                                                                                                                                                                                                                                                                                                                                                                                                                                                                                                                                                                                                                                                                                                                                                                                                                                                                                                                                                                                                                                                                                                                                                                                                                                                                                                                                                                                                                                                                                                                                                                                                                                                                                                                                                                                                                                                                                                                                                                                                                                                                                                                      comment: I've been feeling weak,tired and sick for the past month so it's hard to tell when exactly it all started. I've had pain in my throat for that long but it really got worse about 2 weeks ago. The pain was on my right side and my right ear was really itchy as well, so at first I thought I had an infection. About 5 days of this and then nothing, I think I'm better only to start coughing (dry cough) all day for 3 days. That gets better, too, but im exhausted. So exhausted. Napping constantly after work and still sleeping \\~12hours a night... At work they tell me to go back home and come back the next day if i feel better. The next day, I still feel sick but slightly better, so I go. As the day goes by I start to feel weaker, sicker..My nose has started to get runny and im sneezing frequently. It's really hard to finish my shift but I do. That night, I call the health line. They tell me to self quarantine and get tested. I got tested 2 days ago (extremely runny nose that day, but since then nothing). My nose is so stuffy i can barely breathe through it. I've obviously lost my sense of smell and taste as well. I'm physically exhausted and sore like I just started a new routine at the gym. I'm bloated, I have nausea... Honestly, I'd be surprised if they said I didn't have it. I'm already tired of it, though. I want to feel better and go back to work :(. comment: You should call and see if they want you to get tested. I had the same symptoms as you, turns out a week later I had it. comment: yes. Bubbling feeling in the back of my throat and right nostril: Has anyone else experienced this? I'm kinda worried it's turning into something nastier.. I already find it hard to breathe these past few days... comment: Same here.... I started crying as soon as it came out lol  \n",
       "9                                                                                                                                                                                                                                                                                                                                                                                                                                                                                                                                                                                                                                                                                                                                                                                                                                                                                                                                                                                                                                                                                                                                                                                                                                                                                                                                                                                                                                                                                                                                                                                                                                                                                                                                                                                                                                                                                                                                                                                                                                                                                                                                                                                                                                                                                                                                                                                                                                                                                                                                                                                                                                                                                                                                                                                                                                                                                                                                                                                                                                                                                                                                                                                                                                                                                                                                                                                                                                                                                                                                                                                                                                                                                                                                                                                                                                                                      Family is mad at us for testing positive: My boyfriend and I returned from an international trip earlier this month and my mom insisted that we quarantine with my parents when we got back. About 3 weeks after we got back, my boyfriend developed symptoms and got tested. He’s positive, which almost certainly means I’m also positive (with more mild symptoms). I told my parents &amp; they immediately got upset. My mom won’t even talk to me really. Does anyone else have any experiences with people getting mad for possibly exposing them? I feel like it’s kind of unfair &amp; an unneeded stressor. comment: Yes I meant March. We stayed at home when we got back, so it has to be longer than 2 weeks.. comment: We left at the beginning of March. Things were still normal then. Less than 200 cases where we went.. comment: Thank you for the support :). comment: I have had a sore throat on and off since we got back and a few migraines. Bf had a migraine when we got back &amp; a sore throat. Developed a cough right after the 2 week period from when we returned. Yeah that’s what I keep telling myself. It just sucks because my parents are relatively young (50), asked us to quarantine at our house &amp; haven’t really been isolating themselves (still go to friends houses &amp; such).  \n",
       "10                                                                                                                                                                                                                                                                                                                                                                                                                                                                                                                                                                                                                                                                                                                                                                                                                                                                                                                                                                                                                                                                                                                                                                                                                                                                                                                                                                                                                                                                                                                                                                                                                                                                                                                                                                                                                                                                                                                                                                                                                                                                                                                                                                                                                                                                                                                                                                                                                                                                                                                                                                                                                                                                                                                                                                                                                                                                                                                                                                                                                                                                                                                                                                                                                                                                                                                                                                                                                                                                                                                                                                                                                                                                                                                                                                                                                                                                                                                                                                                                                                                                                                                                                                                                                                                                                                                                                                                                                                                                                                                                                                                                                                                                                                                                                                                                                                                  Urgent flair: I feel terrible asking but My rent is due in 2 days it’s 700$ I lost my jobCause of the corona virus we have no diapers or foodFood banks are empty half the time anything helpsI’m a apprentice welder I got laid offSo once I get back to work I’ll pay you back and I’ll pay it forward to whoever else needs it thanks godbless -Jace  \n",
       "11                                                                                                                                                                                                                                                                                                                                                                                                                                                                                                                                                                                                                                                                                                                                                                                                                                                                                                                                                                                                                                                                                                                                                                                                                                                                                                                                                                                                                                                                                                                                                                                                                                                                                                                                                                                                                                                                                                                                                                                                                                                                                                                                                                                                                                                                                                                                                                                                                                                                                                                                                                                                                                                                                                                                                                                                                                                                                                                                                                                                                                                                                                                                                                                                                                                                                                                                                                                                                                                                                                                                                                                                                                                                                                                                  These antibody tests are garbage. Positive one day, negative the very next day.: I was on a list for instant antibody test for about 2 weeks. Thursday I had an opportunity to get a test done from another place so I did.Came back positive for IGM but not IGG.Which ok I guess.My doctor is positive I had it at the end of February, so am I.I checked every single box, fever, insane cough, breathing problems, not responsive to antibiotic or steroids, developedpneumonia, lost all sense of smell. It ripped through my entire house at the same time.I though it was weird that I only had IGM this much later.So Friday, one day later my other tests come in so I keep the appointment and think why the hell not. Took my daughter with me. She was just as sick as me in February. Both negative for both IGG and IGM. Both test were the instant pregnancy type.I don't think they work.. comment: Yes twice. Negative. Both me and my daughter.. comment: Swabbed on Feb 19th for flu. Only flu.They didn't have a Corona test back then.Negative for A and B.. comment: Yeaaaahhh you might have some other shit going on.I had it really bad and I was working after 2 full weeks. Feeling better by 6 weeks. And that's after pneumonia I had from it. Maybe you have something going on.....upstairs?Push yourself to get out more. Move around. Go for walks. Get out of your head.. comment: It took me about 6-8 weeks but it's back 100% now.  "
      ]
     },
     "execution_count": 290,
     "metadata": {},
     "output_type": "execute_result"
    }
   ],
   "source": [
    "incorrect_prediction = pd.DataFrame(columns=['Author','Groundtruth labels','Predicted labels','title_body'],)\n",
    "incorrect_prediction = []\n",
    "print(\"incorrect prediction:\")\n",
    "for i in range(len(true_test_labels_text)):\n",
    "    if weighted_labels_text[i] == true_test_labels_text[i] : \n",
    "        continue\n",
    "    else:\n",
    "        print(true_test_labels_text[i],\"------------>\", weighted_labels_text[i])\n",
    "        incorrect_prediction.append([final_data_test.iloc[i].author, true_test_labels_text[i], \n",
    "                                     weighted_labels_text[i], final_data_test.iloc[i].title_body])\n",
    "\n",
    "incorrect_prediction = pd.DataFrame(incorrect_prediction,\n",
    "                                    columns=['Author','Groundtruth labels','Predicted labels','title_body'])\n",
    "pd.options.display.max_colwidth = 5000\n",
    "# incorrect_prediction.to_csv('./chuncking_model_drop128/incorrect_prediction.csv',encoding='utf_8_sig')\n",
    "incorrect_prediction"
   ]
  },
  {
   "cell_type": "markdown",
   "id": "confirmed-roots",
   "metadata": {
    "id": "touched-franchise"
   },
   "source": [
    "### For training data Accuracy:"
   ]
  },
  {
   "cell_type": "code",
   "execution_count": 291,
   "id": "latest-franchise",
   "metadata": {
    "colab": {
     "base_uri": "https://localhost:8080/"
    },
    "id": "fuzzy-buffer",
    "outputId": "45d0da94-127a-49a6-c301-a99d414c9960"
   },
   "outputs": [
    {
     "name": "stdout",
     "output_type": "stream",
     "text": [
      "train_chunks_pad_scores: torch.Size([544, 100, 2])\n",
      "training data accuracy: 0.9117647058823529\n"
     ]
    }
   ],
   "source": [
    "true_train_labels =  final_data_train['class'].to_numpy().astype(\"int64\")\n",
    "train_chunks_scores = []\n",
    "# For each of the original test samples...\n",
    "for Author in final_data_train['author']:\n",
    "    chunk_indeces = train_author_ind_dic[Author]\n",
    "    if len(chunk_indeces) <= max_chunk_nums:\n",
    "      chunks_outputs = train_predictions_chunk512_epoch2[chunk_indeces, :]\n",
    "    if len(chunk_indeces) > max_chunk_nums:\n",
    "      chunks_outputs = train_predictions_chunk512_epoch2[chunk_indeces[0:max_chunk_nums], :]\n",
    "    train_chunks_scores.append(chunks_outputs)\n",
    "\n",
    "\n",
    "train_chunks_pad_scores = []\n",
    "for i in range(len(train_chunks_scores)):\n",
    "    zero_pad = np.zeros( (max_chunk_nums-len(train_chunks_scores[i]), len(set(final_data['class']))) )\n",
    "    pad_score = np.vstack((train_chunks_scores[i], zero_pad))\n",
    "    train_chunks_pad_scores.append(pad_score)\n",
    "train_chunks_pad_scores = torch.tensor(np.array(train_chunks_pad_scores),dtype=torch.float)  #(544,495,4)\n",
    "print('train_chunks_pad_scores:',train_chunks_pad_scores.shape) \n",
    "\n",
    "train_h0 = trained_W0.t().matmul(train_chunks_pad_scores)\n",
    "weighted_train_scores = trained_W1.t().matmul(train_h0).reshape(len(true_train_labels),-1)\n",
    "weighted_train_scores = weighted_train_scores.detach().numpy() # convert torch.tensor to array\n",
    "\n",
    "print('training data accuracy:',flat_accuracy(weighted_train_scores, true_train_labels))"
   ]
  },
  {
   "cell_type": "markdown",
   "id": "analyzed-occurrence",
   "metadata": {
    "id": "christian-taylor"
   },
   "source": [
    "### If only use the mean of chunk scores"
   ]
  },
  {
   "cell_type": "code",
   "execution_count": 319,
   "id": "alternate-undergraduate",
   "metadata": {
    "colab": {
     "base_uri": "https://localhost:8080/",
     "height": 390
    },
    "id": "raised-connection",
    "outputId": "a0a8a6bc-5734-4802-a001-f7b67ca9c9bf"
   },
   "outputs": [
    {
     "name": "stdout",
     "output_type": "stream",
     "text": [
      "test data accuracy(using mean chunk scores): 0.8686131386861314\n"
     ]
    },
    {
     "data": {
      "image/png": "[encoded data removed]",
      "text/plain": [
       "<Figure size 432x288 with 1 Axes>"
      ]
     },
     "metadata": {},
     "output_type": "display_data"
    }
   ],
   "source": [
    "p_ave_scores = []\n",
    "\n",
    "for Author in final_data_test['author']:\n",
    "\n",
    "    # `chunk_indeces` is the list of indeces in `predictions` of the chunks for\n",
    "    # sample `test_i`.\n",
    "    \n",
    "    chunk_indeces = test_author_ind_dic[Author]\n",
    "\n",
    "    # Select the outputs of the \"label 1\" classifier for all chunks\n",
    "    chunks_outputs = test_predictions_chunk512_epoch2[chunk_indeces, :]\n",
    "\n",
    "    # Average them and use this as the prediction.\n",
    "    chunks_outputs = np.array(chunks_outputs)\n",
    "    p_ave_scores.append(np.mean(chunks_outputs, axis=0))\n",
    "\n",
    "p_ave_scores = np.array(p_ave_scores)\n",
    "\n",
    "p_ave_scores_label = np.argmax(p_ave_scores, axis=1)\n",
    "p_ave_scores_label_text = [['non-positive','positive'][p_ave_scores_label[i]] for i in range(len(p_ave_scores_label))]\n",
    "plt.hist(p_ave_scores_label_text)\n",
    "# plt.xticks(rotation=45)\n",
    "plt.title('Predicted lables(chunk mean scores)')\n",
    "print('test data accuracy(using mean chunk scores):',flat_accuracy(p_ave_scores, final_data_test['class']))"
   ]
  },
  {
   "cell_type": "markdown",
   "id": "sufficient-township",
   "metadata": {
    "id": "cheap-boulder"
   },
   "source": [
    "### ##############################################################################"
   ]
  },
  {
   "cell_type": "markdown",
   "id": "interior-antenna",
   "metadata": {
    "id": "engaged-vehicle"
   },
   "source": [
    "### ############ Prediction of anthors, JuneJulyAugust, 2020############################"
   ]
  },
  {
   "cell_type": "markdown",
   "id": "preceding-assurance",
   "metadata": {
    "id": "parliamentary-message"
   },
   "source": [
    "### ##############################################################################"
   ]
  },
  {
   "cell_type": "code",
   "execution_count": null,
   "id": "married-linux",
   "metadata": {
    "id": "separated-bridge",
    "outputId": "5511b282-9439-4c3e-b808-cee5c1fe620f"
   },
   "outputs": [
    {
     "data": {
      "text/html": [
       "<div>\n",
       "<style scoped>\n",
       "    .dataframe tbody tr th:only-of-type {\n",
       "        vertical-align: middle;\n",
       "    }\n",
       "\n",
       "    .dataframe tbody tr th {\n",
       "        vertical-align: top;\n",
       "    }\n",
       "\n",
       "    .dataframe thead th {\n",
       "        text-align: right;\n",
       "    }\n",
       "</style>\n",
       "<table border=\"1\" class=\"dataframe\">\n",
       "  <thead>\n",
       "    <tr style=\"text-align: right;\">\n",
       "      <th></th>\n",
       "      <th>Author</th>\n",
       "      <th>Count</th>\n",
       "      <th>filter</th>\n",
       "      <th>body</th>\n",
       "      <th>date</th>\n",
       "      <th>permalink</th>\n",
       "      <th>flair</th>\n",
       "      <th>Title</th>\n",
       "      <th>CONCAT</th>\n",
       "    </tr>\n",
       "  </thead>\n",
       "  <tbody>\n",
       "    <tr>\n",
       "      <th>0</th>\n",
       "      <td>200055</td>\n",
       "      <td>21</td>\n",
       "      <td>yes</td>\n",
       "      <td>I’m 19 F and tested positive Tuesday 6/23. My ...</td>\n",
       "      <td>2020-06-27 20:59:43</td>\n",
       "      <td>/r/COVID19positive/comments/hgyn6t/is_anyone_h...</td>\n",
       "      <td>comment</td>\n",
       "      <td>comment</td>\n",
       "      <td>comment\\n\\nI’m 19 F and tested positive Tuesda...</td>\n",
       "    </tr>\n",
       "    <tr>\n",
       "      <th>1</th>\n",
       "      <td>200055</td>\n",
       "      <td>21</td>\n",
       "      <td>yes</td>\n",
       "      <td>[removed]</td>\n",
       "      <td>2020-06-27 21:23:10</td>\n",
       "      <td>/r/COVID19positive/comments/hh1t6b/ongoing_gi_...</td>\n",
       "      <td>Tested Positive - Me</td>\n",
       "      <td>Ongoing GI Symptoms? 19F</td>\n",
       "      <td>Ongoing GI Symptoms? 19F\\n\\n[removed]-200055\\n...</td>\n",
       "    </tr>\n",
       "    <tr>\n",
       "      <th>2</th>\n",
       "      <td>200055</td>\n",
       "      <td>21</td>\n",
       "      <td>yes</td>\n",
       "      <td>When are you supposed to get retested for COVI...</td>\n",
       "      <td>2020-06-27 21:35:30</td>\n",
       "      <td>/r/COVID19positive/comments/hgqz17/daily_discu...</td>\n",
       "      <td>comment</td>\n",
       "      <td>comment</td>\n",
       "      <td>comment\\n\\nWhen are you supposed to get retest...</td>\n",
       "    </tr>\n",
       "    <tr>\n",
       "      <th>3</th>\n",
       "      <td>200055</td>\n",
       "      <td>21</td>\n",
       "      <td>yes</td>\n",
       "      <td>Did he have any GI symptoms? And is he getting...</td>\n",
       "      <td>2020-06-27 21:45:52</td>\n",
       "      <td>/r/COVID19positive/comments/hgz6qx/cousin_test...</td>\n",
       "      <td>comment</td>\n",
       "      <td>comment</td>\n",
       "      <td>comment\\n\\nDid he have any GI symptoms? And is...</td>\n",
       "    </tr>\n",
       "    <tr>\n",
       "      <th>4</th>\n",
       "      <td>200055</td>\n",
       "      <td>21</td>\n",
       "      <td>yes</td>\n",
       "      <td>My primary symptom with COVID has been diarrhe...</td>\n",
       "      <td>2020-06-27 21:55:57</td>\n",
       "      <td>/r/COVID19positive/comments/hgzefn/anyone_only...</td>\n",
       "      <td>comment</td>\n",
       "      <td>comment</td>\n",
       "      <td>comment\\n\\nMy primary symptom with COVID has b...</td>\n",
       "    </tr>\n",
       "  </tbody>\n",
       "</table>\n",
       "</div>"
      ],
      "text/plain": [
       "   Author  Count filter                                               body  \\\n",
       "0  200055     21    yes  I’m 19 F and tested positive Tuesday 6/23. My ...   \n",
       "1  200055     21    yes                                          [removed]   \n",
       "2  200055     21    yes  When are you supposed to get retested for COVI...   \n",
       "3  200055     21    yes  Did he have any GI symptoms? And is he getting...   \n",
       "4  200055     21    yes  My primary symptom with COVID has been diarrhe...   \n",
       "\n",
       "                 date                                          permalink  \\\n",
       "0 2020-06-27 20:59:43  /r/COVID19positive/comments/hgyn6t/is_anyone_h...   \n",
       "1 2020-06-27 21:23:10  /r/COVID19positive/comments/hh1t6b/ongoing_gi_...   \n",
       "2 2020-06-27 21:35:30  /r/COVID19positive/comments/hgqz17/daily_discu...   \n",
       "3 2020-06-27 21:45:52  /r/COVID19positive/comments/hgz6qx/cousin_test...   \n",
       "4 2020-06-27 21:55:57  /r/COVID19positive/comments/hgzefn/anyone_only...   \n",
       "\n",
       "                  flair                     Title  \\\n",
       "0               comment                   comment   \n",
       "1  Tested Positive - Me  Ongoing GI Symptoms? 19F   \n",
       "2               comment                   comment   \n",
       "3               comment                   comment   \n",
       "4               comment                   comment   \n",
       "\n",
       "                                              CONCAT  \n",
       "0  comment\\n\\nI’m 19 F and tested positive Tuesda...  \n",
       "1  Ongoing GI Symptoms? 19F\\n\\n[removed]-200055\\n...  \n",
       "2  comment\\n\\nWhen are you supposed to get retest...  \n",
       "3  comment\\n\\nDid he have any GI symptoms? And is...  \n",
       "4  comment\\n\\nMy primary symptom with COVID has b...  "
      ]
     },
     "execution_count": 43,
     "metadata": {},
     "output_type": "execute_result"
    }
   ],
   "source": [
    "JunJulAug_testdata_raw = pd.read_excel (r'C:\\Users\\Muzhe.Guo\\MuzheFiles\\JunJulAug NVIVO 1762 dup removed.xlsx', sheet_name = 'Upload')\n",
    "JunJulAug_testdata_raw.head()\n"
   ]
  },
  {
   "cell_type": "code",
   "execution_count": null,
   "id": "abandoned-ceramic",
   "metadata": {
    "id": "controlled-moore",
    "outputId": "d83b6e25-fdc9-426d-9aec-4c8cccffdd97"
   },
   "outputs": [
    {
     "name": "stdout",
     "output_type": "stream",
     "text": [
      "rows of JunJulAug_testdata 40445\n",
      "rows of JunJulAug_testdata after removing [removed] 40444\n"
     ]
    }
   ],
   "source": [
    "print(\"rows of JunJulAug_testdata\", len(JunJulAug_testdata_raw))\n",
    "JunJulAug_testdata = JunJulAug_testdata_raw[JunJulAug_testdata_raw['body'] != '[removed]']\n",
    "print(\"rows of JunJulAug_testdata after removing [removed]\", len(JunJulAug_testdata))"
   ]
  },
  {
   "cell_type": "code",
   "execution_count": null,
   "id": "usual-protein",
   "metadata": {
    "id": "martial-pendant",
    "outputId": "ae55aee8-d2e3-415b-a997-afd729fba349",
    "scrolled": true
   },
   "outputs": [
    {
     "name": "stdout",
     "output_type": "stream",
     "text": [
      "comment                                  37710\n",
      "Tested Positive - Me                      1504\n",
      "Question-to those who tested positive      420\n",
      "Tested Positive                            400\n",
      "Presumed Positive - From Doctor            170\n",
      "Tested Positive - Family                    63\n",
      "Question-for medical research               49\n",
      "Presumed Positive - From Test               29\n",
      "Tested Positive - Friends                   10\n",
      "Name: flair, dtype: int64\n"
     ]
    }
   ],
   "source": [
    "print(JunJulAug_testdata['flair'].value_counts())"
   ]
  },
  {
   "cell_type": "code",
   "execution_count": null,
   "id": "atomic-reply",
   "metadata": {
    "id": "described-category",
    "outputId": "202efdc4-8e48-44d0-e119-97ef87c0a58d"
   },
   "outputs": [
    {
     "data": {
      "text/html": [
       "<div>\n",
       "<style scoped>\n",
       "    .dataframe tbody tr th:only-of-type {\n",
       "        vertical-align: middle;\n",
       "    }\n",
       "\n",
       "    .dataframe tbody tr th {\n",
       "        vertical-align: top;\n",
       "    }\n",
       "\n",
       "    .dataframe thead th {\n",
       "        text-align: right;\n",
       "    }\n",
       "</style>\n",
       "<table border=\"1\" class=\"dataframe\">\n",
       "  <thead>\n",
       "    <tr style=\"text-align: right;\">\n",
       "      <th></th>\n",
       "      <th>author</th>\n",
       "      <th>title_body</th>\n",
       "    </tr>\n",
       "  </thead>\n",
       "  <tbody>\n",
       "    <tr>\n",
       "      <th>0</th>\n",
       "      <td>200055</td>\n",
       "      <td>comment: I’m 19 F and tested positive Tuesday ...</td>\n",
       "    </tr>\n",
       "    <tr>\n",
       "      <th>1</th>\n",
       "      <td>-_-_-_-_-__-_-</td>\n",
       "      <td>Flu symptoms gone - but chest symptoms appeare...</td>\n",
       "    </tr>\n",
       "    <tr>\n",
       "      <th>2</th>\n",
       "      <td>__illmatic</td>\n",
       "      <td>Infecting parents ?: Just tested positive but ...</td>\n",
       "    </tr>\n",
       "    <tr>\n",
       "      <th>3</th>\n",
       "      <td>__m1</td>\n",
       "      <td>comment: Hey all, I tested positive last week....</td>\n",
       "    </tr>\n",
       "    <tr>\n",
       "      <th>4</th>\n",
       "      <td>_mommy2benton</td>\n",
       "      <td>comment: My only symptoms so far have been bas...</td>\n",
       "    </tr>\n",
       "    <tr>\n",
       "      <th>...</th>\n",
       "      <td>...</td>\n",
       "      <td>...</td>\n",
       "    </tr>\n",
       "    <tr>\n",
       "      <th>1647</th>\n",
       "      <td>zonglagyraho</td>\n",
       "      <td>comment: 45 days have been passed and everythi...</td>\n",
       "    </tr>\n",
       "    <tr>\n",
       "      <th>1648</th>\n",
       "      <td>ZoominBoomin</td>\n",
       "      <td>It's been about 66 days since I've been deemed...</td>\n",
       "    </tr>\n",
       "    <tr>\n",
       "      <th>1649</th>\n",
       "      <td>Zuvitana</td>\n",
       "      <td>Keep testing positive even though I feel fine:...</td>\n",
       "    </tr>\n",
       "    <tr>\n",
       "      <th>1650</th>\n",
       "      <td>zy78</td>\n",
       "      <td>Details and advice from my long term experienc...</td>\n",
       "    </tr>\n",
       "    <tr>\n",
       "      <th>1651</th>\n",
       "      <td>zzphin</td>\n",
       "      <td>comment: Since you mentioned your mom, I’m ass...</td>\n",
       "    </tr>\n",
       "  </tbody>\n",
       "</table>\n",
       "<p>1652 rows × 2 columns</p>\n",
       "</div>"
      ],
      "text/plain": [
       "              author                                         title_body\n",
       "0             200055  comment: I’m 19 F and tested positive Tuesday ...\n",
       "1     -_-_-_-_-__-_-  Flu symptoms gone - but chest symptoms appeare...\n",
       "2         __illmatic  Infecting parents ?: Just tested positive but ...\n",
       "3               __m1  comment: Hey all, I tested positive last week....\n",
       "4      _mommy2benton  comment: My only symptoms so far have been bas...\n",
       "...              ...                                                ...\n",
       "1647    zonglagyraho  comment: 45 days have been passed and everythi...\n",
       "1648    ZoominBoomin  It's been about 66 days since I've been deemed...\n",
       "1649        Zuvitana  Keep testing positive even though I feel fine:...\n",
       "1650            zy78  Details and advice from my long term experienc...\n",
       "1651          zzphin  comment: Since you mentioned your mom, I’m ass...\n",
       "\n",
       "[1652 rows x 2 columns]"
      ]
     },
     "execution_count": 46,
     "metadata": {},
     "output_type": "execute_result"
    }
   ],
   "source": [
    "# remove /n /r _x000D_ in body sentences, convert some body sentences with type float/time type into string  \n",
    "import re\n",
    "author_678_2020 = JunJulAug_testdata.Author.values\n",
    "body_sentences_678_2020 = JunJulAug_testdata.body.values\n",
    "title_678_2020 = JunJulAug_testdata.Title.values\n",
    "title_body_sentences_678_2020 = []\n",
    "\n",
    "for i in range(len(body_sentences_678_2020)):\n",
    "    if type(body_sentences_678_2020[i]) != str:\n",
    "        body_sentences_678_2020[i] = str(body_sentences_678_2020[i]) \n",
    "    body_sentences_678_2020[i] = body_sentences_678_2020[i].replace('_x000D_',' ').replace('\\r', '').replace('\\n', '').replace('&amp;','&')\n",
    "    body_sentences_678_2020[i] = re.sub(r'\\<U\\+[A-Za-z0-9]+\\>','', body_sentences_678_2020[i]) #remove emoji\n",
    "    title_body_sentences_678_2020.append(title_678_2020[i] + \": \" + body_sentences_678_2020[i])\n",
    "    \n",
    "temp_data = pd.DataFrame()\n",
    "temp_data['author'] = author_678_2020 \n",
    "temp_data['title_body_sentences'] = title_body_sentences_678_2020 \n",
    "temp_data['title_body'] = temp_data.groupby(['author'])['title_body_sentences'].transform(lambda x: '. '.join(x))\n",
    "\n",
    "final_JunJulAug_testdata = temp_data[['author','title_body']]\n",
    "final_JunJulAug_testdata = final_JunJulAug_testdata.drop_duplicates()   \n",
    "final_JunJulAug_testdata = final_JunJulAug_testdata.reset_index(drop=True)\n",
    "final_JunJulAug_testdata"
   ]
  },
  {
   "cell_type": "markdown",
   "id": "listed-georgia",
   "metadata": {
    "id": "formed-canada"
   },
   "source": [
    "### Prepare JunJulAug  test data"
   ]
  },
  {
   "cell_type": "code",
   "execution_count": null,
   "id": "incorrect-affair",
   "metadata": {
    "id": "intense-continent",
    "outputId": "ca0d6558-cf12-430c-aa1d-416d0ae98070"
   },
   "outputs": [
    {
     "name": "stdout",
     "output_type": "stream",
     "text": [
      "Tokenizing comments...\n",
      "  Read 0 comments.\n",
      "  Read 5,800 comments.\n",
      "  Read 6,600 comments.\n",
      "  Read 8,200 comments.\n",
      "  Read 9,800 comments.\n",
      "  Read 15,600 comments.\n",
      "  Read 16,800 comments.\n",
      "  Read 20,400 comments.\n",
      "  Read 22,800 comments.\n",
      "DONE.\n",
      "     1,652 comments before chunking\n",
      "     3,544 comments after chunking\n"
     ]
    }
   ],
   "source": [
    "import numpy as np\n",
    "input_ids_test_678_2020 = []\n",
    "lengths_test_678_2020 = []\n",
    "chunk_labels_678_2020 = []\n",
    "MAX_LEN = 128\n",
    "\n",
    "print('Tokenizing comments...')\n",
    "orig_to_chunk_678_2020 = {}\n",
    "\n",
    "# For every sentence...\n",
    "for i, sen in enumerate(final_JunJulAug_testdata['title_body']):\n",
    "    \n",
    "    if ((len(input_ids_test_678_2020) % 200) == 0):\n",
    "        print('  Read {:,} comments.'.format(len(input_ids_test_678_2020)))\n",
    "\n",
    "    encoded_sent = tokenizer.encode(\n",
    "                        sen,                      # Sentence to encode.\n",
    "                        add_special_tokens = True, # Add '[CLS]' and '[SEP]'\n",
    "                   )\n",
    "    \n",
    "    orig_to_chunk_678_2020[i] = []\n",
    "\n",
    "    if len(encoded_sent) > MAX_LEN:\n",
    "\n",
    "        encoded_sent = encoded_sent[1:-1]\n",
    "        chunk_len = MAX_LEN - 2\n",
    "\n",
    "        for j in range(0, len(encoded_sent), chunk_len):\n",
    "            tokens = encoded_sent[j:j+chunk_len]\n",
    "            chunk = [tokenizer.cls_token_id] + tokens + [tokenizer.sep_token_id]\n",
    "            input_ids_test_678_2020.append(chunk)\n",
    "            orig_to_chunk_678_2020[i].append(len(input_ids_test_678_2020) - 1) \n",
    "    else:\n",
    "        input_ids_test_678_2020.append(encoded_sent)\n",
    "        chunk_labels_678_2020.append(label)\n",
    "        orig_to_chunk_678_2020[i].append(len(input_ids_test_678_2020) - 1)\n",
    "\n",
    "print('DONE.')\n",
    "print('{:>10,} comments before chunking'.format(len(final_JunJulAug_testdata['title_body'])))\n",
    "print('{:>10,} comments after chunking'.format(len(input_ids_test)))"
   ]
  },
  {
   "cell_type": "markdown",
   "id": "diagnostic-lawrence",
   "metadata": {
    "id": "automated-authorization"
   },
   "source": [
    "### Add padding and attention masks for JunJulAug test data"
   ]
  },
  {
   "cell_type": "code",
   "execution_count": null,
   "id": "continent-three",
   "metadata": {
    "id": "demanding-subject"
   },
   "outputs": [],
   "source": [
    "chunk_labels_678_2020 = [0]*len(input_ids_test_678_2020)\n",
    "\n",
    "test_input_ids_678_2020 = pad_sequences(input_ids_test_678_2020, maxlen=MAX_LEN, \n",
    "                               dtype=\"long\", truncating=\"post\", padding=\"post\")\n",
    "\n",
    "# Create attention masks\n",
    "test_attention_masks_678_2020 = []\n",
    "\n",
    "# Create a mask of 1s for each token followed by 0s for padding\n",
    "for seq in test_input_ids_678_2020:\n",
    "    seq_mask = [float(i>0) for i in seq]\n",
    "    test_attention_masks_678_2020.append(seq_mask) \n",
    "\n",
    "# Convert to tensors.\n",
    "test_inputs_678_2020 = torch.tensor(test_input_ids_678_2020)\n",
    "test_masks_678_2020 = torch.tensor(test_attention_masks_678_2020)\n",
    "chunk_labels_678_2020 = torch.tensor(chunk_labels_678_2020)\n",
    "\n",
    "# Set the batch size.  \n",
    "batch_size = 32  \n",
    "\n",
    "# Create the DataLoader.\n",
    "test_data_678_2020 = TensorDataset(test_inputs_678_2020, test_masks_678_2020, chunk_labels_678_2020)\n",
    "test_sampler_678_2020 = SequentialSampler(test_data_678_2020)\n",
    "test_dataloader_678_2020 = DataLoader(test_data_678_2020, sampler=test_sampler_678_2020, batch_size=batch_size)"
   ]
  },
  {
   "cell_type": "markdown",
   "id": "silent-stretch",
   "metadata": {
    "id": "typical-compilation"
   },
   "source": [
    "### Evaluate on JunJulAug test data"
   ]
  },
  {
   "cell_type": "code",
   "execution_count": null,
   "id": "stainless-ceramic",
   "metadata": {
    "id": "cross-championship",
    "outputId": "05fc8ee5-ec40-4ba5-f094-70ca5a90233c"
   },
   "outputs": [
    {
     "name": "stdout",
     "output_type": "stream",
     "text": [
      "Predicting labels for 25,526 test sentences...\n",
      "  Batch   100  of    798.    Elapsed: 0:12:12.\n",
      "  Batch   200  of    798.    Elapsed: 0:24:06.\n",
      "  Batch   300  of    798.    Elapsed: 0:36:44.\n",
      "  Batch   400  of    798.    Elapsed: 0:48:51.\n",
      "  Batch   500  of    798.    Elapsed: 1:00:57.\n",
      "  Batch   600  of    798.    Elapsed: 1:12:56.\n",
      "  Batch   700  of    798.    Elapsed: 1:25:18.\n",
      "    DONE.\n"
     ]
    }
   ],
   "source": [
    "# Prediction on JunJulAug test  set\n",
    "<prevent running>\n",
    "print('Predicting labels for {:,} test sentences...'.format(len(test_inputs_678_2020)))\n",
    "\n",
    "# Put model in evaluation mode\n",
    "model_chuncking.eval()\n",
    "\n",
    "# Tracking variables \n",
    "predictions_678_2020 , true_labels_678_2020 = [], []\n",
    "\n",
    "# Measure elapsed time.\n",
    "t0 = time.time()\n",
    "\n",
    "# Predict \n",
    "for (step, batch) in enumerate(test_dataloader_678_2020):\n",
    "    \n",
    "    # Add batch to GPU\n",
    "    batch = tuple(t.to(device) for t in batch)\n",
    "  \n",
    "    # Progress update every 100 batches.\n",
    "    if step % 100 == 0 and not step == 0:\n",
    "        # Calculate elapsed time in minutes.\n",
    "        elapsed = format_time(time.time() - t0)\n",
    "        \n",
    "        # Report progress.\n",
    "        print('  Batch {:>5,}  of  {:>5,}.    Elapsed: {:}.'.format(step, len(test_dataloader_678_2020), elapsed))\n",
    "\n",
    "\n",
    "    # Unpack the inputs from our dataloader\n",
    "    b_input_ids, b_input_mask, b_labels = batch\n",
    "  \n",
    "    # Telling the model not to compute or store gradients, saving memory and \n",
    "    # speeding up prediction\n",
    "    with torch.no_grad():\n",
    "        # Forward pass, calculate logit predictions\n",
    "        outputs = model_chuncking(b_input_ids, token_type_ids=None, \n",
    "                        attention_mask=b_input_mask)\n",
    "\n",
    "    logits = outputs[0]\n",
    "\n",
    "    # Move logits to CPU\n",
    "    logits = logits.detach().cpu().numpy()\n",
    "  \n",
    "    # Store predictions and true labels\n",
    "    predictions_678_2020.append(logits)\n",
    "\n",
    "print('    DONE.')\n",
    "predictions_678_2020 = np.concatenate(predictions_678_2020, axis=0)"
   ]
  },
  {
   "cell_type": "code",
   "execution_count": null,
   "id": "settled-principal",
   "metadata": {
    "id": "northern-search"
   },
   "outputs": [],
   "source": [
    "#read the saved file:\n",
    "#np.savetxt('./chuncking_model_drop128_epoch6/test_seed2021_predictions_678_2020_drop128_epoch6.txt', predictions_678_2020)\n",
    "predictions_678_2020_drop128_epoch6 = np.loadtxt('./chuncking_model_drop128_epoch6/test_seed2021_predictions_678_2020_drop128_epoch6.txt', dtype=float)"
   ]
  },
  {
   "cell_type": "code",
   "execution_count": null,
   "id": "liked-month",
   "metadata": {
    "id": "revised-senegal"
   },
   "outputs": [],
   "source": []
  },
  {
   "cell_type": "code",
   "execution_count": null,
   "id": "listed-count",
   "metadata": {
    "id": "ranking-culture",
    "outputId": "8d17f8a9-938a-45cf-c2db-3cc525d672ff"
   },
   "outputs": [
    {
     "name": "stdout",
     "output_type": "stream",
     "text": [
      "positives percentage: 0.7524213075060533\n"
     ]
    },
    {
     "data": {
      "image/png": "[encoded data removed]",
      "text/plain": [
       "<Figure size 432x288 with 1 Axes>"
      ]
     },
     "metadata": {
      "needs_background": "light"
     },
     "output_type": "display_data"
    }
   ],
   "source": [
    "p_ave_678_2020 = []\n",
    "for test_i in range(0, len(final_JunJulAug_testdata)):\n",
    "\n",
    "    # `chunk_indeces` is the list of indeces in `predictions` of the chunks for\n",
    "    # sample `test_i`.\n",
    "    chunk_indeces = orig_to_chunk_678_2020[test_i]\n",
    "\n",
    "    # Select the outputs of the \"label 1\" classifier for all chunks\n",
    "    chunks_outputs = predictions_678_2020_drop128_epoch6[chunk_indeces, :]\n",
    "\n",
    "    # Average them and use this as the prediction.\n",
    "    p_ave_678_2020.append(np.mean(chunks_outputs, axis=0))\n",
    "\n",
    "p_ave_678_2020 = np.array(p_ave_678_2020)\n",
    "\n",
    "\n",
    "p_ave_678_2020_label = np.argmax(p_ave_678_2020, axis=1)\n",
    "p_ave_678_2020_label_text = [list(Class_dic.keys())[p_ave_678_2020_label[i]] for i in range(len(p_ave_678_2020_label))]\n",
    "plt.hist(p_ave_678_2020_label_text)\n",
    "plt.xticks(rotation=45)\n",
    "plt.title('Predicted lables(chunk mean scores)')\n",
    "print('positives percentage:', sum(p_ave_678_2020_label[p_ave_678_2020_label==1])/len(p_ave_678_2020_label))"
   ]
  },
  {
   "cell_type": "code",
   "execution_count": null,
   "id": "quarterly-anatomy",
   "metadata": {
    "id": "banned-senior"
   },
   "outputs": [],
   "source": []
  },
  {
   "cell_type": "markdown",
   "id": "expected-crest",
   "metadata": {
    "id": "suburban-brother"
   },
   "source": [
    "### load trained weights"
   ]
  },
  {
   "cell_type": "code",
   "execution_count": null,
   "id": "bulgarian-arabic",
   "metadata": {
    "id": "opened-judge"
   },
   "outputs": [],
   "source": [
    "trained_W0 = np.loadtxt('./chuncking_model_drop128_epoch6/trained_W0.txt', dtype=float)\n",
    "trained_W1 = np.loadtxt('./chuncking_model_drop128_epoch6/trained_W1.txt', dtype=float)"
   ]
  },
  {
   "cell_type": "markdown",
   "id": "accessory-economy",
   "metadata": {
    "id": "reserved-hollywood"
   },
   "source": [
    "### JunJulAug test data: original chunk scores and zero-pad chunk scores"
   ]
  },
  {
   "cell_type": "code",
   "execution_count": null,
   "id": "prostate-shannon",
   "metadata": {
    "id": "backed-excellence",
    "outputId": "b0580bcf-e4a6-48ce-f072-41ad5c60de4d"
   },
   "outputs": [
    {
     "ename": "ValueError",
     "evalue": "negative dimensions are not allowed",
     "output_type": "error",
     "traceback": [
      "\u001b[1;31m---------------------------------------------------------------------------\u001b[0m",
      "\u001b[1;31mValueError\u001b[0m                                Traceback (most recent call last)",
      "\u001b[1;32m<ipython-input-129-cf0ac945a2b7>\u001b[0m in \u001b[0;36m<module>\u001b[1;34m\u001b[0m\n\u001b[0;32m     17\u001b[0m \u001b[0mtest_chunks_pad_scores_678_2020\u001b[0m \u001b[1;33m=\u001b[0m \u001b[1;33m[\u001b[0m\u001b[1;33m]\u001b[0m\u001b[1;33m\u001b[0m\u001b[1;33m\u001b[0m\u001b[0m\n\u001b[0;32m     18\u001b[0m \u001b[1;32mfor\u001b[0m \u001b[0mi\u001b[0m \u001b[1;32min\u001b[0m \u001b[0mrange\u001b[0m\u001b[1;33m(\u001b[0m\u001b[0mlen\u001b[0m\u001b[1;33m(\u001b[0m\u001b[0mtest_chunks_scores_678_2020\u001b[0m\u001b[1;33m)\u001b[0m\u001b[1;33m)\u001b[0m\u001b[1;33m:\u001b[0m\u001b[1;33m\u001b[0m\u001b[1;33m\u001b[0m\u001b[0m\n\u001b[1;32m---> 19\u001b[1;33m     \u001b[0mzero_pad\u001b[0m \u001b[1;33m=\u001b[0m \u001b[0mnp\u001b[0m\u001b[1;33m.\u001b[0m\u001b[0mzeros\u001b[0m\u001b[1;33m(\u001b[0m \u001b[1;33m(\u001b[0m\u001b[0mmax\u001b[0m\u001b[1;33m(\u001b[0m\u001b[0mchunk_nums\u001b[0m\u001b[1;33m)\u001b[0m\u001b[1;33m-\u001b[0m\u001b[0mlen\u001b[0m\u001b[1;33m(\u001b[0m\u001b[0mtest_chunks_scores_678_2020\u001b[0m\u001b[1;33m[\u001b[0m\u001b[0mi\u001b[0m\u001b[1;33m]\u001b[0m\u001b[1;33m)\u001b[0m\u001b[1;33m,\u001b[0m \u001b[1;36m4\u001b[0m\u001b[1;33m)\u001b[0m \u001b[1;33m)\u001b[0m\u001b[1;33m\u001b[0m\u001b[1;33m\u001b[0m\u001b[0m\n\u001b[0m\u001b[0;32m     20\u001b[0m     \u001b[0mpad_score\u001b[0m \u001b[1;33m=\u001b[0m \u001b[0mnp\u001b[0m\u001b[1;33m.\u001b[0m\u001b[0mvstack\u001b[0m\u001b[1;33m(\u001b[0m\u001b[1;33m(\u001b[0m\u001b[0mtest_chunks_scores_678_2020\u001b[0m\u001b[1;33m[\u001b[0m\u001b[0mi\u001b[0m\u001b[1;33m]\u001b[0m\u001b[1;33m,\u001b[0m \u001b[0mzero_pad\u001b[0m\u001b[1;33m)\u001b[0m\u001b[1;33m)\u001b[0m\u001b[1;33m\u001b[0m\u001b[1;33m\u001b[0m\u001b[0m\n\u001b[0;32m     21\u001b[0m     \u001b[0mtest_chunks_pad_scores_678_2020\u001b[0m\u001b[1;33m.\u001b[0m\u001b[0mappend\u001b[0m\u001b[1;33m(\u001b[0m\u001b[0mpad_score\u001b[0m\u001b[1;33m)\u001b[0m\u001b[1;33m\u001b[0m\u001b[1;33m\u001b[0m\u001b[0m\n",
      "\u001b[1;31mValueError\u001b[0m: negative dimensions are not allowed"
     ]
    }
   ],
   "source": [
    "test_chunks_scores_678_2020 = []\n",
    "\n",
    "# For each of the original test samples...\n",
    "for test_i in range(0, len(final_JunJulAug_testdata)):\n",
    "\n",
    "    # `chunk_indeces` is the list of indeces in `predictions` of the chunks for\n",
    "    # sample `test_i`.\n",
    "    chunk_indeces = orig_to_chunk_678_2020[test_i]\n",
    "\n",
    "    # Select the outputs of the \"label 1\" classifier for all chunks\n",
    "    chunks_outputs = predictions_678_2020_drop128_epoch6[chunk_indeces, :]\n",
    "\n",
    "    # Average them and use this as the prediction.\n",
    "    test_chunks_scores_678_2020.append(chunks_outputs)\n",
    "    \n",
    "### zero-pad chunk scores\n",
    "test_chunks_pad_scores_678_2020 = []\n",
    "for i in range(len(test_chunks_scores_678_2020)):\n",
    "    zero_pad = np.zeros( (max(chunk_nums)-len(test_chunks_scores_678_2020[i]), 4) )\n",
    "    pad_score = np.vstack((test_chunks_scores_678_2020[i], zero_pad))\n",
    "    test_chunks_pad_scores_678_2020.append(pad_score)\n",
    "test_chunks_pad_scores_678_2020 = torch.tensor(np.array(test_chunks_pad_scores_678_2020),dtype=torch.float)  #(544,495,4)\n",
    "print('test_chunks_pad_scores_678_2020:',test_chunks_pad_scores_678_2020.shape)"
   ]
  },
  {
   "cell_type": "markdown",
   "id": "stuck-business",
   "metadata": {
    "id": "massive-helicopter"
   },
   "source": [
    "### ######################################################################\n",
    "### Updated file \n",
    "### ######################################################################"
   ]
  },
  {
   "cell_type": "code",
   "execution_count": null,
   "id": "portuguese-pizza",
   "metadata": {
    "id": "ultimate-making"
   },
   "outputs": [],
   "source": [
    "import pandas as pd\n",
    "Authors_NLP_Project_file = pd.read_excel (r'C:\\Users\\Muzhe.Guo\\MuzheFiles\\Classification Sheet - Authors NLP Project.xlsx', sheet_name = 'Authors')\n",
    "Authors_NLP_Project_file['Authors'] = Authors_NLP_Project_file['Authors'].astype(str)\n",
    "Authors_NLP_Project_file['Patient Classification'] = Authors_NLP_Project_file['Patient Classification'].str.lower()\n",
    "\n",
    "Missing_Symptoms_file = pd.read_excel (r'C:\\Users\\Muzhe.Guo\\MuzheFiles\\Classification Sheet - Missing Symptoms.xlsx', sheet_name = 'Authors') \n",
    "Missing_Symptoms_file['Patient Classification'] = Missing_Symptoms_file['Patient Classification'].str.lower()\n",
    "short_Authors = [i.split('\\\\\\\\')[-1] for i in Missing_Symptoms_file['Authors']]\n",
    "Missing_Symptoms_file['short_Authors'] = short_Authors\n"
   ]
  },
  {
   "cell_type": "code",
   "execution_count": null,
   "id": "stopped-china",
   "metadata": {
    "id": "eastern-casino"
   },
   "outputs": [],
   "source": [
    "# Authors_NLP_Project_file['Location'].isna()"
   ]
  },
  {
   "cell_type": "code",
   "execution_count": null,
   "id": "chubby-trainer",
   "metadata": {
    "id": "seventh-matthew",
    "outputId": "4ad4c869-673c-4451-96cb-c490f75a21ff"
   },
   "outputs": [
    {
     "data": {
      "text/html": [
       "<div>\n",
       "<style scoped>\n",
       "    .dataframe tbody tr th:only-of-type {\n",
       "        vertical-align: middle;\n",
       "    }\n",
       "\n",
       "    .dataframe tbody tr th {\n",
       "        vertical-align: top;\n",
       "    }\n",
       "\n",
       "    .dataframe thead th {\n",
       "        text-align: right;\n",
       "    }\n",
       "</style>\n",
       "<table border=\"1\" class=\"dataframe\">\n",
       "  <thead>\n",
       "    <tr style=\"text-align: right;\">\n",
       "      <th></th>\n",
       "      <th>Authors</th>\n",
       "      <th>Aches</th>\n",
       "      <th>Cough</th>\n",
       "      <th>Fatigue</th>\n",
       "      <th>Fever or Chills</th>\n",
       "      <th>GI</th>\n",
       "      <th>Headache</th>\n",
       "      <th>Location</th>\n",
       "      <th>Loss of senses</th>\n",
       "      <th>MarAprMay duplicate</th>\n",
       "      <th>Nose</th>\n",
       "      <th>Patient Classification</th>\n",
       "      <th>SOB</th>\n",
       "      <th>Throat</th>\n",
       "    </tr>\n",
       "  </thead>\n",
       "  <tbody>\n",
       "    <tr>\n",
       "      <th>0</th>\n",
       "      <td>Arkeolog</td>\n",
       "      <td>NaN</td>\n",
       "      <td>NaN</td>\n",
       "      <td>NaN</td>\n",
       "      <td>NaN</td>\n",
       "      <td>NaN</td>\n",
       "      <td>NaN</td>\n",
       "      <td>Outside US</td>\n",
       "      <td>NaN</td>\n",
       "      <td>NaN</td>\n",
       "      <td>NaN</td>\n",
       "      <td>NaN</td>\n",
       "      <td>NaN</td>\n",
       "      <td>NaN</td>\n",
       "    </tr>\n",
       "    <tr>\n",
       "      <th>1</th>\n",
       "      <td>A818A</td>\n",
       "      <td>NaN</td>\n",
       "      <td>NaN</td>\n",
       "      <td>NaN</td>\n",
       "      <td>NaN</td>\n",
       "      <td>NaN</td>\n",
       "      <td>NaN</td>\n",
       "      <td>Outside US</td>\n",
       "      <td>NaN</td>\n",
       "      <td>NaN</td>\n",
       "      <td>NaN</td>\n",
       "      <td>NaN</td>\n",
       "      <td>NaN</td>\n",
       "      <td>NaN</td>\n",
       "    </tr>\n",
       "    <tr>\n",
       "      <th>2</th>\n",
       "      <td>AbsoluteWaffling</td>\n",
       "      <td>NaN</td>\n",
       "      <td>NaN</td>\n",
       "      <td>NaN</td>\n",
       "      <td>NaN</td>\n",
       "      <td>NaN</td>\n",
       "      <td>NaN</td>\n",
       "      <td>Outside US</td>\n",
       "      <td>NaN</td>\n",
       "      <td>NaN</td>\n",
       "      <td>NaN</td>\n",
       "      <td>NaN</td>\n",
       "      <td>NaN</td>\n",
       "      <td>NaN</td>\n",
       "    </tr>\n",
       "    <tr>\n",
       "      <th>3</th>\n",
       "      <td>Advo96</td>\n",
       "      <td>NaN</td>\n",
       "      <td>NaN</td>\n",
       "      <td>NaN</td>\n",
       "      <td>NaN</td>\n",
       "      <td>NaN</td>\n",
       "      <td>NaN</td>\n",
       "      <td>Outside US</td>\n",
       "      <td>NaN</td>\n",
       "      <td>NaN</td>\n",
       "      <td>NaN</td>\n",
       "      <td>NaN</td>\n",
       "      <td>NaN</td>\n",
       "      <td>NaN</td>\n",
       "    </tr>\n",
       "    <tr>\n",
       "      <th>4</th>\n",
       "      <td>agirlwhosews</td>\n",
       "      <td>NaN</td>\n",
       "      <td>NaN</td>\n",
       "      <td>NaN</td>\n",
       "      <td>NaN</td>\n",
       "      <td>NaN</td>\n",
       "      <td>NaN</td>\n",
       "      <td>Outside US</td>\n",
       "      <td>NaN</td>\n",
       "      <td>NaN</td>\n",
       "      <td>NaN</td>\n",
       "      <td>NaN</td>\n",
       "      <td>NaN</td>\n",
       "      <td>NaN</td>\n",
       "    </tr>\n",
       "    <tr>\n",
       "      <th>...</th>\n",
       "      <td>...</td>\n",
       "      <td>...</td>\n",
       "      <td>...</td>\n",
       "      <td>...</td>\n",
       "      <td>...</td>\n",
       "      <td>...</td>\n",
       "      <td>...</td>\n",
       "      <td>...</td>\n",
       "      <td>...</td>\n",
       "      <td>...</td>\n",
       "      <td>...</td>\n",
       "      <td>...</td>\n",
       "      <td>...</td>\n",
       "      <td>...</td>\n",
       "    </tr>\n",
       "    <tr>\n",
       "      <th>1756</th>\n",
       "      <td>__illmatic</td>\n",
       "      <td>NaN</td>\n",
       "      <td>NaN</td>\n",
       "      <td>NaN</td>\n",
       "      <td>NaN</td>\n",
       "      <td>NaN</td>\n",
       "      <td>NaN</td>\n",
       "      <td>NaN</td>\n",
       "      <td>NaN</td>\n",
       "      <td>NaN</td>\n",
       "      <td>NaN</td>\n",
       "      <td>Tested Positive</td>\n",
       "      <td>NaN</td>\n",
       "      <td>NaN</td>\n",
       "    </tr>\n",
       "    <tr>\n",
       "      <th>1757</th>\n",
       "      <td>abdi9ine</td>\n",
       "      <td>NaN</td>\n",
       "      <td>NaN</td>\n",
       "      <td>NaN</td>\n",
       "      <td>NaN</td>\n",
       "      <td>NaN</td>\n",
       "      <td>NaN</td>\n",
       "      <td>NaN</td>\n",
       "      <td>NaN</td>\n",
       "      <td>NaN</td>\n",
       "      <td>NaN</td>\n",
       "      <td>Tested Positive</td>\n",
       "      <td>NaN</td>\n",
       "      <td>NaN</td>\n",
       "    </tr>\n",
       "    <tr>\n",
       "      <th>1758</th>\n",
       "      <td>angers71</td>\n",
       "      <td>NaN</td>\n",
       "      <td>NaN</td>\n",
       "      <td>NaN</td>\n",
       "      <td>NaN</td>\n",
       "      <td>NaN</td>\n",
       "      <td>NaN</td>\n",
       "      <td>NaN</td>\n",
       "      <td>NaN</td>\n",
       "      <td>NaN</td>\n",
       "      <td>NaN</td>\n",
       "      <td>Tested Positive</td>\n",
       "      <td>NaN</td>\n",
       "      <td>NaN</td>\n",
       "    </tr>\n",
       "    <tr>\n",
       "      <th>1759</th>\n",
       "      <td>antibodyangels</td>\n",
       "      <td>NaN</td>\n",
       "      <td>NaN</td>\n",
       "      <td>NaN</td>\n",
       "      <td>NaN</td>\n",
       "      <td>NaN</td>\n",
       "      <td>NaN</td>\n",
       "      <td>NaN</td>\n",
       "      <td>NaN</td>\n",
       "      <td>NaN</td>\n",
       "      <td>NaN</td>\n",
       "      <td>Commenter only</td>\n",
       "      <td>NaN</td>\n",
       "      <td>NaN</td>\n",
       "    </tr>\n",
       "    <tr>\n",
       "      <th>1760</th>\n",
       "      <td>ramoanaflowers</td>\n",
       "      <td>NaN</td>\n",
       "      <td>NaN</td>\n",
       "      <td>NaN</td>\n",
       "      <td>NaN</td>\n",
       "      <td>NaN</td>\n",
       "      <td>NaN</td>\n",
       "      <td>NaN</td>\n",
       "      <td>NaN</td>\n",
       "      <td>NaN</td>\n",
       "      <td>NaN</td>\n",
       "      <td>Unconfirmed/Presumed/Questionable</td>\n",
       "      <td>NaN</td>\n",
       "      <td>NaN</td>\n",
       "    </tr>\n",
       "  </tbody>\n",
       "</table>\n",
       "<p>1761 rows × 14 columns</p>\n",
       "</div>"
      ],
      "text/plain": [
       "               Authors Aches Cough Fatigue Fever or Chills   GI Headache  \\\n",
       "0             Arkeolog   NaN   NaN     NaN             NaN  NaN      NaN   \n",
       "1                A818A   NaN   NaN     NaN             NaN  NaN      NaN   \n",
       "2     AbsoluteWaffling   NaN   NaN     NaN             NaN  NaN      NaN   \n",
       "3               Advo96   NaN   NaN     NaN             NaN  NaN      NaN   \n",
       "4         agirlwhosews   NaN   NaN     NaN             NaN  NaN      NaN   \n",
       "...                ...   ...   ...     ...             ...  ...      ...   \n",
       "1756        __illmatic   NaN   NaN     NaN             NaN  NaN      NaN   \n",
       "1757          abdi9ine   NaN   NaN     NaN             NaN  NaN      NaN   \n",
       "1758          angers71   NaN   NaN     NaN             NaN  NaN      NaN   \n",
       "1759    antibodyangels   NaN   NaN     NaN             NaN  NaN      NaN   \n",
       "1760    ramoanaflowers   NaN   NaN     NaN             NaN  NaN      NaN   \n",
       "\n",
       "        Location Loss of senses MarAprMay duplicate Nose  \\\n",
       "0     Outside US            NaN                 NaN  NaN   \n",
       "1     Outside US            NaN                 NaN  NaN   \n",
       "2     Outside US            NaN                 NaN  NaN   \n",
       "3     Outside US            NaN                 NaN  NaN   \n",
       "4     Outside US            NaN                 NaN  NaN   \n",
       "...          ...            ...                 ...  ...   \n",
       "1756         NaN            NaN                 NaN  NaN   \n",
       "1757         NaN            NaN                 NaN  NaN   \n",
       "1758         NaN            NaN                 NaN  NaN   \n",
       "1759         NaN            NaN                 NaN  NaN   \n",
       "1760         NaN            NaN                 NaN  NaN   \n",
       "\n",
       "                 Patient Classification  SOB Throat  \n",
       "0                                   NaN  NaN    NaN  \n",
       "1                                   NaN  NaN    NaN  \n",
       "2                                   NaN  NaN    NaN  \n",
       "3                                   NaN  NaN    NaN  \n",
       "4                                   NaN  NaN    NaN  \n",
       "...                                 ...  ...    ...  \n",
       "1756                    Tested Positive  NaN    NaN  \n",
       "1757                    Tested Positive  NaN    NaN  \n",
       "1758                    Tested Positive  NaN    NaN  \n",
       "1759                     Commenter only  NaN    NaN  \n",
       "1760  Unconfirmed/Presumed/Questionable  NaN    NaN  \n",
       "\n",
       "[1761 rows x 14 columns]"
      ]
     },
     "execution_count": 75,
     "metadata": {},
     "output_type": "execute_result"
    }
   ],
   "source": [
    "Authors_NLP_Project_file"
   ]
  },
  {
   "cell_type": "code",
   "execution_count": null,
   "id": "superb-locking",
   "metadata": {
    "id": "automotive-salvation",
    "outputId": "d274164c-2ed2-4d95-ca30-913ab753cf3d"
   },
   "outputs": [
    {
     "name": "stdout",
     "output_type": "stream",
     "text": [
      "                                          Authors Aches Cough Fatigue  \\\n",
      "1282  Cases\\\\JunJulAug NVIVO 1762\\\\ramoanaflowers   NaN   NaN     NaN   \n",
      "\n",
      "     Fever or Chills   GI Headache Length of Disease Location Loss of senses  \\\n",
      "1282             NaN  NaN      NaN               NaN      NaN            NaN   \n",
      "\n",
      "     MarAprMay duplicate Nose Patient Classification  SOB Throat  \\\n",
      "1282                 NaN  NaN        tested negative  NaN    NaN   \n",
      "\n",
      "       short_Authors  \n",
      "1282  ramoanaflowers  \n",
      "             Authors Aches Cough Fatigue Fever or Chills   GI Headache  \\\n",
      "1760  ramoanaflowers   NaN   NaN     NaN             NaN  NaN      NaN   \n",
      "\n",
      "     Location Loss of senses MarAprMay duplicate Nose  \\\n",
      "1760      NaN            NaN                 NaN  NaN   \n",
      "\n",
      "                 Patient Classification  SOB Throat  \n",
      "1760  unconfirmed/presumed/questionable  NaN    NaN  \n"
     ]
    }
   ],
   "source": [
    "merged_Authors_NLP_Project = Missing_Symptoms_file.copy()\n",
    "for aut in short_Authors:\n",
    "    aut_row_m = Missing_Symptoms_file[Missing_Symptoms_file['short_Authors']==aut]\n",
    "    aut_row_p = Authors_NLP_Project_file[Authors_NLP_Project_file['Authors']==aut]\n",
    "    for c in Authors_NLP_Project_file.columns[1:]: #remove author column\n",
    "        if aut_row_m[c].isna().item() and aut_row_p[c].isna().item():\n",
    "            merged_Authors_NLP_Project.loc[merged_Authors_NLP_Project['short_Authors']==aut,c] =aut_row_m[c].item()       \n",
    "        elif aut_row_m[c].isna().item() and not aut_row_p[c].isna().item():\n",
    "            merged_Authors_NLP_Project.loc[merged_Authors_NLP_Project['short_Authors']==aut,c] =aut_row_p[c].item()       \n",
    "        elif not aut_row_m[c].isna().item() and aut_row_p[c].isna().item():\n",
    "            merged_Authors_NLP_Project.loc[merged_Authors_NLP_Project['short_Authors']==aut,c] =aut_row_m[c].item()       \n",
    "        elif not aut_row_m[c].isna().item() and not aut_row_p[c].isna().item():\n",
    "            if aut_row_m[c].item() == aut_row_p[c].item():\n",
    "                merged_Authors_NLP_Project.loc[merged_Authors_NLP_Project['short_Authors']==aut,c] =aut_row_m[c].item()       \n",
    "            else:\n",
    "                print(aut_row_m)\n",
    "                print(aut_row_p)           \n",
    "del merged_Authors_NLP_Project['short_Authors']\n",
    "#save\n",
    "#merged_Authors_NLP_Project.to_csv('./merged_Authors_NLP_Project.csv',encoding='utf_8_sig')\n"
   ]
  },
  {
   "cell_type": "code",
   "execution_count": null,
   "id": "collaborative-minimum",
   "metadata": {
    "id": "cross-mortgage"
   },
   "outputs": [],
   "source": []
  },
  {
   "cell_type": "code",
   "execution_count": null,
   "id": "casual-motivation",
   "metadata": {
    "id": "fatty-child"
   },
   "outputs": [],
   "source": []
  },
  {
   "cell_type": "markdown",
   "id": "monetary-notebook",
   "metadata": {
    "id": "stunning-calculator"
   },
   "source": [
    "### Method 1: use the first chunk as the predicted result"
   ]
  },
  {
   "cell_type": "code",
   "execution_count": null,
   "id": "guilty-pension",
   "metadata": {
    "id": "statewide-state"
   },
   "outputs": [],
   "source": [
    "# true_test_labels =  final_data_test['class'].to_numpy().astype(\"int64\")\n",
    "\n",
    "# p1 = []\n",
    "\n",
    "# # For each of the original test samples...\n",
    "# for test_i in range(0, len(true_test_labels)):\n",
    "\n",
    "#     # `chunk_i` is the index into `predictions` for the first chunk of test \n",
    "#     # sample `test_i`.\n",
    "#     chunk_i = orig_to_chunk[test_i][0]\n",
    "\n",
    "#     # `predictions` has two columns--take the output from the \"label 1\" \n",
    "#     # classifier to use for our prediction.\n",
    "#     p1.append(list(predictions_drop128_epoch6[chunk_i, ]))\n",
    "# p1 = np.array(p1)    "
   ]
  },
  {
   "cell_type": "code",
   "execution_count": null,
   "id": "centered-brisbane",
   "metadata": {
    "id": "dutch-admission",
    "scrolled": false
   },
   "outputs": [],
   "source": [
    "# import matplotlib.pyplot as plt\n",
    "# from matplotlib.pyplot import figure\n",
    "# print(\"Accuracy:\", flat_accuracy(p1, true_test_labels))\n",
    "# figure(figsize=(10, 5))\n",
    "# plt.subplot(1, 2, 1)\n",
    "# true_test_labels_text = [list(Class_dic.keys())[true_test_labels[i]] for i in range(len(true_test_labels))]\n",
    "# plt.hist(true_test_labels_text)\n",
    "# plt.xticks(rotation=45)\n",
    "# plt.title('True lables')\n",
    "\n",
    "# plt.subplot(1, 2, 2)\n",
    "# p1_labels = np.argmax(p1, axis=1)\n",
    "# p1_labels_text = [list(Class_dic.keys())[p1_labels[i]] for i in range(len(p1_labels))]\n",
    "# plt.hist(p1_labels_text)\n",
    "# plt.xticks(rotation=45)\n",
    "# plt.title('Predicted lables(by frist chunk)')"
   ]
  },
  {
   "cell_type": "markdown",
   "id": "binding-portal",
   "metadata": {
    "id": "electric-production"
   },
   "source": [
    "### Method 2: use the average chunk as the predicted result"
   ]
  },
  {
   "cell_type": "code",
   "execution_count": null,
   "id": "geological-criterion",
   "metadata": {
    "id": "promising-principle"
   },
   "outputs": [],
   "source": [
    "# true_test_labels =  final_data_test['class'].to_numpy().astype(\"int64\")\n",
    "\n",
    "# p2 = []\n",
    "\n",
    "# # For each of the original test samples...\n",
    "# for test_i in range(0, len(true_test_labels)):\n",
    "\n",
    "#     # `chunk_indeces` is the list of indeces in `predictions` of the chunks for\n",
    "#     # sample `test_i`.\n",
    "#     chunk_indeces = orig_to_chunk[test_i]\n",
    "\n",
    "#     # Select the outputs of the \"label 1\" classifier for all chunks\n",
    "#     chunks_outputs = predictions_drop128_epoch6[chunk_indeces, :]\n",
    "\n",
    "#     # Average them and use this as the prediction.\n",
    "#     p2.append(np.mean(chunks_outputs, axis=0))\n",
    "\n",
    "# p2 = np.array(p2)"
   ]
  },
  {
   "cell_type": "code",
   "execution_count": null,
   "id": "defensive-retirement",
   "metadata": {
    "id": "turkish-gravity",
    "scrolled": false
   },
   "outputs": [],
   "source": [
    "# print(\"Accuracy:\", flat_accuracy(p2, true_test_labels))\n",
    "# figure(figsize=(10, 5))\n",
    "# plt.subplot(1, 2, 1)\n",
    "# true_test_labels_text = [list(Class_dic.keys())[true_test_labels[i]] for i in range(len(true_test_labels))]\n",
    "# plt.hist(true_test_labels_text)\n",
    "# plt.xticks(rotation=45)\n",
    "# plt.title('True lables')\n",
    "\n",
    "# plt.subplot(1, 2, 2)\n",
    "# p2_labels = np.argmax(p2, axis=1)\n",
    "# p2_labels_text = [list(Class_dic.keys())[p2_labels[i]] for i in range(len(p2_labels))]\n",
    "# plt.hist(p2_labels_text)\n",
    "# plt.xticks(rotation=45)\n",
    "# plt.title('Predicted lables(chunk mean scores)')"
   ]
  },
  {
   "cell_type": "code",
   "execution_count": null,
   "id": "ranging-weight",
   "metadata": {
    "id": "necessary-change"
   },
   "outputs": [],
   "source": [
    "# incorrect_prediction = pd.DataFrame(columns=['Groundtruth labels','Predicted labels','title_body'],)\n",
    "# incorrect_prediction = []\n",
    "# p2_labels_text, true_test_labels #np.argmax(p22, axis=1),true_test_labels\n",
    "# print(\"incorrect prediction:\")\n",
    "# for i in range(len(true_test_labels_text)):\n",
    "#     #if np.argmax(p2, axis=1)[i] == np.argmax(p22, axis=1)[i] and np.argmax(p2, axis=1)[i] == true_test_labels[i]:\n",
    "#     if p2_labels_text[i] == true_test_labels_text[i] : \n",
    "#         continue\n",
    "#     else:\n",
    "# #       print(true_test_labels[i], np.argmax(p2, axis=1)[i], np.argmax(p22, axis=1)[i])\n",
    "#         print(true_test_labels_text[i],\"------------>\", p2_labels_text[i])\n",
    "#         incorrect_prediction.append([true_test_labels_text[i], p2_labels_text[i], final_data_test.iloc[i].title_body ])\n",
    "\n",
    "# incorrect_prediction = pd.DataFrame(incorrect_prediction,columns=['Groundtruth labels','Predicted labels','title_body'])\n",
    "# pd.options.display.max_colwidth = 100\n",
    "# # incorrect_prediction.to_csv('./chuncking_model_drop128/incorrect_prediction.csv',encoding='utf_8_sig')\n",
    "# incorrect_prediction"
   ]
  },
  {
   "cell_type": "markdown",
   "id": "incredible-seminar",
   "metadata": {
    "id": "exterior-nursery"
   },
   "source": [
    "### Method 3: use the max chunk as the predicted result"
   ]
  },
  {
   "cell_type": "code",
   "execution_count": null,
   "id": "front-guard",
   "metadata": {
    "id": "conceptual-provincial"
   },
   "outputs": [],
   "source": [
    "# true_test_labels =  final_data_test['class'].to_numpy().astype(\"int64\")\n",
    "\n",
    "# p3 = []\n",
    "\n",
    "# # For each of the original test samples...\n",
    "# for test_i in range(0, len(true_test_labels)):\n",
    "\n",
    "#     # `chunk_indeces` is the list of indeces in `predictions` of the chunks for\n",
    "#     # sample `test_i`.\n",
    "#     chunk_indeces = orig_to_chunk[test_i]\n",
    "\n",
    "#     # Select the outputs of the \"label 1\" classifier for all chunks\n",
    "#     chunks_outputs = predictions_drop128_epoch6[chunk_indeces, :]\n",
    "\n",
    "#     # Average them and use this as the prediction.\n",
    "#     p3.append(np.mean(chunks_outputs, axis=0))\n",
    "\n",
    "# p3 = np.array(p3)    \n",
    "# print(\"Accuracy:\", flat_accuracy(p3, true_test_labels))"
   ]
  },
  {
   "cell_type": "code",
   "execution_count": null,
   "id": "chief-portable",
   "metadata": {
    "id": "decreased-routine"
   },
   "outputs": [],
   "source": []
  },
  {
   "cell_type": "code",
   "execution_count": null,
   "id": "neural-mercy",
   "metadata": {
    "id": "statewide-detective"
   },
   "outputs": [],
   "source": []
  },
  {
   "cell_type": "code",
   "execution_count": null,
   "id": "hidden-palestine",
   "metadata": {
    "id": "apparent-upset"
   },
   "outputs": [],
   "source": []
  },
  {
   "cell_type": "code",
   "execution_count": null,
   "id": "portuguese-diabetes",
   "metadata": {},
   "outputs": [],
   "source": []
  },
  {
   "cell_type": "code",
   "execution_count": null,
   "id": "weighted-european",
   "metadata": {
    "id": "forbidden-democrat"
   },
   "outputs": [],
   "source": []
  },
  {
   "cell_type": "code",
   "execution_count": null,
   "id": "sustainable-competition",
   "metadata": {
    "id": "whole-statement"
   },
   "outputs": [],
   "source": []
  },
  {
   "cell_type": "code",
   "execution_count": null,
   "id": "israeli-blackberry",
   "metadata": {
    "id": "abstract-madison"
   },
   "outputs": [],
   "source": []
  },
  {
   "cell_type": "code",
   "execution_count": null,
   "id": "temporal-crazy",
   "metadata": {
    "id": "located-regard"
   },
   "outputs": [],
   "source": []
  },
  {
   "cell_type": "code",
   "execution_count": null,
   "id": "early-elimination",
   "metadata": {
    "id": "vertical-retail"
   },
   "outputs": [],
   "source": []
  },
  {
   "cell_type": "code",
   "execution_count": null,
   "id": "unable-nirvana",
   "metadata": {
    "id": "attached-costume"
   },
   "outputs": [],
   "source": []
  },
  {
   "cell_type": "code",
   "execution_count": null,
   "id": "dimensional-radius",
   "metadata": {
    "id": "educated-projection"
   },
   "outputs": [],
   "source": []
  },
  {
   "cell_type": "code",
   "execution_count": null,
   "id": "flexible-pitch",
   "metadata": {
    "id": "excellent-hudson"
   },
   "outputs": [],
   "source": []
  },
  {
   "cell_type": "code",
   "execution_count": null,
   "id": "pointed-boating",
   "metadata": {
    "id": "social-halloween"
   },
   "outputs": [],
   "source": []
  },
  {
   "cell_type": "code",
   "execution_count": null,
   "id": "tracked-spanking",
   "metadata": {
    "id": "numerical-continent"
   },
   "outputs": [],
   "source": []
  },
  {
   "cell_type": "code",
   "execution_count": null,
   "id": "resident-enzyme",
   "metadata": {
    "id": "expressed-plaintiff"
   },
   "outputs": [],
   "source": []
  }
 ],
 "metadata": {
  "colab": {
   "collapsed_sections": [
    "cheap-boulder",
    "engaged-vehicle",
    "parliamentary-message",
    "formed-canada",
    "automated-authorization",
    "typical-compilation",
    "suburban-brother",
    "reserved-hollywood",
    "massive-helicopter",
    "stunning-calculator",
    "electric-production",
    "exterior-nursery"
   ],
   "name": "Reddit_NLP_Classification.ipynb",
   "provenance": []
  },
  "kernelspec": {
   "display_name": "Python 3",
   "language": "python",
   "name": "python3"
  },
  "language_info": {
   "codemirror_mode": {
    "name": "ipython",
    "version": 3
   },
   "file_extension": ".py",
   "mimetype": "text/x-python",
   "name": "python",
   "nbconvert_exporter": "python",
   "pygments_lexer": "ipython3",
   "version": "3.7.9"
  },
  "widgets": {
   "application/vnd.jupyter.widget-state+json": {
    "02810b9f6bf34390b3cb6efab5a4ab19": {
     "model_module": "@jupyter-widgets/controls",
     "model_module_version": "1.5.0",
     "model_name": "ProgressStyleModel",
     "state": {
      "_model_module": "@jupyter-widgets/controls",
      "_model_module_version": "1.5.0",
      "_model_name": "ProgressStyleModel",
      "_view_count": null,
      "_view_module": "@jupyter-widgets/base",
      "_view_module_version": "1.2.0",
      "_view_name": "StyleView",
      "bar_color": null,
      "description_width": ""
     }
    },
    "05ce1ea6e6634fecab2e33cde9f3db40": {
     "model_module": "@jupyter-widgets/controls",
     "model_module_version": "1.5.0",
     "model_name": "DescriptionStyleModel",
     "state": {
      "_model_module": "@jupyter-widgets/controls",
      "_model_module_version": "1.5.0",
      "_model_name": "DescriptionStyleModel",
      "_view_count": null,
      "_view_module": "@jupyter-widgets/base",
      "_view_module_version": "1.2.0",
      "_view_name": "StyleView",
      "description_width": ""
     }
    },
    "0d1bbc7640934314be834fc8c70ca47d": {
     "model_module": "@jupyter-widgets/controls",
     "model_module_version": "1.5.0",
     "model_name": "HBoxModel",
     "state": {
      "_dom_classes": [],
      "_model_module": "@jupyter-widgets/controls",
      "_model_module_version": "1.5.0",
      "_model_name": "HBoxModel",
      "_view_count": null,
      "_view_module": "@jupyter-widgets/controls",
      "_view_module_version": "1.5.0",
      "_view_name": "HBoxView",
      "box_style": "",
      "children": [
       "IPY_MODEL_dab0be5d18c840af9265c2c7c057d6b2",
       "IPY_MODEL_41390b23946042d895e63495a530ff68",
       "IPY_MODEL_4a6494922d2b4aba9957790bc42b126a"
      ],
      "layout": "IPY_MODEL_8804983badfc4a24b29a83edd3cd73f3"
     }
    },
    "0df1892f19634f63b814ce51894683e3": {
     "model_module": "@jupyter-widgets/controls",
     "model_module_version": "1.5.0",
     "model_name": "DescriptionStyleModel",
     "state": {
      "_model_module": "@jupyter-widgets/controls",
      "_model_module_version": "1.5.0",
      "_model_name": "DescriptionStyleModel",
      "_view_count": null,
      "_view_module": "@jupyter-widgets/base",
      "_view_module_version": "1.2.0",
      "_view_name": "StyleView",
      "description_width": ""
     }
    },
    "12303d0e90474b8f89cd1c5ee6374f22": {
     "model_module": "@jupyter-widgets/controls",
     "model_module_version": "1.5.0",
     "model_name": "ProgressStyleModel",
     "state": {
      "_model_module": "@jupyter-widgets/controls",
      "_model_module_version": "1.5.0",
      "_model_name": "ProgressStyleModel",
      "_view_count": null,
      "_view_module": "@jupyter-widgets/base",
      "_view_module_version": "1.2.0",
      "_view_name": "StyleView",
      "bar_color": null,
      "description_width": ""
     }
    },
    "12aa5e724ff94f14ac596028b9f95d02": {
     "model_module": "@jupyter-widgets/base",
     "model_module_version": "1.2.0",
     "model_name": "LayoutModel",
     "state": {
      "_model_module": "@jupyter-widgets/base",
      "_model_module_version": "1.2.0",
      "_model_name": "LayoutModel",
      "_view_count": null,
      "_view_module": "@jupyter-widgets/base",
      "_view_module_version": "1.2.0",
      "_view_name": "LayoutView",
      "align_content": null,
      "align_items": null,
      "align_self": null,
      "border": null,
      "bottom": null,
      "display": null,
      "flex": null,
      "flex_flow": null,
      "grid_area": null,
      "grid_auto_columns": null,
      "grid_auto_flow": null,
      "grid_auto_rows": null,
      "grid_column": null,
      "grid_gap": null,
      "grid_row": null,
      "grid_template_areas": null,
      "grid_template_columns": null,
      "grid_template_rows": null,
      "height": null,
      "justify_content": null,
      "justify_items": null,
      "left": null,
      "margin": null,
      "max_height": null,
      "max_width": null,
      "min_height": null,
      "min_width": null,
      "object_fit": null,
      "object_position": null,
      "order": null,
      "overflow": null,
      "overflow_x": null,
      "overflow_y": null,
      "padding": null,
      "right": null,
      "top": null,
      "visibility": null,
      "width": null
     }
    },
    "160767dd2aad4b40a86ba77a4376b7cb": {
     "model_module": "@jupyter-widgets/base",
     "model_module_version": "1.2.0",
     "model_name": "LayoutModel",
     "state": {
      "_model_module": "@jupyter-widgets/base",
      "_model_module_version": "1.2.0",
      "_model_name": "LayoutModel",
      "_view_count": null,
      "_view_module": "@jupyter-widgets/base",
      "_view_module_version": "1.2.0",
      "_view_name": "LayoutView",
      "align_content": null,
      "align_items": null,
      "align_self": null,
      "border": null,
      "bottom": null,
      "display": null,
      "flex": null,
      "flex_flow": null,
      "grid_area": null,
      "grid_auto_columns": null,
      "grid_auto_flow": null,
      "grid_auto_rows": null,
      "grid_column": null,
      "grid_gap": null,
      "grid_row": null,
      "grid_template_areas": null,
      "grid_template_columns": null,
      "grid_template_rows": null,
      "height": null,
      "justify_content": null,
      "justify_items": null,
      "left": null,
      "margin": null,
      "max_height": null,
      "max_width": null,
      "min_height": null,
      "min_width": null,
      "object_fit": null,
      "object_position": null,
      "order": null,
      "overflow": null,
      "overflow_x": null,
      "overflow_y": null,
      "padding": null,
      "right": null,
      "top": null,
      "visibility": null,
      "width": null
     }
    },
    "19ac452e428d47b887d2630108f5097f": {
     "model_module": "@jupyter-widgets/base",
     "model_module_version": "1.2.0",
     "model_name": "LayoutModel",
     "state": {
      "_model_module": "@jupyter-widgets/base",
      "_model_module_version": "1.2.0",
      "_model_name": "LayoutModel",
      "_view_count": null,
      "_view_module": "@jupyter-widgets/base",
      "_view_module_version": "1.2.0",
      "_view_name": "LayoutView",
      "align_content": null,
      "align_items": null,
      "align_self": null,
      "border": null,
      "bottom": null,
      "display": null,
      "flex": null,
      "flex_flow": null,
      "grid_area": null,
      "grid_auto_columns": null,
      "grid_auto_flow": null,
      "grid_auto_rows": null,
      "grid_column": null,
      "grid_gap": null,
      "grid_row": null,
      "grid_template_areas": null,
      "grid_template_columns": null,
      "grid_template_rows": null,
      "height": null,
      "justify_content": null,
      "justify_items": null,
      "left": null,
      "margin": null,
      "max_height": null,
      "max_width": null,
      "min_height": null,
      "min_width": null,
      "object_fit": null,
      "object_position": null,
      "order": null,
      "overflow": null,
      "overflow_x": null,
      "overflow_y": null,
      "padding": null,
      "right": null,
      "top": null,
      "visibility": null,
      "width": null
     }
    },
    "19d1dc8f297f4450a068a9871832012b": {
     "model_module": "@jupyter-widgets/base",
     "model_module_version": "1.2.0",
     "model_name": "LayoutModel",
     "state": {
      "_model_module": "@jupyter-widgets/base",
      "_model_module_version": "1.2.0",
      "_model_name": "LayoutModel",
      "_view_count": null,
      "_view_module": "@jupyter-widgets/base",
      "_view_module_version": "1.2.0",
      "_view_name": "LayoutView",
      "align_content": null,
      "align_items": null,
      "align_self": null,
      "border": null,
      "bottom": null,
      "display": null,
      "flex": null,
      "flex_flow": null,
      "grid_area": null,
      "grid_auto_columns": null,
      "grid_auto_flow": null,
      "grid_auto_rows": null,
      "grid_column": null,
      "grid_gap": null,
      "grid_row": null,
      "grid_template_areas": null,
      "grid_template_columns": null,
      "grid_template_rows": null,
      "height": null,
      "justify_content": null,
      "justify_items": null,
      "left": null,
      "margin": null,
      "max_height": null,
      "max_width": null,
      "min_height": null,
      "min_width": null,
      "object_fit": null,
      "object_position": null,
      "order": null,
      "overflow": null,
      "overflow_x": null,
      "overflow_y": null,
      "padding": null,
      "right": null,
      "top": null,
      "visibility": null,
      "width": null
     }
    },
    "1f5c760eb57c4b2a946c5c90fe3b19f6": {
     "model_module": "@jupyter-widgets/base",
     "model_module_version": "1.2.0",
     "model_name": "LayoutModel",
     "state": {
      "_model_module": "@jupyter-widgets/base",
      "_model_module_version": "1.2.0",
      "_model_name": "LayoutModel",
      "_view_count": null,
      "_view_module": "@jupyter-widgets/base",
      "_view_module_version": "1.2.0",
      "_view_name": "LayoutView",
      "align_content": null,
      "align_items": null,
      "align_self": null,
      "border": null,
      "bottom": null,
      "display": null,
      "flex": null,
      "flex_flow": null,
      "grid_area": null,
      "grid_auto_columns": null,
      "grid_auto_flow": null,
      "grid_auto_rows": null,
      "grid_column": null,
      "grid_gap": null,
      "grid_row": null,
      "grid_template_areas": null,
      "grid_template_columns": null,
      "grid_template_rows": null,
      "height": null,
      "justify_content": null,
      "justify_items": null,
      "left": null,
      "margin": null,
      "max_height": null,
      "max_width": null,
      "min_height": null,
      "min_width": null,
      "object_fit": null,
      "object_position": null,
      "order": null,
      "overflow": null,
      "overflow_x": null,
      "overflow_y": null,
      "padding": null,
      "right": null,
      "top": null,
      "visibility": null,
      "width": null
     }
    },
    "2c378db3f62b4f38bf3e5e6c66185e24": {
     "model_module": "@jupyter-widgets/base",
     "model_module_version": "1.2.0",
     "model_name": "LayoutModel",
     "state": {
      "_model_module": "@jupyter-widgets/base",
      "_model_module_version": "1.2.0",
      "_model_name": "LayoutModel",
      "_view_count": null,
      "_view_module": "@jupyter-widgets/base",
      "_view_module_version": "1.2.0",
      "_view_name": "LayoutView",
      "align_content": null,
      "align_items": null,
      "align_self": null,
      "border": null,
      "bottom": null,
      "display": null,
      "flex": null,
      "flex_flow": null,
      "grid_area": null,
      "grid_auto_columns": null,
      "grid_auto_flow": null,
      "grid_auto_rows": null,
      "grid_column": null,
      "grid_gap": null,
      "grid_row": null,
      "grid_template_areas": null,
      "grid_template_columns": null,
      "grid_template_rows": null,
      "height": null,
      "justify_content": null,
      "justify_items": null,
      "left": null,
      "margin": null,
      "max_height": null,
      "max_width": null,
      "min_height": null,
      "min_width": null,
      "object_fit": null,
      "object_position": null,
      "order": null,
      "overflow": null,
      "overflow_x": null,
      "overflow_y": null,
      "padding": null,
      "right": null,
      "top": null,
      "visibility": null,
      "width": null
     }
    },
    "34ff4dacb06d4b2e95412a7c4f37a941": {
     "model_module": "@jupyter-widgets/base",
     "model_module_version": "1.2.0",
     "model_name": "LayoutModel",
     "state": {
      "_model_module": "@jupyter-widgets/base",
      "_model_module_version": "1.2.0",
      "_model_name": "LayoutModel",
      "_view_count": null,
      "_view_module": "@jupyter-widgets/base",
      "_view_module_version": "1.2.0",
      "_view_name": "LayoutView",
      "align_content": null,
      "align_items": null,
      "align_self": null,
      "border": null,
      "bottom": null,
      "display": null,
      "flex": null,
      "flex_flow": null,
      "grid_area": null,
      "grid_auto_columns": null,
      "grid_auto_flow": null,
      "grid_auto_rows": null,
      "grid_column": null,
      "grid_gap": null,
      "grid_row": null,
      "grid_template_areas": null,
      "grid_template_columns": null,
      "grid_template_rows": null,
      "height": null,
      "justify_content": null,
      "justify_items": null,
      "left": null,
      "margin": null,
      "max_height": null,
      "max_width": null,
      "min_height": null,
      "min_width": null,
      "object_fit": null,
      "object_position": null,
      "order": null,
      "overflow": null,
      "overflow_x": null,
      "overflow_y": null,
      "padding": null,
      "right": null,
      "top": null,
      "visibility": null,
      "width": null
     }
    },
    "41390b23946042d895e63495a530ff68": {
     "model_module": "@jupyter-widgets/controls",
     "model_module_version": "1.5.0",
     "model_name": "FloatProgressModel",
     "state": {
      "_dom_classes": [],
      "_model_module": "@jupyter-widgets/controls",
      "_model_module_version": "1.5.0",
      "_model_name": "FloatProgressModel",
      "_view_count": null,
      "_view_module": "@jupyter-widgets/controls",
      "_view_module_version": "1.5.0",
      "_view_name": "ProgressView",
      "bar_style": "success",
      "description": "",
      "description_tooltip": null,
      "layout": "IPY_MODEL_f91f0d74db6943a888aec331557f1605",
      "max": 570,
      "min": 0,
      "orientation": "horizontal",
      "style": "IPY_MODEL_e2230dfc48cb4586aea3083a88d7d229",
      "value": 570
     }
    },
    "456708cddbda421fa45bdc7cabf65874": {
     "model_module": "@jupyter-widgets/controls",
     "model_module_version": "1.5.0",
     "model_name": "DescriptionStyleModel",
     "state": {
      "_model_module": "@jupyter-widgets/controls",
      "_model_module_version": "1.5.0",
      "_model_name": "DescriptionStyleModel",
      "_view_count": null,
      "_view_module": "@jupyter-widgets/base",
      "_view_module_version": "1.2.0",
      "_view_name": "StyleView",
      "description_width": ""
     }
    },
    "466c3fa87b984507bf3021fe78c010ea": {
     "model_module": "@jupyter-widgets/base",
     "model_module_version": "1.2.0",
     "model_name": "LayoutModel",
     "state": {
      "_model_module": "@jupyter-widgets/base",
      "_model_module_version": "1.2.0",
      "_model_name": "LayoutModel",
      "_view_count": null,
      "_view_module": "@jupyter-widgets/base",
      "_view_module_version": "1.2.0",
      "_view_name": "LayoutView",
      "align_content": null,
      "align_items": null,
      "align_self": null,
      "border": null,
      "bottom": null,
      "display": null,
      "flex": null,
      "flex_flow": null,
      "grid_area": null,
      "grid_auto_columns": null,
      "grid_auto_flow": null,
      "grid_auto_rows": null,
      "grid_column": null,
      "grid_gap": null,
      "grid_row": null,
      "grid_template_areas": null,
      "grid_template_columns": null,
      "grid_template_rows": null,
      "height": null,
      "justify_content": null,
      "justify_items": null,
      "left": null,
      "margin": null,
      "max_height": null,
      "max_width": null,
      "min_height": null,
      "min_width": null,
      "object_fit": null,
      "object_position": null,
      "order": null,
      "overflow": null,
      "overflow_x": null,
      "overflow_y": null,
      "padding": null,
      "right": null,
      "top": null,
      "visibility": null,
      "width": null
     }
    },
    "4a6494922d2b4aba9957790bc42b126a": {
     "model_module": "@jupyter-widgets/controls",
     "model_module_version": "1.5.0",
     "model_name": "HTMLModel",
     "state": {
      "_dom_classes": [],
      "_model_module": "@jupyter-widgets/controls",
      "_model_module_version": "1.5.0",
      "_model_name": "HTMLModel",
      "_view_count": null,
      "_view_module": "@jupyter-widgets/controls",
      "_view_module_version": "1.5.0",
      "_view_name": "HTMLView",
      "description": "",
      "description_tooltip": null,
      "layout": "IPY_MODEL_60cfa5b2c81e4d099360e44d50f58241",
      "placeholder": "​",
      "style": "IPY_MODEL_0df1892f19634f63b814ce51894683e3",
      "value": " 570/570 [00:00&lt;00:00, 13.1kB/s]"
     }
    },
    "502680fd85d7492483512664dd73050b": {
     "model_module": "@jupyter-widgets/base",
     "model_module_version": "1.2.0",
     "model_name": "LayoutModel",
     "state": {
      "_model_module": "@jupyter-widgets/base",
      "_model_module_version": "1.2.0",
      "_model_name": "LayoutModel",
      "_view_count": null,
      "_view_module": "@jupyter-widgets/base",
      "_view_module_version": "1.2.0",
      "_view_name": "LayoutView",
      "align_content": null,
      "align_items": null,
      "align_self": null,
      "border": null,
      "bottom": null,
      "display": null,
      "flex": null,
      "flex_flow": null,
      "grid_area": null,
      "grid_auto_columns": null,
      "grid_auto_flow": null,
      "grid_auto_rows": null,
      "grid_column": null,
      "grid_gap": null,
      "grid_row": null,
      "grid_template_areas": null,
      "grid_template_columns": null,
      "grid_template_rows": null,
      "height": null,
      "justify_content": null,
      "justify_items": null,
      "left": null,
      "margin": null,
      "max_height": null,
      "max_width": null,
      "min_height": null,
      "min_width": null,
      "object_fit": null,
      "object_position": null,
      "order": null,
      "overflow": null,
      "overflow_x": null,
      "overflow_y": null,
      "padding": null,
      "right": null,
      "top": null,
      "visibility": null,
      "width": null
     }
    },
    "506f2a22d63d4d0a9cc6ddb4e21a6240": {
     "model_module": "@jupyter-widgets/controls",
     "model_module_version": "1.5.0",
     "model_name": "HBoxModel",
     "state": {
      "_dom_classes": [],
      "_model_module": "@jupyter-widgets/controls",
      "_model_module_version": "1.5.0",
      "_model_name": "HBoxModel",
      "_view_count": null,
      "_view_module": "@jupyter-widgets/controls",
      "_view_module_version": "1.5.0",
      "_view_name": "HBoxView",
      "box_style": "",
      "children": [
       "IPY_MODEL_c6359967c71b4fc59fbc1a4fb7e2d308",
       "IPY_MODEL_ba2f1c1b5b74470c965f5d1c8f812de1",
       "IPY_MODEL_ef5138d440b541d98b7cf34ddd9dad60"
      ],
      "layout": "IPY_MODEL_2c378db3f62b4f38bf3e5e6c66185e24"
     }
    },
    "60cfa5b2c81e4d099360e44d50f58241": {
     "model_module": "@jupyter-widgets/base",
     "model_module_version": "1.2.0",
     "model_name": "LayoutModel",
     "state": {
      "_model_module": "@jupyter-widgets/base",
      "_model_module_version": "1.2.0",
      "_model_name": "LayoutModel",
      "_view_count": null,
      "_view_module": "@jupyter-widgets/base",
      "_view_module_version": "1.2.0",
      "_view_name": "LayoutView",
      "align_content": null,
      "align_items": null,
      "align_self": null,
      "border": null,
      "bottom": null,
      "display": null,
      "flex": null,
      "flex_flow": null,
      "grid_area": null,
      "grid_auto_columns": null,
      "grid_auto_flow": null,
      "grid_auto_rows": null,
      "grid_column": null,
      "grid_gap": null,
      "grid_row": null,
      "grid_template_areas": null,
      "grid_template_columns": null,
      "grid_template_rows": null,
      "height": null,
      "justify_content": null,
      "justify_items": null,
      "left": null,
      "margin": null,
      "max_height": null,
      "max_width": null,
      "min_height": null,
      "min_width": null,
      "object_fit": null,
      "object_position": null,
      "order": null,
      "overflow": null,
      "overflow_x": null,
      "overflow_y": null,
      "padding": null,
      "right": null,
      "top": null,
      "visibility": null,
      "width": null
     }
    },
    "721631690e7e46c0a1f4ea427d53f789": {
     "model_module": "@jupyter-widgets/controls",
     "model_module_version": "1.5.0",
     "model_name": "DescriptionStyleModel",
     "state": {
      "_model_module": "@jupyter-widgets/controls",
      "_model_module_version": "1.5.0",
      "_model_name": "DescriptionStyleModel",
      "_view_count": null,
      "_view_module": "@jupyter-widgets/base",
      "_view_module_version": "1.2.0",
      "_view_name": "StyleView",
      "description_width": ""
     }
    },
    "739583bd916f40b2b763852a067d563e": {
     "model_module": "@jupyter-widgets/base",
     "model_module_version": "1.2.0",
     "model_name": "LayoutModel",
     "state": {
      "_model_module": "@jupyter-widgets/base",
      "_model_module_version": "1.2.0",
      "_model_name": "LayoutModel",
      "_view_count": null,
      "_view_module": "@jupyter-widgets/base",
      "_view_module_version": "1.2.0",
      "_view_name": "LayoutView",
      "align_content": null,
      "align_items": null,
      "align_self": null,
      "border": null,
      "bottom": null,
      "display": null,
      "flex": null,
      "flex_flow": null,
      "grid_area": null,
      "grid_auto_columns": null,
      "grid_auto_flow": null,
      "grid_auto_rows": null,
      "grid_column": null,
      "grid_gap": null,
      "grid_row": null,
      "grid_template_areas": null,
      "grid_template_columns": null,
      "grid_template_rows": null,
      "height": null,
      "justify_content": null,
      "justify_items": null,
      "left": null,
      "margin": null,
      "max_height": null,
      "max_width": null,
      "min_height": null,
      "min_width": null,
      "object_fit": null,
      "object_position": null,
      "order": null,
      "overflow": null,
      "overflow_x": null,
      "overflow_y": null,
      "padding": null,
      "right": null,
      "top": null,
      "visibility": null,
      "width": null
     }
    },
    "7649dafbe12a4907b4b7769091332ddc": {
     "model_module": "@jupyter-widgets/controls",
     "model_module_version": "1.5.0",
     "model_name": "HTMLModel",
     "state": {
      "_dom_classes": [],
      "_model_module": "@jupyter-widgets/controls",
      "_model_module_version": "1.5.0",
      "_model_name": "HTMLModel",
      "_view_count": null,
      "_view_module": "@jupyter-widgets/controls",
      "_view_module_version": "1.5.0",
      "_view_name": "HTMLView",
      "description": "",
      "description_tooltip": null,
      "layout": "IPY_MODEL_ad75349454fe443fbeec7ef242e60913",
      "placeholder": "​",
      "style": "IPY_MODEL_c6a2de835d8944d39efe0018e75b4f41",
      "value": "Downloading: 100%"
     }
    },
    "818404dbe7c6487e9b4be15b84de3b52": {
     "model_module": "@jupyter-widgets/base",
     "model_module_version": "1.2.0",
     "model_name": "LayoutModel",
     "state": {
      "_model_module": "@jupyter-widgets/base",
      "_model_module_version": "1.2.0",
      "_model_name": "LayoutModel",
      "_view_count": null,
      "_view_module": "@jupyter-widgets/base",
      "_view_module_version": "1.2.0",
      "_view_name": "LayoutView",
      "align_content": null,
      "align_items": null,
      "align_self": null,
      "border": null,
      "bottom": null,
      "display": null,
      "flex": null,
      "flex_flow": null,
      "grid_area": null,
      "grid_auto_columns": null,
      "grid_auto_flow": null,
      "grid_auto_rows": null,
      "grid_column": null,
      "grid_gap": null,
      "grid_row": null,
      "grid_template_areas": null,
      "grid_template_columns": null,
      "grid_template_rows": null,
      "height": null,
      "justify_content": null,
      "justify_items": null,
      "left": null,
      "margin": null,
      "max_height": null,
      "max_width": null,
      "min_height": null,
      "min_width": null,
      "object_fit": null,
      "object_position": null,
      "order": null,
      "overflow": null,
      "overflow_x": null,
      "overflow_y": null,
      "padding": null,
      "right": null,
      "top": null,
      "visibility": null,
      "width": null
     }
    },
    "8804983badfc4a24b29a83edd3cd73f3": {
     "model_module": "@jupyter-widgets/base",
     "model_module_version": "1.2.0",
     "model_name": "LayoutModel",
     "state": {
      "_model_module": "@jupyter-widgets/base",
      "_model_module_version": "1.2.0",
      "_model_name": "LayoutModel",
      "_view_count": null,
      "_view_module": "@jupyter-widgets/base",
      "_view_module_version": "1.2.0",
      "_view_name": "LayoutView",
      "align_content": null,
      "align_items": null,
      "align_self": null,
      "border": null,
      "bottom": null,
      "display": null,
      "flex": null,
      "flex_flow": null,
      "grid_area": null,
      "grid_auto_columns": null,
      "grid_auto_flow": null,
      "grid_auto_rows": null,
      "grid_column": null,
      "grid_gap": null,
      "grid_row": null,
      "grid_template_areas": null,
      "grid_template_columns": null,
      "grid_template_rows": null,
      "height": null,
      "justify_content": null,
      "justify_items": null,
      "left": null,
      "margin": null,
      "max_height": null,
      "max_width": null,
      "min_height": null,
      "min_width": null,
      "object_fit": null,
      "object_position": null,
      "order": null,
      "overflow": null,
      "overflow_x": null,
      "overflow_y": null,
      "padding": null,
      "right": null,
      "top": null,
      "visibility": null,
      "width": null
     }
    },
    "899e849dbba84101ae48fa92dd129c90": {
     "model_module": "@jupyter-widgets/base",
     "model_module_version": "1.2.0",
     "model_name": "LayoutModel",
     "state": {
      "_model_module": "@jupyter-widgets/base",
      "_model_module_version": "1.2.0",
      "_model_name": "LayoutModel",
      "_view_count": null,
      "_view_module": "@jupyter-widgets/base",
      "_view_module_version": "1.2.0",
      "_view_name": "LayoutView",
      "align_content": null,
      "align_items": null,
      "align_self": null,
      "border": null,
      "bottom": null,
      "display": null,
      "flex": null,
      "flex_flow": null,
      "grid_area": null,
      "grid_auto_columns": null,
      "grid_auto_flow": null,
      "grid_auto_rows": null,
      "grid_column": null,
      "grid_gap": null,
      "grid_row": null,
      "grid_template_areas": null,
      "grid_template_columns": null,
      "grid_template_rows": null,
      "height": null,
      "justify_content": null,
      "justify_items": null,
      "left": null,
      "margin": null,
      "max_height": null,
      "max_width": null,
      "min_height": null,
      "min_width": null,
      "object_fit": null,
      "object_position": null,
      "order": null,
      "overflow": null,
      "overflow_x": null,
      "overflow_y": null,
      "padding": null,
      "right": null,
      "top": null,
      "visibility": null,
      "width": null
     }
    },
    "8c0c0cd7c4ba4dc7ace2a43cb6f7d8d7": {
     "model_module": "@jupyter-widgets/controls",
     "model_module_version": "1.5.0",
     "model_name": "ProgressStyleModel",
     "state": {
      "_model_module": "@jupyter-widgets/controls",
      "_model_module_version": "1.5.0",
      "_model_name": "ProgressStyleModel",
      "_view_count": null,
      "_view_module": "@jupyter-widgets/base",
      "_view_module_version": "1.2.0",
      "_view_name": "StyleView",
      "bar_color": null,
      "description_width": ""
     }
    },
    "8e55f879c70e422993f271745330ebf0": {
     "model_module": "@jupyter-widgets/controls",
     "model_module_version": "1.5.0",
     "model_name": "ProgressStyleModel",
     "state": {
      "_model_module": "@jupyter-widgets/controls",
      "_model_module_version": "1.5.0",
      "_model_name": "ProgressStyleModel",
      "_view_count": null,
      "_view_module": "@jupyter-widgets/base",
      "_view_module_version": "1.2.0",
      "_view_name": "StyleView",
      "bar_color": null,
      "description_width": ""
     }
    },
    "8ed37f11405040a8bab128ff476a03a8": {
     "model_module": "@jupyter-widgets/controls",
     "model_module_version": "1.5.0",
     "model_name": "HBoxModel",
     "state": {
      "_dom_classes": [],
      "_model_module": "@jupyter-widgets/controls",
      "_model_module_version": "1.5.0",
      "_model_name": "HBoxModel",
      "_view_count": null,
      "_view_module": "@jupyter-widgets/controls",
      "_view_module_version": "1.5.0",
      "_view_name": "HBoxView",
      "box_style": "",
      "children": [
       "IPY_MODEL_7649dafbe12a4907b4b7769091332ddc",
       "IPY_MODEL_d08116bea0034f4dadf50366de0265a1",
       "IPY_MODEL_ec314a3e96fe404295cf640295178f89"
      ],
      "layout": "IPY_MODEL_b17be137f4dd46a7a16417eeab2fb966"
     }
    },
    "9c8baa500b9245c9b36b684cbbf5a3ed": {
     "model_module": "@jupyter-widgets/controls",
     "model_module_version": "1.5.0",
     "model_name": "DescriptionStyleModel",
     "state": {
      "_model_module": "@jupyter-widgets/controls",
      "_model_module_version": "1.5.0",
      "_model_name": "DescriptionStyleModel",
      "_view_count": null,
      "_view_module": "@jupyter-widgets/base",
      "_view_module_version": "1.2.0",
      "_view_name": "StyleView",
      "description_width": ""
     }
    },
    "a276e66faa204753bf98df3a4609dc65": {
     "model_module": "@jupyter-widgets/controls",
     "model_module_version": "1.5.0",
     "model_name": "FloatProgressModel",
     "state": {
      "_dom_classes": [],
      "_model_module": "@jupyter-widgets/controls",
      "_model_module_version": "1.5.0",
      "_model_name": "FloatProgressModel",
      "_view_count": null,
      "_view_module": "@jupyter-widgets/controls",
      "_view_module_version": "1.5.0",
      "_view_name": "ProgressView",
      "bar_style": "success",
      "description": "",
      "description_tooltip": null,
      "layout": "IPY_MODEL_19d1dc8f297f4450a068a9871832012b",
      "max": 466062,
      "min": 0,
      "orientation": "horizontal",
      "style": "IPY_MODEL_02810b9f6bf34390b3cb6efab5a4ab19",
      "value": 466062
     }
    },
    "a3848dd3091e42529458735e6d328a23": {
     "model_module": "@jupyter-widgets/base",
     "model_module_version": "1.2.0",
     "model_name": "LayoutModel",
     "state": {
      "_model_module": "@jupyter-widgets/base",
      "_model_module_version": "1.2.0",
      "_model_name": "LayoutModel",
      "_view_count": null,
      "_view_module": "@jupyter-widgets/base",
      "_view_module_version": "1.2.0",
      "_view_name": "LayoutView",
      "align_content": null,
      "align_items": null,
      "align_self": null,
      "border": null,
      "bottom": null,
      "display": null,
      "flex": null,
      "flex_flow": null,
      "grid_area": null,
      "grid_auto_columns": null,
      "grid_auto_flow": null,
      "grid_auto_rows": null,
      "grid_column": null,
      "grid_gap": null,
      "grid_row": null,
      "grid_template_areas": null,
      "grid_template_columns": null,
      "grid_template_rows": null,
      "height": null,
      "justify_content": null,
      "justify_items": null,
      "left": null,
      "margin": null,
      "max_height": null,
      "max_width": null,
      "min_height": null,
      "min_width": null,
      "object_fit": null,
      "object_position": null,
      "order": null,
      "overflow": null,
      "overflow_x": null,
      "overflow_y": null,
      "padding": null,
      "right": null,
      "top": null,
      "visibility": null,
      "width": null
     }
    },
    "a8b514fda72542acadd9e5215d4c977f": {
     "model_module": "@jupyter-widgets/controls",
     "model_module_version": "1.5.0",
     "model_name": "HTMLModel",
     "state": {
      "_dom_classes": [],
      "_model_module": "@jupyter-widgets/controls",
      "_model_module_version": "1.5.0",
      "_model_name": "HTMLModel",
      "_view_count": null,
      "_view_module": "@jupyter-widgets/controls",
      "_view_module_version": "1.5.0",
      "_view_name": "HTMLView",
      "description": "",
      "description_tooltip": null,
      "layout": "IPY_MODEL_b7c54951ea4244f388abd8bc423c4f1b",
      "placeholder": "​",
      "style": "IPY_MODEL_456708cddbda421fa45bdc7cabf65874",
      "value": " 455k/455k [00:00&lt;00:00, 944kB/s]"
     }
    },
    "ad75349454fe443fbeec7ef242e60913": {
     "model_module": "@jupyter-widgets/base",
     "model_module_version": "1.2.0",
     "model_name": "LayoutModel",
     "state": {
      "_model_module": "@jupyter-widgets/base",
      "_model_module_version": "1.2.0",
      "_model_name": "LayoutModel",
      "_view_count": null,
      "_view_module": "@jupyter-widgets/base",
      "_view_module_version": "1.2.0",
      "_view_name": "LayoutView",
      "align_content": null,
      "align_items": null,
      "align_self": null,
      "border": null,
      "bottom": null,
      "display": null,
      "flex": null,
      "flex_flow": null,
      "grid_area": null,
      "grid_auto_columns": null,
      "grid_auto_flow": null,
      "grid_auto_rows": null,
      "grid_column": null,
      "grid_gap": null,
      "grid_row": null,
      "grid_template_areas": null,
      "grid_template_columns": null,
      "grid_template_rows": null,
      "height": null,
      "justify_content": null,
      "justify_items": null,
      "left": null,
      "margin": null,
      "max_height": null,
      "max_width": null,
      "min_height": null,
      "min_width": null,
      "object_fit": null,
      "object_position": null,
      "order": null,
      "overflow": null,
      "overflow_x": null,
      "overflow_y": null,
      "padding": null,
      "right": null,
      "top": null,
      "visibility": null,
      "width": null
     }
    },
    "b17be137f4dd46a7a16417eeab2fb966": {
     "model_module": "@jupyter-widgets/base",
     "model_module_version": "1.2.0",
     "model_name": "LayoutModel",
     "state": {
      "_model_module": "@jupyter-widgets/base",
      "_model_module_version": "1.2.0",
      "_model_name": "LayoutModel",
      "_view_count": null,
      "_view_module": "@jupyter-widgets/base",
      "_view_module_version": "1.2.0",
      "_view_name": "LayoutView",
      "align_content": null,
      "align_items": null,
      "align_self": null,
      "border": null,
      "bottom": null,
      "display": null,
      "flex": null,
      "flex_flow": null,
      "grid_area": null,
      "grid_auto_columns": null,
      "grid_auto_flow": null,
      "grid_auto_rows": null,
      "grid_column": null,
      "grid_gap": null,
      "grid_row": null,
      "grid_template_areas": null,
      "grid_template_columns": null,
      "grid_template_rows": null,
      "height": null,
      "justify_content": null,
      "justify_items": null,
      "left": null,
      "margin": null,
      "max_height": null,
      "max_width": null,
      "min_height": null,
      "min_width": null,
      "object_fit": null,
      "object_position": null,
      "order": null,
      "overflow": null,
      "overflow_x": null,
      "overflow_y": null,
      "padding": null,
      "right": null,
      "top": null,
      "visibility": null,
      "width": null
     }
    },
    "b56c4293260646d192a43abaa2768733": {
     "model_module": "@jupyter-widgets/controls",
     "model_module_version": "1.5.0",
     "model_name": "DescriptionStyleModel",
     "state": {
      "_model_module": "@jupyter-widgets/controls",
      "_model_module_version": "1.5.0",
      "_model_name": "DescriptionStyleModel",
      "_view_count": null,
      "_view_module": "@jupyter-widgets/base",
      "_view_module_version": "1.2.0",
      "_view_name": "StyleView",
      "description_width": ""
     }
    },
    "b7c54951ea4244f388abd8bc423c4f1b": {
     "model_module": "@jupyter-widgets/base",
     "model_module_version": "1.2.0",
     "model_name": "LayoutModel",
     "state": {
      "_model_module": "@jupyter-widgets/base",
      "_model_module_version": "1.2.0",
      "_model_name": "LayoutModel",
      "_view_count": null,
      "_view_module": "@jupyter-widgets/base",
      "_view_module_version": "1.2.0",
      "_view_name": "LayoutView",
      "align_content": null,
      "align_items": null,
      "align_self": null,
      "border": null,
      "bottom": null,
      "display": null,
      "flex": null,
      "flex_flow": null,
      "grid_area": null,
      "grid_auto_columns": null,
      "grid_auto_flow": null,
      "grid_auto_rows": null,
      "grid_column": null,
      "grid_gap": null,
      "grid_row": null,
      "grid_template_areas": null,
      "grid_template_columns": null,
      "grid_template_rows": null,
      "height": null,
      "justify_content": null,
      "justify_items": null,
      "left": null,
      "margin": null,
      "max_height": null,
      "max_width": null,
      "min_height": null,
      "min_width": null,
      "object_fit": null,
      "object_position": null,
      "order": null,
      "overflow": null,
      "overflow_x": null,
      "overflow_y": null,
      "padding": null,
      "right": null,
      "top": null,
      "visibility": null,
      "width": null
     }
    },
    "ba2f1c1b5b74470c965f5d1c8f812de1": {
     "model_module": "@jupyter-widgets/controls",
     "model_module_version": "1.5.0",
     "model_name": "FloatProgressModel",
     "state": {
      "_dom_classes": [],
      "_model_module": "@jupyter-widgets/controls",
      "_model_module_version": "1.5.0",
      "_model_name": "FloatProgressModel",
      "_view_count": null,
      "_view_module": "@jupyter-widgets/controls",
      "_view_module_version": "1.5.0",
      "_view_name": "ProgressView",
      "bar_style": "success",
      "description": "",
      "description_tooltip": null,
      "layout": "IPY_MODEL_34ff4dacb06d4b2e95412a7c4f37a941",
      "max": 28,
      "min": 0,
      "orientation": "horizontal",
      "style": "IPY_MODEL_12303d0e90474b8f89cd1c5ee6374f22",
      "value": 28
     }
    },
    "baabb0f0935846c3acfc22f95d62e634": {
     "model_module": "@jupyter-widgets/controls",
     "model_module_version": "1.5.0",
     "model_name": "HBoxModel",
     "state": {
      "_dom_classes": [],
      "_model_module": "@jupyter-widgets/controls",
      "_model_module_version": "1.5.0",
      "_model_name": "HBoxModel",
      "_view_count": null,
      "_view_module": "@jupyter-widgets/controls",
      "_view_module_version": "1.5.0",
      "_view_name": "HBoxView",
      "box_style": "",
      "children": [
       "IPY_MODEL_e445bde77aca4287b2337c2fa9245f45",
       "IPY_MODEL_a276e66faa204753bf98df3a4609dc65",
       "IPY_MODEL_a8b514fda72542acadd9e5215d4c977f"
      ],
      "layout": "IPY_MODEL_1f5c760eb57c4b2a946c5c90fe3b19f6"
     }
    },
    "be43d194b5834fff864ac31d06ab1ea6": {
     "model_module": "@jupyter-widgets/controls",
     "model_module_version": "1.5.0",
     "model_name": "HTMLModel",
     "state": {
      "_dom_classes": [],
      "_model_module": "@jupyter-widgets/controls",
      "_model_module_version": "1.5.0",
      "_model_name": "HTMLModel",
      "_view_count": null,
      "_view_module": "@jupyter-widgets/controls",
      "_view_module_version": "1.5.0",
      "_view_name": "HTMLView",
      "description": "",
      "description_tooltip": null,
      "layout": "IPY_MODEL_19ac452e428d47b887d2630108f5097f",
      "placeholder": "​",
      "style": "IPY_MODEL_05ce1ea6e6634fecab2e33cde9f3db40",
      "value": "Downloading: 100%"
     }
    },
    "c2aa6ff5f53d4e769c318252ece81958": {
     "model_module": "@jupyter-widgets/controls",
     "model_module_version": "1.5.0",
     "model_name": "FloatProgressModel",
     "state": {
      "_dom_classes": [],
      "_model_module": "@jupyter-widgets/controls",
      "_model_module_version": "1.5.0",
      "_model_name": "FloatProgressModel",
      "_view_count": null,
      "_view_module": "@jupyter-widgets/controls",
      "_view_module_version": "1.5.0",
      "_view_name": "ProgressView",
      "bar_style": "success",
      "description": "",
      "description_tooltip": null,
      "layout": "IPY_MODEL_12aa5e724ff94f14ac596028b9f95d02",
      "max": 1344997306,
      "min": 0,
      "orientation": "horizontal",
      "style": "IPY_MODEL_8c0c0cd7c4ba4dc7ace2a43cb6f7d8d7",
      "value": 1344997306
     }
    },
    "c42a0efb64314c738d9bbb1d953ca4c9": {
     "model_module": "@jupyter-widgets/controls",
     "model_module_version": "1.5.0",
     "model_name": "DescriptionStyleModel",
     "state": {
      "_model_module": "@jupyter-widgets/controls",
      "_model_module_version": "1.5.0",
      "_model_name": "DescriptionStyleModel",
      "_view_count": null,
      "_view_module": "@jupyter-widgets/base",
      "_view_module_version": "1.2.0",
      "_view_name": "StyleView",
      "description_width": ""
     }
    },
    "c6359967c71b4fc59fbc1a4fb7e2d308": {
     "model_module": "@jupyter-widgets/controls",
     "model_module_version": "1.5.0",
     "model_name": "HTMLModel",
     "state": {
      "_dom_classes": [],
      "_model_module": "@jupyter-widgets/controls",
      "_model_module_version": "1.5.0",
      "_model_name": "HTMLModel",
      "_view_count": null,
      "_view_module": "@jupyter-widgets/controls",
      "_view_module_version": "1.5.0",
      "_view_name": "HTMLView",
      "description": "",
      "description_tooltip": null,
      "layout": "IPY_MODEL_818404dbe7c6487e9b4be15b84de3b52",
      "placeholder": "​",
      "style": "IPY_MODEL_e5f5c7038079442696c264e196019a62",
      "value": "Downloading: 100%"
     }
    },
    "c6a2de835d8944d39efe0018e75b4f41": {
     "model_module": "@jupyter-widgets/controls",
     "model_module_version": "1.5.0",
     "model_name": "DescriptionStyleModel",
     "state": {
      "_model_module": "@jupyter-widgets/controls",
      "_model_module_version": "1.5.0",
      "_model_name": "DescriptionStyleModel",
      "_view_count": null,
      "_view_module": "@jupyter-widgets/base",
      "_view_module_version": "1.2.0",
      "_view_name": "StyleView",
      "description_width": ""
     }
    },
    "cfdf0dbb638c4a76b4625ce79ff89cc3": {
     "model_module": "@jupyter-widgets/base",
     "model_module_version": "1.2.0",
     "model_name": "LayoutModel",
     "state": {
      "_model_module": "@jupyter-widgets/base",
      "_model_module_version": "1.2.0",
      "_model_name": "LayoutModel",
      "_view_count": null,
      "_view_module": "@jupyter-widgets/base",
      "_view_module_version": "1.2.0",
      "_view_name": "LayoutView",
      "align_content": null,
      "align_items": null,
      "align_self": null,
      "border": null,
      "bottom": null,
      "display": null,
      "flex": null,
      "flex_flow": null,
      "grid_area": null,
      "grid_auto_columns": null,
      "grid_auto_flow": null,
      "grid_auto_rows": null,
      "grid_column": null,
      "grid_gap": null,
      "grid_row": null,
      "grid_template_areas": null,
      "grid_template_columns": null,
      "grid_template_rows": null,
      "height": null,
      "justify_content": null,
      "justify_items": null,
      "left": null,
      "margin": null,
      "max_height": null,
      "max_width": null,
      "min_height": null,
      "min_width": null,
      "object_fit": null,
      "object_position": null,
      "order": null,
      "overflow": null,
      "overflow_x": null,
      "overflow_y": null,
      "padding": null,
      "right": null,
      "top": null,
      "visibility": null,
      "width": null
     }
    },
    "d08116bea0034f4dadf50366de0265a1": {
     "model_module": "@jupyter-widgets/controls",
     "model_module_version": "1.5.0",
     "model_name": "FloatProgressModel",
     "state": {
      "_dom_classes": [],
      "_model_module": "@jupyter-widgets/controls",
      "_model_module_version": "1.5.0",
      "_model_name": "FloatProgressModel",
      "_view_count": null,
      "_view_module": "@jupyter-widgets/controls",
      "_view_module_version": "1.5.0",
      "_view_name": "ProgressView",
      "bar_style": "success",
      "description": "",
      "description_tooltip": null,
      "layout": "IPY_MODEL_466c3fa87b984507bf3021fe78c010ea",
      "max": 231508,
      "min": 0,
      "orientation": "horizontal",
      "style": "IPY_MODEL_8e55f879c70e422993f271745330ebf0",
      "value": 231508
     }
    },
    "d6f8ef2794e54cba984ddb34ce225d57": {
     "model_module": "@jupyter-widgets/controls",
     "model_module_version": "1.5.0",
     "model_name": "DescriptionStyleModel",
     "state": {
      "_model_module": "@jupyter-widgets/controls",
      "_model_module_version": "1.5.0",
      "_model_name": "DescriptionStyleModel",
      "_view_count": null,
      "_view_module": "@jupyter-widgets/base",
      "_view_module_version": "1.2.0",
      "_view_name": "StyleView",
      "description_width": ""
     }
    },
    "dab0be5d18c840af9265c2c7c057d6b2": {
     "model_module": "@jupyter-widgets/controls",
     "model_module_version": "1.5.0",
     "model_name": "HTMLModel",
     "state": {
      "_dom_classes": [],
      "_model_module": "@jupyter-widgets/controls",
      "_model_module_version": "1.5.0",
      "_model_name": "HTMLModel",
      "_view_count": null,
      "_view_module": "@jupyter-widgets/controls",
      "_view_module_version": "1.5.0",
      "_view_name": "HTMLView",
      "description": "",
      "description_tooltip": null,
      "layout": "IPY_MODEL_739583bd916f40b2b763852a067d563e",
      "placeholder": "​",
      "style": "IPY_MODEL_b56c4293260646d192a43abaa2768733",
      "value": "Downloading: 100%"
     }
    },
    "e013f26fec0a43cf85f0b4a274055106": {
     "model_module": "@jupyter-widgets/controls",
     "model_module_version": "1.5.0",
     "model_name": "HBoxModel",
     "state": {
      "_dom_classes": [],
      "_model_module": "@jupyter-widgets/controls",
      "_model_module_version": "1.5.0",
      "_model_name": "HBoxModel",
      "_view_count": null,
      "_view_module": "@jupyter-widgets/controls",
      "_view_module_version": "1.5.0",
      "_view_name": "HBoxView",
      "box_style": "",
      "children": [
       "IPY_MODEL_be43d194b5834fff864ac31d06ab1ea6",
       "IPY_MODEL_c2aa6ff5f53d4e769c318252ece81958",
       "IPY_MODEL_ea450ebccdaa494ea1127ed2bf8ea2af"
      ],
      "layout": "IPY_MODEL_899e849dbba84101ae48fa92dd129c90"
     }
    },
    "e2230dfc48cb4586aea3083a88d7d229": {
     "model_module": "@jupyter-widgets/controls",
     "model_module_version": "1.5.0",
     "model_name": "ProgressStyleModel",
     "state": {
      "_model_module": "@jupyter-widgets/controls",
      "_model_module_version": "1.5.0",
      "_model_name": "ProgressStyleModel",
      "_view_count": null,
      "_view_module": "@jupyter-widgets/base",
      "_view_module_version": "1.2.0",
      "_view_name": "StyleView",
      "bar_color": null,
      "description_width": ""
     }
    },
    "e445bde77aca4287b2337c2fa9245f45": {
     "model_module": "@jupyter-widgets/controls",
     "model_module_version": "1.5.0",
     "model_name": "HTMLModel",
     "state": {
      "_dom_classes": [],
      "_model_module": "@jupyter-widgets/controls",
      "_model_module_version": "1.5.0",
      "_model_name": "HTMLModel",
      "_view_count": null,
      "_view_module": "@jupyter-widgets/controls",
      "_view_module_version": "1.5.0",
      "_view_name": "HTMLView",
      "description": "",
      "description_tooltip": null,
      "layout": "IPY_MODEL_a3848dd3091e42529458735e6d328a23",
      "placeholder": "​",
      "style": "IPY_MODEL_721631690e7e46c0a1f4ea427d53f789",
      "value": "Downloading: 100%"
     }
    },
    "e5f5c7038079442696c264e196019a62": {
     "model_module": "@jupyter-widgets/controls",
     "model_module_version": "1.5.0",
     "model_name": "DescriptionStyleModel",
     "state": {
      "_model_module": "@jupyter-widgets/controls",
      "_model_module_version": "1.5.0",
      "_model_name": "DescriptionStyleModel",
      "_view_count": null,
      "_view_module": "@jupyter-widgets/base",
      "_view_module_version": "1.2.0",
      "_view_name": "StyleView",
      "description_width": ""
     }
    },
    "ea450ebccdaa494ea1127ed2bf8ea2af": {
     "model_module": "@jupyter-widgets/controls",
     "model_module_version": "1.5.0",
     "model_name": "HTMLModel",
     "state": {
      "_dom_classes": [],
      "_model_module": "@jupyter-widgets/controls",
      "_model_module_version": "1.5.0",
      "_model_name": "HTMLModel",
      "_view_count": null,
      "_view_module": "@jupyter-widgets/controls",
      "_view_module_version": "1.5.0",
      "_view_name": "HTMLView",
      "description": "",
      "description_tooltip": null,
      "layout": "IPY_MODEL_cfdf0dbb638c4a76b4625ce79ff89cc3",
      "placeholder": "​",
      "style": "IPY_MODEL_d6f8ef2794e54cba984ddb34ce225d57",
      "value": " 1.25G/1.25G [00:37&lt;00:00, 46.0MB/s]"
     }
    },
    "ec314a3e96fe404295cf640295178f89": {
     "model_module": "@jupyter-widgets/controls",
     "model_module_version": "1.5.0",
     "model_name": "HTMLModel",
     "state": {
      "_dom_classes": [],
      "_model_module": "@jupyter-widgets/controls",
      "_model_module_version": "1.5.0",
      "_model_name": "HTMLModel",
      "_view_count": null,
      "_view_module": "@jupyter-widgets/controls",
      "_view_module_version": "1.5.0",
      "_view_name": "HTMLView",
      "description": "",
      "description_tooltip": null,
      "layout": "IPY_MODEL_160767dd2aad4b40a86ba77a4376b7cb",
      "placeholder": "​",
      "style": "IPY_MODEL_9c8baa500b9245c9b36b684cbbf5a3ed",
      "value": " 226k/226k [00:00&lt;00:00, 949kB/s]"
     }
    },
    "ef5138d440b541d98b7cf34ddd9dad60": {
     "model_module": "@jupyter-widgets/controls",
     "model_module_version": "1.5.0",
     "model_name": "HTMLModel",
     "state": {
      "_dom_classes": [],
      "_model_module": "@jupyter-widgets/controls",
      "_model_module_version": "1.5.0",
      "_model_name": "HTMLModel",
      "_view_count": null,
      "_view_module": "@jupyter-widgets/controls",
      "_view_module_version": "1.5.0",
      "_view_name": "HTMLView",
      "description": "",
      "description_tooltip": null,
      "layout": "IPY_MODEL_502680fd85d7492483512664dd73050b",
      "placeholder": "​",
      "style": "IPY_MODEL_c42a0efb64314c738d9bbb1d953ca4c9",
      "value": " 28.0/28.0 [00:00&lt;00:00, 593B/s]"
     }
    },
    "f91f0d74db6943a888aec331557f1605": {
     "model_module": "@jupyter-widgets/base",
     "model_module_version": "1.2.0",
     "model_name": "LayoutModel",
     "state": {
      "_model_module": "@jupyter-widgets/base",
      "_model_module_version": "1.2.0",
      "_model_name": "LayoutModel",
      "_view_count": null,
      "_view_module": "@jupyter-widgets/base",
      "_view_module_version": "1.2.0",
      "_view_name": "LayoutView",
      "align_content": null,
      "align_items": null,
      "align_self": null,
      "border": null,
      "bottom": null,
      "display": null,
      "flex": null,
      "flex_flow": null,
      "grid_area": null,
      "grid_auto_columns": null,
      "grid_auto_flow": null,
      "grid_auto_rows": null,
      "grid_column": null,
      "grid_gap": null,
      "grid_row": null,
      "grid_template_areas": null,
      "grid_template_columns": null,
      "grid_template_rows": null,
      "height": null,
      "justify_content": null,
      "justify_items": null,
      "left": null,
      "margin": null,
      "max_height": null,
      "max_width": null,
      "min_height": null,
      "min_width": null,
      "object_fit": null,
      "object_position": null,
      "order": null,
      "overflow": null,
      "overflow_x": null,
      "overflow_y": null,
      "padding": null,
      "right": null,
      "top": null,
      "visibility": null,
      "width": null
     }
    }
   }
  }
 },
 "nbformat": 4,
 "nbformat_minor": 5
}
